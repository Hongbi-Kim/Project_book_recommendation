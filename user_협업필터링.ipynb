{
 "cells": [
  {
   "cell_type": "code",
   "execution_count": 1,
   "id": "4b9d0f28",
   "metadata": {},
   "outputs": [],
   "source": [
    "import pandas as pd\n",
    "import numpy as np\n",
    "import pickle"
   ]
  },
  {
   "cell_type": "code",
   "execution_count": 37,
   "id": "91f10b8b",
   "metadata": {},
   "outputs": [],
   "source": [
    "user = pd.read_pickle('users_final.pkl')"
   ]
  },
  {
   "cell_type": "code",
   "execution_count": 28,
   "id": "b91d7c3a",
   "metadata": {},
   "outputs": [
    {
     "name": "stdout",
     "output_type": "stream",
     "text": [
      "<class 'pandas.core.frame.DataFrame'>\n",
      "Int64Index: 47492 entries, 0 to 51383\n",
      "Data columns (total 7 columns):\n",
      " #   Column           Non-Null Count  Dtype \n",
      "---  ------           --------------  ----- \n",
      " 0   isbn             47492 non-null  object\n",
      " 1   rank_mean        47492 non-null  object\n",
      " 2   rank_percentage  47492 non-null  object\n",
      " 3   review_title     47492 non-null  object\n",
      " 4   review_id        47492 non-null  object\n",
      " 5   review_rank      47492 non-null  object\n",
      " 6   review_text      47492 non-null  object\n",
      "dtypes: object(7)\n",
      "memory usage: 2.9+ MB\n"
     ]
    }
   ],
   "source": [
    "user.info()"
   ]
  },
  {
   "cell_type": "code",
   "execution_count": 29,
   "id": "2ce9fd4b",
   "metadata": {},
   "outputs": [
    {
     "data": {
      "text/plain": [
       "0"
      ]
     },
     "execution_count": 29,
     "metadata": {},
     "output_type": "execute_result"
    }
   ],
   "source": [
    "user.isbn.duplicated().sum()"
   ]
  },
  {
   "cell_type": "code",
   "execution_count": 30,
   "id": "aabd33df",
   "metadata": {},
   "outputs": [
    {
     "data": {
      "text/plain": [
       "Index(['isbn', 'rank_mean', 'rank_percentage', 'review_title', 'review_id',\n",
       "       'review_rank', 'review_text'],\n",
       "      dtype='object')"
      ]
     },
     "execution_count": 30,
     "metadata": {},
     "output_type": "execute_result"
    }
   ],
   "source": [
    "user.columns"
   ]
  },
  {
   "cell_type": "code",
   "execution_count": 38,
   "id": "aa288c98",
   "metadata": {},
   "outputs": [
    {
     "data": {
      "text/html": [
       "<div>\n",
       "<style scoped>\n",
       "    .dataframe tbody tr th:only-of-type {\n",
       "        vertical-align: middle;\n",
       "    }\n",
       "\n",
       "    .dataframe tbody tr th {\n",
       "        vertical-align: top;\n",
       "    }\n",
       "\n",
       "    .dataframe thead th {\n",
       "        text-align: right;\n",
       "    }\n",
       "</style>\n",
       "<table border=\"1\" class=\"dataframe\">\n",
       "  <thead>\n",
       "    <tr style=\"text-align: right;\">\n",
       "      <th></th>\n",
       "      <th>isbn</th>\n",
       "      <th>title</th>\n",
       "      <th>categoryName</th>\n",
       "      <th>salesPoint</th>\n",
       "      <th>adult</th>\n",
       "      <th>rank</th>\n",
       "      <th>genres</th>\n",
       "      <th>mood</th>\n",
       "      <th>interest</th>\n",
       "    </tr>\n",
       "  </thead>\n",
       "  <tbody>\n",
       "    <tr>\n",
       "      <th>198</th>\n",
       "      <td>9791165341909</td>\n",
       "      <td>달러구트 꿈 백화점 (50만 부 기념 드림 에디션) - 주문하신 꿈은 매진입니다</td>\n",
       "      <td>소설</td>\n",
       "      <td>379054</td>\n",
       "      <td>False</td>\n",
       "      <td>8</td>\n",
       "      <td>[역사, 동화, 로맨스, 미스터리, 판타지, 무협]</td>\n",
       "      <td>[행복, 위로]</td>\n",
       "      <td>[일기, 동물, 사랑, 생각, 진로, 설득]</td>\n",
       "    </tr>\n",
       "    <tr>\n",
       "      <th>559</th>\n",
       "      <td>9791161571188</td>\n",
       "      <td>불편한 편의점 (40만부 기념 벚꽃 에디션)</td>\n",
       "      <td>소설</td>\n",
       "      <td>330837</td>\n",
       "      <td>False</td>\n",
       "      <td>10</td>\n",
       "      <td>[시대, 동화]</td>\n",
       "      <td>[위로, 힐링, 행복]</td>\n",
       "      <td>[시간, 심리, 관계, 사랑, 생각]</td>\n",
       "    </tr>\n",
       "  </tbody>\n",
       "</table>\n",
       "</div>"
      ],
      "text/plain": [
       "              isbn                                         title categoryName  \\\n",
       "198  9791165341909  달러구트 꿈 백화점 (50만 부 기념 드림 에디션) - 주문하신 꿈은 매진입니다           소설   \n",
       "559  9791161571188                      불편한 편의점 (40만부 기념 벚꽃 에디션)           소설   \n",
       "\n",
       "     salesPoint  adult  rank                        genres          mood  \\\n",
       "198      379054  False     8  [역사, 동화, 로맨스, 미스터리, 판타지, 무협]      [행복, 위로]   \n",
       "559      330837  False    10                      [시대, 동화]  [위로, 힐링, 행복]   \n",
       "\n",
       "                     interest  \n",
       "198  [일기, 동물, 사랑, 생각, 진로, 설득]  \n",
       "559      [시간, 심리, 관계, 사랑, 생각]  "
      ]
     },
     "execution_count": 38,
     "metadata": {},
     "output_type": "execute_result"
    }
   ],
   "source": [
    "re = pd.read_pickle('recommend_cat_new.pkl')\n",
    "re.head(2)"
   ]
  },
  {
   "cell_type": "code",
   "execution_count": 39,
   "id": "071c2b21",
   "metadata": {},
   "outputs": [
    {
     "data": {
      "text/html": [
       "<div>\n",
       "<style scoped>\n",
       "    .dataframe tbody tr th:only-of-type {\n",
       "        vertical-align: middle;\n",
       "    }\n",
       "\n",
       "    .dataframe tbody tr th {\n",
       "        vertical-align: top;\n",
       "    }\n",
       "\n",
       "    .dataframe thead th {\n",
       "        text-align: right;\n",
       "    }\n",
       "</style>\n",
       "<table border=\"1\" class=\"dataframe\">\n",
       "  <thead>\n",
       "    <tr style=\"text-align: right;\">\n",
       "      <th></th>\n",
       "      <th>isbn</th>\n",
       "      <th>title</th>\n",
       "      <th>categoryName</th>\n",
       "      <th>salesPoint</th>\n",
       "      <th>adult</th>\n",
       "      <th>rank</th>\n",
       "      <th>genres</th>\n",
       "      <th>mood</th>\n",
       "      <th>interest</th>\n",
       "      <th>rank_mean</th>\n",
       "      <th>rank_percentage</th>\n",
       "      <th>review_title</th>\n",
       "      <th>review_id</th>\n",
       "      <th>review_rank</th>\n",
       "      <th>review_text</th>\n",
       "    </tr>\n",
       "  </thead>\n",
       "  <tbody>\n",
       "    <tr>\n",
       "      <th>0</th>\n",
       "      <td>9791165341909</td>\n",
       "      <td>달러구트 꿈 백화점 (50만 부 기념 드림 에디션) - 주문하신 꿈은 매진입니다</td>\n",
       "      <td>소설</td>\n",
       "      <td>379054</td>\n",
       "      <td>False</td>\n",
       "      <td>8</td>\n",
       "      <td>[역사, 동화, 로맨스, 미스터리, 판타지, 무협]</td>\n",
       "      <td>[행복, 위로]</td>\n",
       "      <td>[일기, 동물, 사랑, 생각, 진로, 설득]</td>\n",
       "      <td>[9.2]</td>\n",
       "      <td>[78%, 17%, 3%, 1%, 1%]</td>\n",
       "      <td>[달러구트 꿈 백화점_ 당신은 오늘 어떤 꿈을 꾸고 싶나요?, 마케팅의 승리책., ...</td>\n",
       "      <td>[2****a, s*****y, g*******7, g*******g, 이****이...</td>\n",
       "      <td>[5점, 1점, 1점, 4점, 1점, 1점, 2점, 4점, 4점, 2점]</td>\n",
       "      <td>[\\n\\n \\n \\n \\n \\n꿈을 꿀 수 있다는 건 행복한 거야!\\n따뜻하고 감동...</td>\n",
       "    </tr>\n",
       "    <tr>\n",
       "      <th>1</th>\n",
       "      <td>9791161571188</td>\n",
       "      <td>불편한 편의점 (40만부 기념 벚꽃 에디션)</td>\n",
       "      <td>소설</td>\n",
       "      <td>330837</td>\n",
       "      <td>False</td>\n",
       "      <td>10</td>\n",
       "      <td>[시대, 동화]</td>\n",
       "      <td>[위로, 힐링, 행복]</td>\n",
       "      <td>[시간, 심리, 관계, 사랑, 생각]</td>\n",
       "      <td>[9.2]</td>\n",
       "      <td>[74%, 20%, 5%, 1%, 1%]</td>\n",
       "      <td>[불편한 편의점, 불편하지만 자꾸 가고 싶은 편의점, 따듯한 편의점, 우리의 또다른...</td>\n",
       "      <td>[부***주, g*******g, n***8, J*y, 꿈*******자, 해**이...</td>\n",
       "      <td>[4점, 5점, 4점, 4점, 4점, 5점, 5점, 1점, 5점, 5점]</td>\n",
       "      <td>[\\n이상하다가 좋아진 기분나미야잡화점의 기적을 조금 떠올리게 만드는 작품아들이 팔...</td>\n",
       "    </tr>\n",
       "  </tbody>\n",
       "</table>\n",
       "</div>"
      ],
      "text/plain": [
       "            isbn                                         title categoryName  \\\n",
       "0  9791165341909  달러구트 꿈 백화점 (50만 부 기념 드림 에디션) - 주문하신 꿈은 매진입니다           소설   \n",
       "1  9791161571188                      불편한 편의점 (40만부 기념 벚꽃 에디션)           소설   \n",
       "\n",
       "   salesPoint  adult  rank                        genres          mood  \\\n",
       "0      379054  False     8  [역사, 동화, 로맨스, 미스터리, 판타지, 무협]      [행복, 위로]   \n",
       "1      330837  False    10                      [시대, 동화]  [위로, 힐링, 행복]   \n",
       "\n",
       "                   interest rank_mean         rank_percentage  \\\n",
       "0  [일기, 동물, 사랑, 생각, 진로, 설득]     [9.2]  [78%, 17%, 3%, 1%, 1%]   \n",
       "1      [시간, 심리, 관계, 사랑, 생각]     [9.2]  [74%, 20%, 5%, 1%, 1%]   \n",
       "\n",
       "                                        review_title  \\\n",
       "0  [달러구트 꿈 백화점_ 당신은 오늘 어떤 꿈을 꾸고 싶나요?, 마케팅의 승리책., ...   \n",
       "1  [불편한 편의점, 불편하지만 자꾸 가고 싶은 편의점, 따듯한 편의점, 우리의 또다른...   \n",
       "\n",
       "                                           review_id  \\\n",
       "0  [2****a, s*****y, g*******7, g*******g, 이****이...   \n",
       "1  [부***주, g*******g, n***8, J*y, 꿈*******자, 해**이...   \n",
       "\n",
       "                                review_rank  \\\n",
       "0  [5점, 1점, 1점, 4점, 1점, 1점, 2점, 4점, 4점, 2점]   \n",
       "1  [4점, 5점, 4점, 4점, 4점, 5점, 5점, 1점, 5점, 5점]   \n",
       "\n",
       "                                         review_text  \n",
       "0  [\\n\\n \\n \\n \\n \\n꿈을 꿀 수 있다는 건 행복한 거야!\\n따뜻하고 감동...  \n",
       "1  [\\n이상하다가 좋아진 기분나미야잡화점의 기적을 조금 떠올리게 만드는 작품아들이 팔...  "
      ]
     },
     "execution_count": 39,
     "metadata": {},
     "output_type": "execute_result"
    }
   ],
   "source": [
    "re = pd.merge(re, user,how = 'left', on = 'isbn')\n",
    "re.head(2)"
   ]
  },
  {
   "cell_type": "code",
   "execution_count": 40,
   "id": "ca6500b8",
   "metadata": {},
   "outputs": [
    {
     "data": {
      "text/html": [
       "<div>\n",
       "<style scoped>\n",
       "    .dataframe tbody tr th:only-of-type {\n",
       "        vertical-align: middle;\n",
       "    }\n",
       "\n",
       "    .dataframe tbody tr th {\n",
       "        vertical-align: top;\n",
       "    }\n",
       "\n",
       "    .dataframe thead th {\n",
       "        text-align: right;\n",
       "    }\n",
       "</style>\n",
       "<table border=\"1\" class=\"dataframe\">\n",
       "  <thead>\n",
       "    <tr style=\"text-align: right;\">\n",
       "      <th></th>\n",
       "      <th>isbn</th>\n",
       "      <th>title</th>\n",
       "      <th>categoryName</th>\n",
       "      <th>salesPoint</th>\n",
       "      <th>adult</th>\n",
       "      <th>rank</th>\n",
       "      <th>genres</th>\n",
       "      <th>mood</th>\n",
       "      <th>interest</th>\n",
       "      <th>rank_mean</th>\n",
       "      <th>rank_percentage</th>\n",
       "      <th>review_title</th>\n",
       "      <th>review_id</th>\n",
       "      <th>review_rank</th>\n",
       "      <th>review_text</th>\n",
       "    </tr>\n",
       "  </thead>\n",
       "  <tbody>\n",
       "    <tr>\n",
       "      <th>54372</th>\n",
       "      <td>9791188519354</td>\n",
       "      <td>서번트 리더의 품격</td>\n",
       "      <td>자기계발</td>\n",
       "      <td>0</td>\n",
       "      <td>False</td>\n",
       "      <td>0</td>\n",
       "      <td>[]</td>\n",
       "      <td>[행복, 도전, 열망]</td>\n",
       "      <td>[리더십, 생각, 성공, 인생]</td>\n",
       "      <td>[]</td>\n",
       "      <td>[]</td>\n",
       "      <td>[]</td>\n",
       "      <td>[]</td>\n",
       "      <td>[]</td>\n",
       "      <td>[]</td>\n",
       "    </tr>\n",
       "    <tr>\n",
       "      <th>54373</th>\n",
       "      <td>9791190710350</td>\n",
       "      <td>오만과 편견</td>\n",
       "      <td>소설</td>\n",
       "      <td>0</td>\n",
       "      <td>False</td>\n",
       "      <td>0</td>\n",
       "      <td>[시대, 동화]</td>\n",
       "      <td>[도전, 열정, 행복]</td>\n",
       "      <td>[사랑, 심리, 인간, 인생, 청춘, 관계, 페미니즘, 생각, 일상]</td>\n",
       "      <td>[10.0]</td>\n",
       "      <td>[100%, 0%, 0%, 0%, 0%]</td>\n",
       "      <td>[오만과 편견]</td>\n",
       "      <td>[할**장]</td>\n",
       "      <td>[5점]</td>\n",
       "      <td>[\\n\\n \\n오만과 편견은 1813년 출판된 이래 한국에도 여러 출판사를 통해 번...</td>\n",
       "    </tr>\n",
       "  </tbody>\n",
       "</table>\n",
       "</div>"
      ],
      "text/plain": [
       "                isbn       title categoryName  salesPoint  adult  rank  \\\n",
       "54372  9791188519354  서번트 리더의 품격         자기계발           0  False     0   \n",
       "54373  9791190710350      오만과 편견           소설           0  False     0   \n",
       "\n",
       "         genres          mood                                interest  \\\n",
       "54372        []  [행복, 도전, 열망]                       [리더십, 생각, 성공, 인생]   \n",
       "54373  [시대, 동화]  [도전, 열정, 행복]  [사랑, 심리, 인간, 인생, 청춘, 관계, 페미니즘, 생각, 일상]   \n",
       "\n",
       "      rank_mean         rank_percentage review_title review_id review_rank  \\\n",
       "54372        []                      []           []        []          []   \n",
       "54373    [10.0]  [100%, 0%, 0%, 0%, 0%]     [오만과 편견]    [할**장]        [5점]   \n",
       "\n",
       "                                             review_text  \n",
       "54372                                                 []  \n",
       "54373  [\\n\\n \\n오만과 편견은 1813년 출판된 이래 한국에도 여러 출판사를 통해 번...  "
      ]
     },
     "execution_count": 40,
     "metadata": {},
     "output_type": "execute_result"
    }
   ],
   "source": [
    "re.tail(2)"
   ]
  },
  {
   "cell_type": "code",
   "execution_count": 33,
   "id": "d9ef4abe",
   "metadata": {
    "scrolled": true
   },
   "outputs": [
    {
     "name": "stderr",
     "output_type": "stream",
     "text": [
      "<ipython-input-33-f911e7ab426a>:2: SettingWithCopyWarning: \n",
      "A value is trying to be set on a copy of a slice from a DataFrame\n",
      "\n",
      "See the caveats in the documentation: https://pandas.pydata.org/pandas-docs/stable/user_guide/indexing.html#returning-a-view-versus-a-copy\n",
      "  re['rank_mean'][i] =re['rank_mean'][i][0]\n"
     ]
    },
    {
     "ename": "IndexError",
     "evalue": "list index out of range",
     "output_type": "error",
     "traceback": [
      "\u001b[1;31m---------------------------------------------------------------------------\u001b[0m",
      "\u001b[1;31mIndexError\u001b[0m                                Traceback (most recent call last)",
      "\u001b[1;32m<ipython-input-33-f911e7ab426a>\u001b[0m in \u001b[0;36m<module>\u001b[1;34m\u001b[0m\n\u001b[0;32m      1\u001b[0m \u001b[1;32mfor\u001b[0m \u001b[0mi\u001b[0m \u001b[1;32min\u001b[0m \u001b[0mrange\u001b[0m\u001b[1;33m(\u001b[0m\u001b[0mlen\u001b[0m\u001b[1;33m(\u001b[0m\u001b[0mre\u001b[0m\u001b[1;33m)\u001b[0m\u001b[1;33m)\u001b[0m\u001b[1;33m:\u001b[0m\u001b[1;33m\u001b[0m\u001b[1;33m\u001b[0m\u001b[0m\n\u001b[1;32m----> 2\u001b[1;33m     \u001b[0mre\u001b[0m\u001b[1;33m[\u001b[0m\u001b[1;34m'rank_mean'\u001b[0m\u001b[1;33m]\u001b[0m\u001b[1;33m[\u001b[0m\u001b[0mi\u001b[0m\u001b[1;33m]\u001b[0m \u001b[1;33m=\u001b[0m\u001b[0mre\u001b[0m\u001b[1;33m[\u001b[0m\u001b[1;34m'rank_mean'\u001b[0m\u001b[1;33m]\u001b[0m\u001b[1;33m[\u001b[0m\u001b[0mi\u001b[0m\u001b[1;33m]\u001b[0m\u001b[1;33m[\u001b[0m\u001b[1;36m0\u001b[0m\u001b[1;33m]\u001b[0m\u001b[1;33m\u001b[0m\u001b[1;33m\u001b[0m\u001b[0m\n\u001b[0m",
      "\u001b[1;31mIndexError\u001b[0m: list index out of range"
     ]
    }
   ],
   "source": [
    "re['rank_mean'] =re['rank_mean'][0]"
   ]
  },
  {
   "cell_type": "code",
   "execution_count": 42,
   "id": "44ce06e4",
   "metadata": {},
   "outputs": [
    {
     "data": {
      "text/html": [
       "<div>\n",
       "<style scoped>\n",
       "    .dataframe tbody tr th:only-of-type {\n",
       "        vertical-align: middle;\n",
       "    }\n",
       "\n",
       "    .dataframe tbody tr th {\n",
       "        vertical-align: top;\n",
       "    }\n",
       "\n",
       "    .dataframe thead th {\n",
       "        text-align: right;\n",
       "    }\n",
       "</style>\n",
       "<table border=\"1\" class=\"dataframe\">\n",
       "  <thead>\n",
       "    <tr style=\"text-align: right;\">\n",
       "      <th></th>\n",
       "      <th>title</th>\n",
       "      <th>review_id</th>\n",
       "      <th>review_rank</th>\n",
       "    </tr>\n",
       "  </thead>\n",
       "  <tbody>\n",
       "    <tr>\n",
       "      <th>0</th>\n",
       "      <td>달러구트 꿈 백화점 (50만 부 기념 드림 에디션) - 주문하신 꿈은 매진입니다</td>\n",
       "      <td>[2****a, s*****y, g*******7, g*******g, 이****이...</td>\n",
       "      <td>[5점, 1점, 1점, 4점, 1점, 1점, 2점, 4점, 4점, 2점]</td>\n",
       "    </tr>\n",
       "    <tr>\n",
       "      <th>1</th>\n",
       "      <td>불편한 편의점 (40만부 기념 벚꽃 에디션)</td>\n",
       "      <td>[부***주, g*******g, n***8, J*y, 꿈*******자, 해**이...</td>\n",
       "      <td>[4점, 5점, 4점, 4점, 4점, 5점, 5점, 1점, 5점, 5점]</td>\n",
       "    </tr>\n",
       "    <tr>\n",
       "      <th>2</th>\n",
       "      <td>시맨틱 에러 포토에세이</td>\n",
       "      <td>[야*마]</td>\n",
       "      <td>[5점]</td>\n",
       "    </tr>\n",
       "    <tr>\n",
       "      <th>3</th>\n",
       "      <td>밝은 밤 (별밤 에디션)</td>\n",
       "      <td>[별*, 엠*이, 달**러, 블*, 꼼*, 코*, 건****탕, 자*련, 큰*, c...</td>\n",
       "      <td>[5점, 4점, 5점, 5점, 4점, 5점, 5점, 4점, 5점, 5점]</td>\n",
       "    </tr>\n",
       "    <tr>\n",
       "      <th>4</th>\n",
       "      <td>달러구트 꿈 백화점 2 - 단골손님을 찾습니다</td>\n",
       "      <td>[우*니, 삶**소, 사*님, J*y, 쉼*, 해**이, g*******g, 블*,...</td>\n",
       "      <td>[5점, 5점, 4점, 3점, 4점, 5점, 4점, 4점, 5점, 5점]</td>\n",
       "    </tr>\n",
       "    <tr>\n",
       "      <th>...</th>\n",
       "      <td>...</td>\n",
       "      <td>...</td>\n",
       "      <td>...</td>\n",
       "    </tr>\n",
       "    <tr>\n",
       "      <th>54369</th>\n",
       "      <td>[큰글씨책] 천직을 넘어 전설을 꿈꾸다 - 택시대학 정태성의 끝나지 않은 도전</td>\n",
       "      <td>[]</td>\n",
       "      <td>[]</td>\n",
       "    </tr>\n",
       "    <tr>\n",
       "      <th>54370</th>\n",
       "      <td>[큰글씨책] 완벽한 소통법 - 일, 관계, 갈등이 술술 풀리는 커뮤니케이션의 법칙</td>\n",
       "      <td>[]</td>\n",
       "      <td>[]</td>\n",
       "    </tr>\n",
       "    <tr>\n",
       "      <th>54371</th>\n",
       "      <td>희망을 모아 나누는 우리 - 농업 공동체 ‘해 뜨는 마을’ 이야기</td>\n",
       "      <td>[]</td>\n",
       "      <td>[]</td>\n",
       "    </tr>\n",
       "    <tr>\n",
       "      <th>54372</th>\n",
       "      <td>서번트 리더의 품격</td>\n",
       "      <td>[]</td>\n",
       "      <td>[]</td>\n",
       "    </tr>\n",
       "    <tr>\n",
       "      <th>54373</th>\n",
       "      <td>오만과 편견</td>\n",
       "      <td>[할**장]</td>\n",
       "      <td>[5점]</td>\n",
       "    </tr>\n",
       "  </tbody>\n",
       "</table>\n",
       "<p>54374 rows × 3 columns</p>\n",
       "</div>"
      ],
      "text/plain": [
       "                                               title  \\\n",
       "0       달러구트 꿈 백화점 (50만 부 기념 드림 에디션) - 주문하신 꿈은 매진입니다   \n",
       "1                           불편한 편의점 (40만부 기념 벚꽃 에디션)   \n",
       "2                                       시맨틱 에러 포토에세이   \n",
       "3                                      밝은 밤 (별밤 에디션)   \n",
       "4                          달러구트 꿈 백화점 2 - 단골손님을 찾습니다   \n",
       "...                                              ...   \n",
       "54369    [큰글씨책] 천직을 넘어 전설을 꿈꾸다 - 택시대학 정태성의 끝나지 않은 도전   \n",
       "54370  [큰글씨책] 완벽한 소통법 - 일, 관계, 갈등이 술술 풀리는 커뮤니케이션의 법칙   \n",
       "54371           희망을 모아 나누는 우리 - 농업 공동체 ‘해 뜨는 마을’ 이야기   \n",
       "54372                                     서번트 리더의 품격   \n",
       "54373                                         오만과 편견   \n",
       "\n",
       "                                               review_id  \\\n",
       "0      [2****a, s*****y, g*******7, g*******g, 이****이...   \n",
       "1      [부***주, g*******g, n***8, J*y, 꿈*******자, 해**이...   \n",
       "2                                                  [야*마]   \n",
       "3      [별*, 엠*이, 달**러, 블*, 꼼*, 코*, 건****탕, 자*련, 큰*, c...   \n",
       "4      [우*니, 삶**소, 사*님, J*y, 쉼*, 해**이, g*******g, 블*,...   \n",
       "...                                                  ...   \n",
       "54369                                                 []   \n",
       "54370                                                 []   \n",
       "54371                                                 []   \n",
       "54372                                                 []   \n",
       "54373                                             [할**장]   \n",
       "\n",
       "                                    review_rank  \n",
       "0      [5점, 1점, 1점, 4점, 1점, 1점, 2점, 4점, 4점, 2점]  \n",
       "1      [4점, 5점, 4점, 4점, 4점, 5점, 5점, 1점, 5점, 5점]  \n",
       "2                                          [5점]  \n",
       "3      [5점, 4점, 5점, 5점, 4점, 5점, 5점, 4점, 5점, 5점]  \n",
       "4      [5점, 5점, 4점, 3점, 4점, 5점, 4점, 4점, 5점, 5점]  \n",
       "...                                         ...  \n",
       "54369                                        []  \n",
       "54370                                        []  \n",
       "54371                                        []  \n",
       "54372                                        []  \n",
       "54373                                      [5점]  \n",
       "\n",
       "[54374 rows x 3 columns]"
      ]
     },
     "execution_count": 42,
     "metadata": {},
     "output_type": "execute_result"
    }
   ],
   "source": [
    "re_user = re[['title','review_id', 'review_rank']]\n",
    "re_user"
   ]
  },
  {
   "cell_type": "code",
   "execution_count": 17,
   "id": "10d50ec4",
   "metadata": {},
   "outputs": [
    {
     "ename": "UFuncTypeError",
     "evalue": "ufunc 'add' did not contain a loop with signature matching types (dtype('int64'), dtype('<U3')) -> None",
     "output_type": "error",
     "traceback": [
      "\u001b[1;31m---------------------------------------------------------------------------\u001b[0m",
      "\u001b[1;31mUFuncTypeError\u001b[0m                            Traceback (most recent call last)",
      "\u001b[1;32m<ipython-input-17-adc9587e9695>\u001b[0m in \u001b[0;36m<module>\u001b[1;34m\u001b[0m\n\u001b[1;32m----> 1\u001b[1;33m \u001b[0mre\u001b[0m\u001b[1;33m[\u001b[0m\u001b[1;34m'rank_new'\u001b[0m\u001b[1;33m]\u001b[0m \u001b[1;33m=\u001b[0m \u001b[1;33m(\u001b[0m\u001b[0mre\u001b[0m\u001b[1;33m[\u001b[0m\u001b[1;34m'rank'\u001b[0m\u001b[1;33m]\u001b[0m \u001b[1;33m+\u001b[0m \u001b[0mre\u001b[0m\u001b[1;33m[\u001b[0m\u001b[1;34m'rank_mean'\u001b[0m\u001b[1;33m]\u001b[0m\u001b[1;33m[\u001b[0m\u001b[1;36m0\u001b[0m\u001b[1;33m]\u001b[0m\u001b[1;33m)\u001b[0m\u001b[1;33m/\u001b[0m\u001b[1;36m2\u001b[0m\u001b[1;33m\u001b[0m\u001b[1;33m\u001b[0m\u001b[0m\n\u001b[0m",
      "\u001b[1;32m~\\anaconda3\\lib\\site-packages\\pandas\\core\\ops\\common.py\u001b[0m in \u001b[0;36mnew_method\u001b[1;34m(self, other)\u001b[0m\n\u001b[0;32m     67\u001b[0m         \u001b[0mother\u001b[0m \u001b[1;33m=\u001b[0m \u001b[0mitem_from_zerodim\u001b[0m\u001b[1;33m(\u001b[0m\u001b[0mother\u001b[0m\u001b[1;33m)\u001b[0m\u001b[1;33m\u001b[0m\u001b[1;33m\u001b[0m\u001b[0m\n\u001b[0;32m     68\u001b[0m \u001b[1;33m\u001b[0m\u001b[0m\n\u001b[1;32m---> 69\u001b[1;33m         \u001b[1;32mreturn\u001b[0m \u001b[0mmethod\u001b[0m\u001b[1;33m(\u001b[0m\u001b[0mself\u001b[0m\u001b[1;33m,\u001b[0m \u001b[0mother\u001b[0m\u001b[1;33m)\u001b[0m\u001b[1;33m\u001b[0m\u001b[1;33m\u001b[0m\u001b[0m\n\u001b[0m\u001b[0;32m     70\u001b[0m \u001b[1;33m\u001b[0m\u001b[0m\n\u001b[0;32m     71\u001b[0m     \u001b[1;32mreturn\u001b[0m \u001b[0mnew_method\u001b[0m\u001b[1;33m\u001b[0m\u001b[1;33m\u001b[0m\u001b[0m\n",
      "\u001b[1;32m~\\anaconda3\\lib\\site-packages\\pandas\\core\\arraylike.py\u001b[0m in \u001b[0;36m__add__\u001b[1;34m(self, other)\u001b[0m\n\u001b[0;32m     90\u001b[0m     \u001b[1;33m@\u001b[0m\u001b[0munpack_zerodim_and_defer\u001b[0m\u001b[1;33m(\u001b[0m\u001b[1;34m\"__add__\"\u001b[0m\u001b[1;33m)\u001b[0m\u001b[1;33m\u001b[0m\u001b[1;33m\u001b[0m\u001b[0m\n\u001b[0;32m     91\u001b[0m     \u001b[1;32mdef\u001b[0m \u001b[0m__add__\u001b[0m\u001b[1;33m(\u001b[0m\u001b[0mself\u001b[0m\u001b[1;33m,\u001b[0m \u001b[0mother\u001b[0m\u001b[1;33m)\u001b[0m\u001b[1;33m:\u001b[0m\u001b[1;33m\u001b[0m\u001b[1;33m\u001b[0m\u001b[0m\n\u001b[1;32m---> 92\u001b[1;33m         \u001b[1;32mreturn\u001b[0m \u001b[0mself\u001b[0m\u001b[1;33m.\u001b[0m\u001b[0m_arith_method\u001b[0m\u001b[1;33m(\u001b[0m\u001b[0mother\u001b[0m\u001b[1;33m,\u001b[0m \u001b[0moperator\u001b[0m\u001b[1;33m.\u001b[0m\u001b[0madd\u001b[0m\u001b[1;33m)\u001b[0m\u001b[1;33m\u001b[0m\u001b[1;33m\u001b[0m\u001b[0m\n\u001b[0m\u001b[0;32m     93\u001b[0m \u001b[1;33m\u001b[0m\u001b[0m\n\u001b[0;32m     94\u001b[0m     \u001b[1;33m@\u001b[0m\u001b[0munpack_zerodim_and_defer\u001b[0m\u001b[1;33m(\u001b[0m\u001b[1;34m\"__radd__\"\u001b[0m\u001b[1;33m)\u001b[0m\u001b[1;33m\u001b[0m\u001b[1;33m\u001b[0m\u001b[0m\n",
      "\u001b[1;32m~\\anaconda3\\lib\\site-packages\\pandas\\core\\series.py\u001b[0m in \u001b[0;36m_arith_method\u001b[1;34m(self, other, op)\u001b[0m\n\u001b[0;32m   5524\u001b[0m \u001b[1;33m\u001b[0m\u001b[0m\n\u001b[0;32m   5525\u001b[0m         \u001b[1;32mwith\u001b[0m \u001b[0mnp\u001b[0m\u001b[1;33m.\u001b[0m\u001b[0merrstate\u001b[0m\u001b[1;33m(\u001b[0m\u001b[0mall\u001b[0m\u001b[1;33m=\u001b[0m\u001b[1;34m\"ignore\"\u001b[0m\u001b[1;33m)\u001b[0m\u001b[1;33m:\u001b[0m\u001b[1;33m\u001b[0m\u001b[1;33m\u001b[0m\u001b[0m\n\u001b[1;32m-> 5526\u001b[1;33m             \u001b[0mresult\u001b[0m \u001b[1;33m=\u001b[0m \u001b[0mops\u001b[0m\u001b[1;33m.\u001b[0m\u001b[0marithmetic_op\u001b[0m\u001b[1;33m(\u001b[0m\u001b[0mlvalues\u001b[0m\u001b[1;33m,\u001b[0m \u001b[0mrvalues\u001b[0m\u001b[1;33m,\u001b[0m \u001b[0mop\u001b[0m\u001b[1;33m)\u001b[0m\u001b[1;33m\u001b[0m\u001b[1;33m\u001b[0m\u001b[0m\n\u001b[0m\u001b[0;32m   5527\u001b[0m \u001b[1;33m\u001b[0m\u001b[0m\n\u001b[0;32m   5528\u001b[0m         \u001b[1;32mreturn\u001b[0m \u001b[0mself\u001b[0m\u001b[1;33m.\u001b[0m\u001b[0m_construct_result\u001b[0m\u001b[1;33m(\u001b[0m\u001b[0mresult\u001b[0m\u001b[1;33m,\u001b[0m \u001b[0mname\u001b[0m\u001b[1;33m=\u001b[0m\u001b[0mres_name\u001b[0m\u001b[1;33m)\u001b[0m\u001b[1;33m\u001b[0m\u001b[1;33m\u001b[0m\u001b[0m\n",
      "\u001b[1;32m~\\anaconda3\\lib\\site-packages\\pandas\\core\\ops\\array_ops.py\u001b[0m in \u001b[0;36marithmetic_op\u001b[1;34m(left, right, op)\u001b[0m\n\u001b[0;32m    222\u001b[0m         \u001b[0m_bool_arith_check\u001b[0m\u001b[1;33m(\u001b[0m\u001b[0mop\u001b[0m\u001b[1;33m,\u001b[0m \u001b[0mleft\u001b[0m\u001b[1;33m,\u001b[0m \u001b[0mright\u001b[0m\u001b[1;33m)\u001b[0m\u001b[1;33m\u001b[0m\u001b[1;33m\u001b[0m\u001b[0m\n\u001b[0;32m    223\u001b[0m \u001b[1;33m\u001b[0m\u001b[0m\n\u001b[1;32m--> 224\u001b[1;33m         \u001b[0mres_values\u001b[0m \u001b[1;33m=\u001b[0m \u001b[0m_na_arithmetic_op\u001b[0m\u001b[1;33m(\u001b[0m\u001b[0mleft\u001b[0m\u001b[1;33m,\u001b[0m \u001b[0mright\u001b[0m\u001b[1;33m,\u001b[0m \u001b[0mop\u001b[0m\u001b[1;33m)\u001b[0m\u001b[1;33m\u001b[0m\u001b[1;33m\u001b[0m\u001b[0m\n\u001b[0m\u001b[0;32m    225\u001b[0m \u001b[1;33m\u001b[0m\u001b[0m\n\u001b[0;32m    226\u001b[0m     \u001b[1;32mreturn\u001b[0m \u001b[0mres_values\u001b[0m\u001b[1;33m\u001b[0m\u001b[1;33m\u001b[0m\u001b[0m\n",
      "\u001b[1;32m~\\anaconda3\\lib\\site-packages\\pandas\\core\\ops\\array_ops.py\u001b[0m in \u001b[0;36m_na_arithmetic_op\u001b[1;34m(left, right, op, is_cmp)\u001b[0m\n\u001b[0;32m    164\u001b[0m \u001b[1;33m\u001b[0m\u001b[0m\n\u001b[0;32m    165\u001b[0m     \u001b[1;32mtry\u001b[0m\u001b[1;33m:\u001b[0m\u001b[1;33m\u001b[0m\u001b[1;33m\u001b[0m\u001b[0m\n\u001b[1;32m--> 166\u001b[1;33m         \u001b[0mresult\u001b[0m \u001b[1;33m=\u001b[0m \u001b[0mfunc\u001b[0m\u001b[1;33m(\u001b[0m\u001b[0mleft\u001b[0m\u001b[1;33m,\u001b[0m \u001b[0mright\u001b[0m\u001b[1;33m)\u001b[0m\u001b[1;33m\u001b[0m\u001b[1;33m\u001b[0m\u001b[0m\n\u001b[0m\u001b[0;32m    167\u001b[0m     \u001b[1;32mexcept\u001b[0m \u001b[0mTypeError\u001b[0m\u001b[1;33m:\u001b[0m\u001b[1;33m\u001b[0m\u001b[1;33m\u001b[0m\u001b[0m\n\u001b[0;32m    168\u001b[0m         \u001b[1;32mif\u001b[0m \u001b[0mis_object_dtype\u001b[0m\u001b[1;33m(\u001b[0m\u001b[0mleft\u001b[0m\u001b[1;33m)\u001b[0m \u001b[1;32mor\u001b[0m \u001b[0mis_object_dtype\u001b[0m\u001b[1;33m(\u001b[0m\u001b[0mright\u001b[0m\u001b[1;33m)\u001b[0m \u001b[1;32mand\u001b[0m \u001b[1;32mnot\u001b[0m \u001b[0mis_cmp\u001b[0m\u001b[1;33m:\u001b[0m\u001b[1;33m\u001b[0m\u001b[1;33m\u001b[0m\u001b[0m\n",
      "\u001b[1;32m~\\anaconda3\\lib\\site-packages\\pandas\\core\\computation\\expressions.py\u001b[0m in \u001b[0;36mevaluate\u001b[1;34m(op, a, b, use_numexpr)\u001b[0m\n\u001b[0;32m    237\u001b[0m         \u001b[1;32mif\u001b[0m \u001b[0muse_numexpr\u001b[0m\u001b[1;33m:\u001b[0m\u001b[1;33m\u001b[0m\u001b[1;33m\u001b[0m\u001b[0m\n\u001b[0;32m    238\u001b[0m             \u001b[1;31m# error: \"None\" not callable\u001b[0m\u001b[1;33m\u001b[0m\u001b[1;33m\u001b[0m\u001b[1;33m\u001b[0m\u001b[0m\n\u001b[1;32m--> 239\u001b[1;33m             \u001b[1;32mreturn\u001b[0m \u001b[0m_evaluate\u001b[0m\u001b[1;33m(\u001b[0m\u001b[0mop\u001b[0m\u001b[1;33m,\u001b[0m \u001b[0mop_str\u001b[0m\u001b[1;33m,\u001b[0m \u001b[0ma\u001b[0m\u001b[1;33m,\u001b[0m \u001b[0mb\u001b[0m\u001b[1;33m)\u001b[0m  \u001b[1;31m# type: ignore[misc]\u001b[0m\u001b[1;33m\u001b[0m\u001b[1;33m\u001b[0m\u001b[0m\n\u001b[0m\u001b[0;32m    240\u001b[0m     \u001b[1;32mreturn\u001b[0m \u001b[0m_evaluate_standard\u001b[0m\u001b[1;33m(\u001b[0m\u001b[0mop\u001b[0m\u001b[1;33m,\u001b[0m \u001b[0mop_str\u001b[0m\u001b[1;33m,\u001b[0m \u001b[0ma\u001b[0m\u001b[1;33m,\u001b[0m \u001b[0mb\u001b[0m\u001b[1;33m)\u001b[0m\u001b[1;33m\u001b[0m\u001b[1;33m\u001b[0m\u001b[0m\n\u001b[0;32m    241\u001b[0m \u001b[1;33m\u001b[0m\u001b[0m\n",
      "\u001b[1;32m~\\anaconda3\\lib\\site-packages\\pandas\\core\\computation\\expressions.py\u001b[0m in \u001b[0;36m_evaluate_numexpr\u001b[1;34m(op, op_str, a, b)\u001b[0m\n\u001b[0;32m    126\u001b[0m \u001b[1;33m\u001b[0m\u001b[0m\n\u001b[0;32m    127\u001b[0m     \u001b[1;32mif\u001b[0m \u001b[0mresult\u001b[0m \u001b[1;32mis\u001b[0m \u001b[1;32mNone\u001b[0m\u001b[1;33m:\u001b[0m\u001b[1;33m\u001b[0m\u001b[1;33m\u001b[0m\u001b[0m\n\u001b[1;32m--> 128\u001b[1;33m         \u001b[0mresult\u001b[0m \u001b[1;33m=\u001b[0m \u001b[0m_evaluate_standard\u001b[0m\u001b[1;33m(\u001b[0m\u001b[0mop\u001b[0m\u001b[1;33m,\u001b[0m \u001b[0mop_str\u001b[0m\u001b[1;33m,\u001b[0m \u001b[0ma\u001b[0m\u001b[1;33m,\u001b[0m \u001b[0mb\u001b[0m\u001b[1;33m)\u001b[0m\u001b[1;33m\u001b[0m\u001b[1;33m\u001b[0m\u001b[0m\n\u001b[0m\u001b[0;32m    129\u001b[0m \u001b[1;33m\u001b[0m\u001b[0m\n\u001b[0;32m    130\u001b[0m     \u001b[1;32mreturn\u001b[0m \u001b[0mresult\u001b[0m\u001b[1;33m\u001b[0m\u001b[1;33m\u001b[0m\u001b[0m\n",
      "\u001b[1;32m~\\anaconda3\\lib\\site-packages\\pandas\\core\\computation\\expressions.py\u001b[0m in \u001b[0;36m_evaluate_standard\u001b[1;34m(op, op_str, a, b)\u001b[0m\n\u001b[0;32m     67\u001b[0m     \u001b[1;32mif\u001b[0m \u001b[0m_TEST_MODE\u001b[0m\u001b[1;33m:\u001b[0m\u001b[1;33m\u001b[0m\u001b[1;33m\u001b[0m\u001b[0m\n\u001b[0;32m     68\u001b[0m         \u001b[0m_store_test_result\u001b[0m\u001b[1;33m(\u001b[0m\u001b[1;32mFalse\u001b[0m\u001b[1;33m)\u001b[0m\u001b[1;33m\u001b[0m\u001b[1;33m\u001b[0m\u001b[0m\n\u001b[1;32m---> 69\u001b[1;33m     \u001b[1;32mreturn\u001b[0m \u001b[0mop\u001b[0m\u001b[1;33m(\u001b[0m\u001b[0ma\u001b[0m\u001b[1;33m,\u001b[0m \u001b[0mb\u001b[0m\u001b[1;33m)\u001b[0m\u001b[1;33m\u001b[0m\u001b[1;33m\u001b[0m\u001b[0m\n\u001b[0m\u001b[0;32m     70\u001b[0m \u001b[1;33m\u001b[0m\u001b[0m\n\u001b[0;32m     71\u001b[0m \u001b[1;33m\u001b[0m\u001b[0m\n",
      "\u001b[1;31mUFuncTypeError\u001b[0m: ufunc 'add' did not contain a loop with signature matching types (dtype('int64'), dtype('<U3')) -> None"
     ]
    }
   ],
   "source": [
    "re['rank_new'] = (re['rank'] + re['rank_mean'][0])/2"
   ]
  },
  {
   "cell_type": "code",
   "execution_count": 57,
   "id": "586fe321",
   "metadata": {},
   "outputs": [
    {
     "ename": "TypeError",
     "evalue": "object of type 'float' has no len()",
     "output_type": "error",
     "traceback": [
      "\u001b[1;31m---------------------------------------------------------------------------\u001b[0m",
      "\u001b[1;31mTypeError\u001b[0m                                 Traceback (most recent call last)",
      "\u001b[1;32m<ipython-input-57-eeb0c54eab1a>\u001b[0m in \u001b[0;36m<module>\u001b[1;34m\u001b[0m\n\u001b[0;32m      1\u001b[0m \u001b[0muser_list\u001b[0m \u001b[1;33m=\u001b[0m \u001b[1;33m[\u001b[0m\u001b[1;33m]\u001b[0m\u001b[1;33m\u001b[0m\u001b[1;33m\u001b[0m\u001b[0m\n\u001b[0;32m      2\u001b[0m \u001b[1;32mfor\u001b[0m \u001b[0mi\u001b[0m \u001b[1;32min\u001b[0m \u001b[0mrange\u001b[0m\u001b[1;33m(\u001b[0m\u001b[0mlen\u001b[0m\u001b[1;33m(\u001b[0m\u001b[0mre_user\u001b[0m\u001b[1;33m)\u001b[0m\u001b[1;33m)\u001b[0m\u001b[1;33m:\u001b[0m\u001b[1;33m\u001b[0m\u001b[1;33m\u001b[0m\u001b[0m\n\u001b[1;32m----> 3\u001b[1;33m     \u001b[1;32mfor\u001b[0m \u001b[0mj\u001b[0m \u001b[1;32min\u001b[0m \u001b[0mrange\u001b[0m\u001b[1;33m(\u001b[0m\u001b[0mlen\u001b[0m\u001b[1;33m(\u001b[0m\u001b[0mre_user\u001b[0m\u001b[1;33m[\u001b[0m\u001b[1;34m'review_id'\u001b[0m\u001b[1;33m]\u001b[0m\u001b[1;33m[\u001b[0m\u001b[0mi\u001b[0m\u001b[1;33m]\u001b[0m\u001b[1;33m)\u001b[0m\u001b[1;33m)\u001b[0m\u001b[1;33m:\u001b[0m\u001b[1;33m\u001b[0m\u001b[1;33m\u001b[0m\u001b[0m\n\u001b[0m\u001b[0;32m      4\u001b[0m         \u001b[0muser_list\u001b[0m\u001b[1;33m.\u001b[0m\u001b[0mappend\u001b[0m\u001b[1;33m(\u001b[0m\u001b[0mre_user\u001b[0m\u001b[1;33m[\u001b[0m\u001b[1;34m'review_id'\u001b[0m\u001b[1;33m]\u001b[0m\u001b[1;33m[\u001b[0m\u001b[0mi\u001b[0m\u001b[1;33m]\u001b[0m\u001b[1;33m[\u001b[0m\u001b[0mj\u001b[0m\u001b[1;33m]\u001b[0m\u001b[1;33m)\u001b[0m\u001b[1;33m\u001b[0m\u001b[1;33m\u001b[0m\u001b[0m\n",
      "\u001b[1;31mTypeError\u001b[0m: object of type 'float' has no len()"
     ]
    }
   ],
   "source": [
    "user_list = []\n",
    "for i in range(len(re_user)):\n",
    "    for j in range(len(re_user['review_id'][i])):\n",
    "        user_list.append(re_user['review_id'][i][j])"
   ]
  },
  {
   "cell_type": "code",
   "execution_count": 60,
   "id": "0b5b5363",
   "metadata": {},
   "outputs": [
    {
     "data": {
      "text/plain": [
       "(1, 54374)"
      ]
     },
     "execution_count": 60,
     "metadata": {},
     "output_type": "execute_result"
    }
   ],
   "source": [
    "len(re_user['review_id'][2]), len(re_user)"
   ]
  },
  {
   "cell_type": "code",
   "execution_count": 106,
   "id": "811ba7aa",
   "metadata": {},
   "outputs": [
    {
     "data": {
      "text/plain": [
       "10"
      ]
     },
     "execution_count": 106,
     "metadata": {},
     "output_type": "execute_result"
    }
   ],
   "source": [
    "len(np.zeros(len(re_user['review_id'][0])))"
   ]
  },
  {
   "cell_type": "code",
   "execution_count": 109,
   "id": "c6db2f5d",
   "metadata": {},
   "outputs": [
    {
     "data": {
      "text/plain": [
       "['2****a',\n",
       " 's*****y',\n",
       " 'g*******7',\n",
       " 'g*******g',\n",
       " '이****이',\n",
       " 'k*******8',\n",
       " 'a******9',\n",
       " 'J*y',\n",
       " '블*',\n",
       " 'y********7']"
      ]
     },
     "execution_count": 109,
     "metadata": {},
     "output_type": "execute_result"
    }
   ],
   "source": [
    "re_user['review_id'][0]"
   ]
  },
  {
   "cell_type": "code",
   "execution_count": 115,
   "id": "3ca102d5",
   "metadata": {},
   "outputs": [],
   "source": [
    "df = pd.DataFrame(columns = ['review_id','review_rank'])\n",
    "for i in range(len(re)):\n",
    "    df_out = pd.DataFrame([re_user['review_id'][i],re_user['review_rank'][i]], index = ['review_id','review_rank']).T\n",
    "    df = pd.concat([df, df_out], ignore_index=True)"
   ]
  },
  {
   "cell_type": "code",
   "execution_count": 128,
   "id": "7ede7cb2",
   "metadata": {},
   "outputs": [],
   "source": [
    "df.to_pickle('review_id_rank', protocol=4)"
   ]
  },
  {
   "cell_type": "code",
   "execution_count": 131,
   "id": "8815adba",
   "metadata": {},
   "outputs": [
    {
     "data": {
      "text/html": [
       "<div>\n",
       "<style scoped>\n",
       "    .dataframe tbody tr th:only-of-type {\n",
       "        vertical-align: middle;\n",
       "    }\n",
       "\n",
       "    .dataframe tbody tr th {\n",
       "        vertical-align: top;\n",
       "    }\n",
       "\n",
       "    .dataframe thead th {\n",
       "        text-align: right;\n",
       "    }\n",
       "</style>\n",
       "<table border=\"1\" class=\"dataframe\">\n",
       "  <thead>\n",
       "    <tr style=\"text-align: right;\">\n",
       "      <th></th>\n",
       "      <th>review_id</th>\n",
       "      <th>review_rank</th>\n",
       "    </tr>\n",
       "  </thead>\n",
       "  <tbody>\n",
       "    <tr>\n",
       "      <th>7467</th>\n",
       "      <td>나*</td>\n",
       "      <td>1311</td>\n",
       "    </tr>\n",
       "    <tr>\n",
       "      <th>3492</th>\n",
       "      <td>k*******2</td>\n",
       "      <td>1139</td>\n",
       "    </tr>\n",
       "    <tr>\n",
       "      <th>10138</th>\n",
       "      <td>블*</td>\n",
       "      <td>970</td>\n",
       "    </tr>\n",
       "    <tr>\n",
       "      <th>7387</th>\n",
       "      <td>꿈*******자</td>\n",
       "      <td>956</td>\n",
       "    </tr>\n",
       "    <tr>\n",
       "      <th>13353</th>\n",
       "      <td>지*</td>\n",
       "      <td>903</td>\n",
       "    </tr>\n",
       "    <tr>\n",
       "      <th>...</th>\n",
       "      <td>...</td>\n",
       "      <td>...</td>\n",
       "    </tr>\n",
       "    <tr>\n",
       "      <th>4654</th>\n",
       "      <td>p****5</td>\n",
       "      <td>5</td>\n",
       "    </tr>\n",
       "    <tr>\n",
       "      <th>15099</th>\n",
       "      <td>해********원</td>\n",
       "      <td>5</td>\n",
       "    </tr>\n",
       "    <tr>\n",
       "      <th>4371</th>\n",
       "      <td>o*******i</td>\n",
       "      <td>5</td>\n",
       "    </tr>\n",
       "    <tr>\n",
       "      <th>1585</th>\n",
       "      <td>b*******g</td>\n",
       "      <td>5</td>\n",
       "    </tr>\n",
       "    <tr>\n",
       "      <th>8070</th>\n",
       "      <td>달*님</td>\n",
       "      <td>5</td>\n",
       "    </tr>\n",
       "  </tbody>\n",
       "</table>\n",
       "<p>5234 rows × 2 columns</p>\n",
       "</div>"
      ],
      "text/plain": [
       "        review_id  review_rank\n",
       "7467           나*         1311\n",
       "3492    k*******2         1139\n",
       "10138          블*          970\n",
       "7387    꿈*******자          956\n",
       "13353          지*          903\n",
       "...           ...          ...\n",
       "4654       p****5            5\n",
       "15099  해********원            5\n",
       "4371    o*******i            5\n",
       "1585    b*******g            5\n",
       "8070          달*님            5\n",
       "\n",
       "[5234 rows x 2 columns]"
      ]
     },
     "execution_count": 131,
     "metadata": {},
     "output_type": "execute_result"
    }
   ],
   "source": [
    "df1 = df.groupby('review_id').count().reset_index().sort_values('review_rank', ascending = False)\n",
    "df1[df1['review_rank'] >= 5]"
   ]
  },
  {
   "cell_type": "code",
   "execution_count": 67,
   "id": "ffb61768",
   "metadata": {},
   "outputs": [
    {
     "data": {
      "text/html": [
       "<div>\n",
       "<style scoped>\n",
       "    .dataframe tbody tr th:only-of-type {\n",
       "        vertical-align: middle;\n",
       "    }\n",
       "\n",
       "    .dataframe tbody tr th {\n",
       "        vertical-align: top;\n",
       "    }\n",
       "\n",
       "    .dataframe thead th {\n",
       "        text-align: right;\n",
       "    }\n",
       "</style>\n",
       "<table border=\"1\" class=\"dataframe\">\n",
       "  <thead>\n",
       "    <tr style=\"text-align: right;\">\n",
       "      <th></th>\n",
       "      <th>isbn</th>\n",
       "      <th>review_id</th>\n",
       "      <th>review_rank</th>\n",
       "    </tr>\n",
       "  </thead>\n",
       "  <tbody>\n",
       "  </tbody>\n",
       "</table>\n",
       "</div>"
      ],
      "text/plain": [
       "Empty DataFrame\n",
       "Columns: [isbn, review_id, review_rank]\n",
       "Index: []"
      ]
     },
     "execution_count": 67,
     "metadata": {},
     "output_type": "execute_result"
    }
   ],
   "source": [
    "df"
   ]
  },
  {
   "cell_type": "code",
   "execution_count": 72,
   "id": "9da05617",
   "metadata": {},
   "outputs": [
    {
     "data": {
      "text/html": [
       "<div>\n",
       "<style scoped>\n",
       "    .dataframe tbody tr th:only-of-type {\n",
       "        vertical-align: middle;\n",
       "    }\n",
       "\n",
       "    .dataframe tbody tr th {\n",
       "        vertical-align: top;\n",
       "    }\n",
       "\n",
       "    .dataframe thead th {\n",
       "        text-align: right;\n",
       "    }\n",
       "</style>\n",
       "<table border=\"1\" class=\"dataframe\">\n",
       "  <thead>\n",
       "    <tr style=\"text-align: right;\">\n",
       "      <th></th>\n",
       "      <th>0</th>\n",
       "      <th>1</th>\n",
       "    </tr>\n",
       "  </thead>\n",
       "  <tbody>\n",
       "    <tr>\n",
       "      <th>0</th>\n",
       "      <td>2****a</td>\n",
       "      <td>5점</td>\n",
       "    </tr>\n",
       "    <tr>\n",
       "      <th>1</th>\n",
       "      <td>s*****y</td>\n",
       "      <td>1점</td>\n",
       "    </tr>\n",
       "    <tr>\n",
       "      <th>2</th>\n",
       "      <td>g*******7</td>\n",
       "      <td>1점</td>\n",
       "    </tr>\n",
       "    <tr>\n",
       "      <th>3</th>\n",
       "      <td>g*******g</td>\n",
       "      <td>4점</td>\n",
       "    </tr>\n",
       "    <tr>\n",
       "      <th>4</th>\n",
       "      <td>이****이</td>\n",
       "      <td>1점</td>\n",
       "    </tr>\n",
       "    <tr>\n",
       "      <th>5</th>\n",
       "      <td>k*******8</td>\n",
       "      <td>1점</td>\n",
       "    </tr>\n",
       "    <tr>\n",
       "      <th>6</th>\n",
       "      <td>a******9</td>\n",
       "      <td>2점</td>\n",
       "    </tr>\n",
       "    <tr>\n",
       "      <th>7</th>\n",
       "      <td>J*y</td>\n",
       "      <td>4점</td>\n",
       "    </tr>\n",
       "    <tr>\n",
       "      <th>8</th>\n",
       "      <td>블*</td>\n",
       "      <td>4점</td>\n",
       "    </tr>\n",
       "    <tr>\n",
       "      <th>9</th>\n",
       "      <td>y********7</td>\n",
       "      <td>2점</td>\n",
       "    </tr>\n",
       "  </tbody>\n",
       "</table>\n",
       "</div>"
      ],
      "text/plain": [
       "            0   1\n",
       "0      2****a  5점\n",
       "1     s*****y  1점\n",
       "2   g*******7  1점\n",
       "3   g*******g  4점\n",
       "4      이****이  1점\n",
       "5   k*******8  1점\n",
       "6    a******9  2점\n",
       "7         J*y  4점\n",
       "8          블*  4점\n",
       "9  y********7  2점"
      ]
     },
     "execution_count": 72,
     "metadata": {},
     "output_type": "execute_result"
    }
   ],
   "source": [
    "pd.DataFrame([ re_user['review_id'][0],re_user['review_rank'][0]]).T"
   ]
  },
  {
   "cell_type": "code",
   "execution_count": 79,
   "id": "c1d095e5",
   "metadata": {},
   "outputs": [
    {
     "data": {
      "text/html": [
       "<div>\n",
       "<style scoped>\n",
       "    .dataframe tbody tr th:only-of-type {\n",
       "        vertical-align: middle;\n",
       "    }\n",
       "\n",
       "    .dataframe tbody tr th {\n",
       "        vertical-align: top;\n",
       "    }\n",
       "\n",
       "    .dataframe thead th {\n",
       "        text-align: right;\n",
       "    }\n",
       "</style>\n",
       "<table border=\"1\" class=\"dataframe\">\n",
       "  <thead>\n",
       "    <tr style=\"text-align: right;\">\n",
       "      <th></th>\n",
       "      <th>isbn</th>\n",
       "      <th>review_id</th>\n",
       "      <th>review_rank</th>\n",
       "    </tr>\n",
       "  </thead>\n",
       "  <tbody>\n",
       "    <tr>\n",
       "      <th>0</th>\n",
       "      <td>0.0</td>\n",
       "      <td>2****a</td>\n",
       "      <td>5점</td>\n",
       "    </tr>\n",
       "    <tr>\n",
       "      <th>1</th>\n",
       "      <td>0.0</td>\n",
       "      <td>s*****y</td>\n",
       "      <td>1점</td>\n",
       "    </tr>\n",
       "    <tr>\n",
       "      <th>2</th>\n",
       "      <td>0.0</td>\n",
       "      <td>g*******7</td>\n",
       "      <td>1점</td>\n",
       "    </tr>\n",
       "    <tr>\n",
       "      <th>3</th>\n",
       "      <td>0.0</td>\n",
       "      <td>g*******g</td>\n",
       "      <td>4점</td>\n",
       "    </tr>\n",
       "    <tr>\n",
       "      <th>4</th>\n",
       "      <td>0.0</td>\n",
       "      <td>이****이</td>\n",
       "      <td>1점</td>\n",
       "    </tr>\n",
       "    <tr>\n",
       "      <th>5</th>\n",
       "      <td>0.0</td>\n",
       "      <td>k*******8</td>\n",
       "      <td>1점</td>\n",
       "    </tr>\n",
       "    <tr>\n",
       "      <th>6</th>\n",
       "      <td>0.0</td>\n",
       "      <td>a******9</td>\n",
       "      <td>2점</td>\n",
       "    </tr>\n",
       "    <tr>\n",
       "      <th>7</th>\n",
       "      <td>0.0</td>\n",
       "      <td>J*y</td>\n",
       "      <td>4점</td>\n",
       "    </tr>\n",
       "    <tr>\n",
       "      <th>8</th>\n",
       "      <td>0.0</td>\n",
       "      <td>블*</td>\n",
       "      <td>4점</td>\n",
       "    </tr>\n",
       "    <tr>\n",
       "      <th>9</th>\n",
       "      <td>0.0</td>\n",
       "      <td>y********7</td>\n",
       "      <td>2점</td>\n",
       "    </tr>\n",
       "  </tbody>\n",
       "</table>\n",
       "</div>"
      ],
      "text/plain": [
       "  isbn   review_id review_rank\n",
       "0  0.0      2****a          5점\n",
       "1  0.0     s*****y          1점\n",
       "2  0.0   g*******7          1점\n",
       "3  0.0   g*******g          4점\n",
       "4  0.0      이****이          1점\n",
       "5  0.0   k*******8          1점\n",
       "6  0.0    a******9          2점\n",
       "7  0.0         J*y          4점\n",
       "8  0.0          블*          4점\n",
       "9  0.0  y********7          2점"
      ]
     },
     "execution_count": 79,
     "metadata": {},
     "output_type": "execute_result"
    }
   ],
   "source": [
    "dff = pd.DataFrame([np.zeros(len(re_user['review_id'][0])), re_user['review_id'][0],re_user['review_rank'][0]], index = ['isbn','review_id','review_rank']).T\n",
    "dff"
   ]
  },
  {
   "cell_type": "code",
   "execution_count": 92,
   "id": "dbf85036",
   "metadata": {},
   "outputs": [
    {
     "data": {
      "text/html": [
       "<div>\n",
       "<style scoped>\n",
       "    .dataframe tbody tr th:only-of-type {\n",
       "        vertical-align: middle;\n",
       "    }\n",
       "\n",
       "    .dataframe tbody tr th {\n",
       "        vertical-align: top;\n",
       "    }\n",
       "\n",
       "    .dataframe thead th {\n",
       "        text-align: right;\n",
       "    }\n",
       "</style>\n",
       "<table border=\"1\" class=\"dataframe\">\n",
       "  <thead>\n",
       "    <tr style=\"text-align: right;\">\n",
       "      <th></th>\n",
       "      <th>isbn</th>\n",
       "      <th>review_id</th>\n",
       "      <th>review_rank</th>\n",
       "    </tr>\n",
       "  </thead>\n",
       "  <tbody>\n",
       "    <tr>\n",
       "      <th>0</th>\n",
       "      <td>0.0</td>\n",
       "      <td>**</td>\n",
       "      <td>0점</td>\n",
       "    </tr>\n",
       "  </tbody>\n",
       "</table>\n",
       "</div>"
      ],
      "text/plain": [
       "  isbn review_id review_rank\n",
       "0  0.0        **          0점"
      ]
     },
     "execution_count": 92,
     "metadata": {},
     "output_type": "execute_result"
    }
   ],
   "source": [
    "df = pd.DataFrame([0.0, '**', '0점'], index = ['isbn','review_id','review_rank']).T\n",
    "df"
   ]
  },
  {
   "cell_type": "code",
   "execution_count": 93,
   "id": "51aa9d8e",
   "metadata": {},
   "outputs": [
    {
     "name": "stderr",
     "output_type": "stream",
     "text": [
      "<ipython-input-93-70b2ca07c695>:1: FutureWarning: In a future version of pandas all arguments of concat except for the argument 'objs' will be keyword-only\n",
      "  pd.concat(df, dff)\n"
     ]
    },
    {
     "ename": "TypeError",
     "evalue": "first argument must be an iterable of pandas objects, you passed an object of type \"DataFrame\"",
     "output_type": "error",
     "traceback": [
      "\u001b[1;31m---------------------------------------------------------------------------\u001b[0m",
      "\u001b[1;31mTypeError\u001b[0m                                 Traceback (most recent call last)",
      "\u001b[1;32m<ipython-input-93-70b2ca07c695>\u001b[0m in \u001b[0;36m<module>\u001b[1;34m\u001b[0m\n\u001b[1;32m----> 1\u001b[1;33m \u001b[0mpd\u001b[0m\u001b[1;33m.\u001b[0m\u001b[0mconcat\u001b[0m\u001b[1;33m(\u001b[0m\u001b[0mdf\u001b[0m\u001b[1;33m,\u001b[0m \u001b[0mdff\u001b[0m\u001b[1;33m)\u001b[0m\u001b[1;33m\u001b[0m\u001b[1;33m\u001b[0m\u001b[0m\n\u001b[0m",
      "\u001b[1;32m~\\anaconda3\\lib\\site-packages\\pandas\\util\\_decorators.py\u001b[0m in \u001b[0;36mwrapper\u001b[1;34m(*args, **kwargs)\u001b[0m\n\u001b[0;32m    309\u001b[0m                     \u001b[0mstacklevel\u001b[0m\u001b[1;33m=\u001b[0m\u001b[0mstacklevel\u001b[0m\u001b[1;33m,\u001b[0m\u001b[1;33m\u001b[0m\u001b[1;33m\u001b[0m\u001b[0m\n\u001b[0;32m    310\u001b[0m                 )\n\u001b[1;32m--> 311\u001b[1;33m             \u001b[1;32mreturn\u001b[0m \u001b[0mfunc\u001b[0m\u001b[1;33m(\u001b[0m\u001b[1;33m*\u001b[0m\u001b[0margs\u001b[0m\u001b[1;33m,\u001b[0m \u001b[1;33m**\u001b[0m\u001b[0mkwargs\u001b[0m\u001b[1;33m)\u001b[0m\u001b[1;33m\u001b[0m\u001b[1;33m\u001b[0m\u001b[0m\n\u001b[0m\u001b[0;32m    312\u001b[0m \u001b[1;33m\u001b[0m\u001b[0m\n\u001b[0;32m    313\u001b[0m         \u001b[1;32mreturn\u001b[0m \u001b[0mwrapper\u001b[0m\u001b[1;33m\u001b[0m\u001b[1;33m\u001b[0m\u001b[0m\n",
      "\u001b[1;32m~\\anaconda3\\lib\\site-packages\\pandas\\core\\reshape\\concat.py\u001b[0m in \u001b[0;36mconcat\u001b[1;34m(objs, axis, join, ignore_index, keys, levels, names, verify_integrity, sort, copy)\u001b[0m\n\u001b[0;32m    292\u001b[0m     \u001b[0mValueError\u001b[0m\u001b[1;33m:\u001b[0m \u001b[0mIndexes\u001b[0m \u001b[0mhave\u001b[0m \u001b[0moverlapping\u001b[0m \u001b[0mvalues\u001b[0m\u001b[1;33m:\u001b[0m \u001b[1;33m[\u001b[0m\u001b[1;34m'a'\u001b[0m\u001b[1;33m]\u001b[0m\u001b[1;33m\u001b[0m\u001b[1;33m\u001b[0m\u001b[0m\n\u001b[0;32m    293\u001b[0m     \"\"\"\n\u001b[1;32m--> 294\u001b[1;33m     op = _Concatenator(\n\u001b[0m\u001b[0;32m    295\u001b[0m         \u001b[0mobjs\u001b[0m\u001b[1;33m,\u001b[0m\u001b[1;33m\u001b[0m\u001b[1;33m\u001b[0m\u001b[0m\n\u001b[0;32m    296\u001b[0m         \u001b[0maxis\u001b[0m\u001b[1;33m=\u001b[0m\u001b[0maxis\u001b[0m\u001b[1;33m,\u001b[0m\u001b[1;33m\u001b[0m\u001b[1;33m\u001b[0m\u001b[0m\n",
      "\u001b[1;32m~\\anaconda3\\lib\\site-packages\\pandas\\core\\reshape\\concat.py\u001b[0m in \u001b[0;36m__init__\u001b[1;34m(self, objs, axis, join, keys, levels, names, ignore_index, verify_integrity, copy, sort)\u001b[0m\n\u001b[0;32m    327\u001b[0m     ):\n\u001b[0;32m    328\u001b[0m         \u001b[1;32mif\u001b[0m \u001b[0misinstance\u001b[0m\u001b[1;33m(\u001b[0m\u001b[0mobjs\u001b[0m\u001b[1;33m,\u001b[0m \u001b[1;33m(\u001b[0m\u001b[0mABCSeries\u001b[0m\u001b[1;33m,\u001b[0m \u001b[0mABCDataFrame\u001b[0m\u001b[1;33m,\u001b[0m \u001b[0mstr\u001b[0m\u001b[1;33m)\u001b[0m\u001b[1;33m)\u001b[0m\u001b[1;33m:\u001b[0m\u001b[1;33m\u001b[0m\u001b[1;33m\u001b[0m\u001b[0m\n\u001b[1;32m--> 329\u001b[1;33m             raise TypeError(\n\u001b[0m\u001b[0;32m    330\u001b[0m                 \u001b[1;34m\"first argument must be an iterable of pandas \"\u001b[0m\u001b[1;33m\u001b[0m\u001b[1;33m\u001b[0m\u001b[0m\n\u001b[0;32m    331\u001b[0m                 \u001b[1;34mf'objects, you passed an object of type \"{type(objs).__name__}\"'\u001b[0m\u001b[1;33m\u001b[0m\u001b[1;33m\u001b[0m\u001b[0m\n",
      "\u001b[1;31mTypeError\u001b[0m: first argument must be an iterable of pandas objects, you passed an object of type \"DataFrame\""
     ]
    }
   ],
   "source": [
    "pd.merge(df, dff)"
   ]
  },
  {
   "cell_type": "code",
   "execution_count": null,
   "id": "45b4359b",
   "metadata": {},
   "outputs": [],
   "source": []
  }
 ],
 "metadata": {
  "kernelspec": {
   "display_name": "Python 3",
   "language": "python",
   "name": "python3"
  },
  "language_info": {
   "codemirror_mode": {
    "name": "ipython",
    "version": 3
   },
   "file_extension": ".py",
   "mimetype": "text/x-python",
   "name": "python",
   "nbconvert_exporter": "python",
   "pygments_lexer": "ipython3",
   "version": "3.8.8"
  }
 },
 "nbformat": 4,
 "nbformat_minor": 5
}
