{
 "cells": [
  {
   "cell_type": "markdown",
   "id": "1534f9be",
   "metadata": {},
   "source": [
    "# 1. 크롤링"
   ]
  },
  {
   "cell_type": "code",
   "execution_count": 2,
   "id": "78929dfd",
   "metadata": {},
   "outputs": [],
   "source": [
    "from selenium import webdriver\n",
    "from selenium.webdriver.chrome.service import Service\n",
    "from bs4 import BeautifulSoup\n",
    "from selenium.webdriver.common.by import By\n",
    "import time\n",
    "import pandas as pd"
   ]
  },
  {
   "cell_type": "code",
   "execution_count": 3,
   "id": "bb441560",
   "metadata": {},
   "outputs": [],
   "source": [
    "import pickle"
   ]
  },
  {
   "cell_type": "code",
   "execution_count": 28,
   "id": "9e3633ca",
   "metadata": {},
   "outputs": [],
   "source": [
    "service = Service('chromedriver.exe')\n",
    "driver = webdriver.Chrome(service = service)"
   ]
  },
  {
   "cell_type": "code",
   "execution_count": 5,
   "id": "3aea11f6",
   "metadata": {},
   "outputs": [],
   "source": [
    "isbn13 = pd.read_pickle('isbn13.pkl')"
   ]
  },
  {
   "cell_type": "code",
   "execution_count": 194,
   "id": "3932170d",
   "metadata": {},
   "outputs": [
    {
     "data": {
      "text/plain": [
       "0        9791190710343\n",
       "1        9791190710350\n",
       "2        9791190710367\n",
       "3        9791128858338\n",
       "4        9788954685603\n",
       "             ...      \n",
       "54971    9791185020136\n",
       "54972    9788997838127\n",
       "54973    9788956591858\n",
       "54974    9788987794938\n",
       "54975    9788995696972\n",
       "Name: isbn13, Length: 54976, dtype: object"
      ]
     },
     "execution_count": 194,
     "metadata": {},
     "output_type": "execute_result"
    }
   ],
   "source": [
    "isbn13"
   ]
  },
  {
   "cell_type": "code",
   "execution_count": 45,
   "id": "3d198e66",
   "metadata": {
    "scrolled": true
   },
   "outputs": [],
   "source": [
    "rank_mean = [] # 도서 평균 평점\n",
    "rank_percentage = [] # 평균 percentage\n",
    "review_title = [] # 리뷰 제목\n",
    "review_id = [] # 리뷰 id\n",
    "review_rank = [] # 리뷰 평점\n",
    "review_text = [] # 리뷰 \n",
    "isbn_idx = []\n",
    "\n",
    "\n",
    "for isbn in isbn13[37601:38000]: # 페이지 입력\n",
    "    url = \"http://www.yes24.com/product/search?query={}\".format(isbn)\n",
    "    driver.get(url)\n",
    "    time.sleep(2)\n",
    "    html = driver.page_source\n",
    "    soup = BeautifulSoup(html, 'html.parser')\n",
    "    \n",
    "    # 페이지에 있는 도서 링크(50개)\n",
    "    book_links = soup.select('a.gd_name')\n",
    "    goods = []\n",
    "    for link in book_links:\n",
    "        a= link['href'].split('/')[3] \n",
    "        goods.append(a)\n",
    "    for item in goods:\n",
    "        del(goods[1:])\n",
    "        driver.get('http://www.yes24.com'+'/Product/Goods/{}'.format(item)) # 상품 페이지\n",
    "        time.sleep(1)\n",
    "        html = driver.page_source\n",
    "        soup = BeautifulSoup(html, 'html.parser')\n",
    "        try:\n",
    "            mean = soup.select('div.gd_rating > em.yes_b')[0].text\n",
    "            rank_mean.append([mean]) # 도서 평균 평점\n",
    "        except:\n",
    "            mean = []\n",
    "            rank_mean.append(mean) # 도서 평균 평점\n",
    "        rank_p = []\n",
    "        try:\n",
    "            for k in range(5):\n",
    "                rank_ = soup.select('span.barGraphBase')[k].text # 평점 percentage\n",
    "                rank_p.append(rank_)\n",
    "            rank_percentage.append(rank_p)\n",
    "        except:\n",
    "            rank_ = []\n",
    "            rank_percentage.append(rank_)\n",
    "        try:\n",
    "            review_t = []  # 각각의 책의 리뷰제목 리스트\n",
    "            review_i = []\n",
    "            review_r = []\n",
    "            review_te = []\n",
    "            for page in range(1,3): # 리뷰 페이지 2개\n",
    "                driver.get('http://www.yes24.com/Product/communityModules/GoodsReviewList/{}?Type=ALL&_=1648001707174&Sort=2&PageNumber={}'.format(item, page))\n",
    "                time.sleep(1)\n",
    "                html = driver.page_source\n",
    "                soup = BeautifulSoup(html, 'html.parser')\n",
    "                \n",
    "                blog_link = []\n",
    "                for i in range(5): # 리뷰 한 페이지에 있는 5개 리뷰 가져오기\n",
    "                    try:\n",
    "                        title = soup.select('span.review_tit')[i].text.strip() # 리뷰 제목\n",
    "                        review_t.append(title)\n",
    "                        r_id = soup.select('a.lnk_id')[i].text # 리뷰 id\n",
    "                        review_i.append(r_id)\n",
    "                        rank = soup.select('span.review_rating')[i].text.split('\\n')[1][-2:] # 리뷰 평점\n",
    "                        review_r.append(rank)\n",
    "                        blog_l = soup.select('div.review_lnk a')[i]['href'] # 리뷰 블로그 링크\n",
    "                        blog_link.append(blog_l)\n",
    "                    except:\n",
    "                        pass\n",
    "                for j in range(5): # 리뷰 한 페이지에 있는 5개 블로그 내용 가져오기\n",
    "                        driver.get(blog_link[j]) # 리뷰 블로그 링크 들어가기\n",
    "                        time.sleep(1)\n",
    "                        html = driver.page_source\n",
    "                        soup = BeautifulSoup(html, 'html.parser')\n",
    "                        text = soup.select('div.blogContArea')[0].text # 리뷰 내용 \n",
    "                        review_te.append(text)\n",
    "        except:\n",
    "            pass\n",
    "        review_title.append(review_t)\n",
    "        review_id.append(review_i)\n",
    "        review_rank.append(review_r)\n",
    "        review_text.append(review_te)\n",
    "        isbn_idx.append(isbn)"
   ]
  },
  {
   "cell_type": "code",
   "execution_count": 46,
   "id": "71071c7d",
   "metadata": {
    "scrolled": true
   },
   "outputs": [
    {
     "data": {
      "text/html": [
       "<div>\n",
       "<style scoped>\n",
       "    .dataframe tbody tr th:only-of-type {\n",
       "        vertical-align: middle;\n",
       "    }\n",
       "\n",
       "    .dataframe tbody tr th {\n",
       "        vertical-align: top;\n",
       "    }\n",
       "\n",
       "    .dataframe thead th {\n",
       "        text-align: right;\n",
       "    }\n",
       "</style>\n",
       "<table border=\"1\" class=\"dataframe\">\n",
       "  <thead>\n",
       "    <tr style=\"text-align: right;\">\n",
       "      <th></th>\n",
       "      <th>isbn</th>\n",
       "      <th>rank_mean</th>\n",
       "      <th>rank_percentage</th>\n",
       "      <th>review_title</th>\n",
       "      <th>review_id</th>\n",
       "      <th>review_rank</th>\n",
       "      <th>review_text</th>\n",
       "    </tr>\n",
       "  </thead>\n",
       "  <tbody>\n",
       "    <tr>\n",
       "      <th>0</th>\n",
       "      <td>9788984995000</td>\n",
       "      <td>[]</td>\n",
       "      <td>[]</td>\n",
       "      <td>[]</td>\n",
       "      <td>[]</td>\n",
       "      <td>[]</td>\n",
       "      <td>[]</td>\n",
       "    </tr>\n",
       "    <tr>\n",
       "      <th>1</th>\n",
       "      <td>9788932016450</td>\n",
       "      <td>[]</td>\n",
       "      <td>[]</td>\n",
       "      <td>[]</td>\n",
       "      <td>[]</td>\n",
       "      <td>[]</td>\n",
       "      <td>[]</td>\n",
       "    </tr>\n",
       "    <tr>\n",
       "      <th>2</th>\n",
       "      <td>9788932015835</td>\n",
       "      <td>[2.0]</td>\n",
       "      <td>[0%, 0%, 0%, 0%, 100%]</td>\n",
       "      <td>[번역의 아쉬움...]</td>\n",
       "      <td>[w*******i]</td>\n",
       "      <td>[1점]</td>\n",
       "      <td>[\\n이 책은 정말 정말 추천하고 싶지 않은 책이다.\\n \\n아니면..나는 이 책이...</td>\n",
       "    </tr>\n",
       "    <tr>\n",
       "      <th>3</th>\n",
       "      <td>9788982816567</td>\n",
       "      <td>[8.5]</td>\n",
       "      <td>[50%, 50%, 0%, 0%, 0%]</td>\n",
       "      <td>[상처받는게 두려운가, 일상의 갈등을 포착한 한국의 여자 레이몬드 카버....]</td>\n",
       "      <td>[지*, k******i]</td>\n",
       "      <td>[5점, 3점]</td>\n",
       "      <td>[\\n난 겁이 많다. 여기서 겁이란 호러영화를 보거나 자이로스윙같은걸 탈때의 두려움...</td>\n",
       "    </tr>\n",
       "    <tr>\n",
       "      <th>4</th>\n",
       "      <td>9788974282141</td>\n",
       "      <td>[8.0]</td>\n",
       "      <td>[0%, 100%, 0%, 0%, 0%]</td>\n",
       "      <td>[복수의 방랑자 그리고 사랑]</td>\n",
       "      <td>[j******3]</td>\n",
       "      <td>[4점]</td>\n",
       "      <td>[\\n빅토리아 시대의 런던, 도도하고 아름다운 공작의 외동딸 레이디 사라 세인트 제...</td>\n",
       "    </tr>\n",
       "    <tr>\n",
       "      <th>...</th>\n",
       "      <td>...</td>\n",
       "      <td>...</td>\n",
       "      <td>...</td>\n",
       "      <td>...</td>\n",
       "      <td>...</td>\n",
       "      <td>...</td>\n",
       "      <td>...</td>\n",
       "    </tr>\n",
       "    <tr>\n",
       "      <th>391</th>\n",
       "      <td>9788971155028</td>\n",
       "      <td>[]</td>\n",
       "      <td>[]</td>\n",
       "      <td>[]</td>\n",
       "      <td>[]</td>\n",
       "      <td>[]</td>\n",
       "      <td>[]</td>\n",
       "    </tr>\n",
       "    <tr>\n",
       "      <th>392</th>\n",
       "      <td>9788961461016</td>\n",
       "      <td>[7.0]</td>\n",
       "      <td>[17%, 33%, 42%, 8%, 0%]</td>\n",
       "      <td>[여성과 여왕사이에서, 통일신라의 중심에 선덕여왕이 있다..., 아름답고 용감한 선...</td>\n",
       "      <td>[고*미, a******m, 은**미, 공**마, 예***빠, 하*롤, 해*고, 땡...</td>\n",
       "      <td>[5점, 5점, 5점, 5점, 4점, 4점, 4점, 4점, 4점, 4점]</td>\n",
       "      <td>[\\n조선왕조 이전에는 여성의 지위가 얽매이거나 낮지는 않았던 것 같다. 그래도 그...</td>\n",
       "    </tr>\n",
       "    <tr>\n",
       "      <th>393</th>\n",
       "      <td>9788960210103</td>\n",
       "      <td>[]</td>\n",
       "      <td>[]</td>\n",
       "      <td>[]</td>\n",
       "      <td>[]</td>\n",
       "      <td>[]</td>\n",
       "      <td>[]</td>\n",
       "    </tr>\n",
       "    <tr>\n",
       "      <th>394</th>\n",
       "      <td>9788908062221</td>\n",
       "      <td>[]</td>\n",
       "      <td>[]</td>\n",
       "      <td>[]</td>\n",
       "      <td>[]</td>\n",
       "      <td>[]</td>\n",
       "      <td>[]</td>\n",
       "    </tr>\n",
       "    <tr>\n",
       "      <th>395</th>\n",
       "      <td>9788937420252</td>\n",
       "      <td>[]</td>\n",
       "      <td>[]</td>\n",
       "      <td>[]</td>\n",
       "      <td>[]</td>\n",
       "      <td>[]</td>\n",
       "      <td>[]</td>\n",
       "    </tr>\n",
       "  </tbody>\n",
       "</table>\n",
       "<p>396 rows × 7 columns</p>\n",
       "</div>"
      ],
      "text/plain": [
       "              isbn rank_mean          rank_percentage  \\\n",
       "0    9788984995000        []                       []   \n",
       "1    9788932016450        []                       []   \n",
       "2    9788932015835     [2.0]   [0%, 0%, 0%, 0%, 100%]   \n",
       "3    9788982816567     [8.5]   [50%, 50%, 0%, 0%, 0%]   \n",
       "4    9788974282141     [8.0]   [0%, 100%, 0%, 0%, 0%]   \n",
       "..             ...       ...                      ...   \n",
       "391  9788971155028        []                       []   \n",
       "392  9788961461016     [7.0]  [17%, 33%, 42%, 8%, 0%]   \n",
       "393  9788960210103        []                       []   \n",
       "394  9788908062221        []                       []   \n",
       "395  9788937420252        []                       []   \n",
       "\n",
       "                                          review_title  \\\n",
       "0                                                   []   \n",
       "1                                                   []   \n",
       "2                                         [번역의 아쉬움...]   \n",
       "3         [상처받는게 두려운가, 일상의 갈등을 포착한 한국의 여자 레이몬드 카버....]   \n",
       "4                                     [복수의 방랑자 그리고 사랑]   \n",
       "..                                                 ...   \n",
       "391                                                 []   \n",
       "392  [여성과 여왕사이에서, 통일신라의 중심에 선덕여왕이 있다..., 아름답고 용감한 선...   \n",
       "393                                                 []   \n",
       "394                                                 []   \n",
       "395                                                 []   \n",
       "\n",
       "                                             review_id  \\\n",
       "0                                                   []   \n",
       "1                                                   []   \n",
       "2                                          [w*******i]   \n",
       "3                                       [지*, k******i]   \n",
       "4                                           [j******3]   \n",
       "..                                                 ...   \n",
       "391                                                 []   \n",
       "392  [고*미, a******m, 은**미, 공**마, 예***빠, 하*롤, 해*고, 땡...   \n",
       "393                                                 []   \n",
       "394                                                 []   \n",
       "395                                                 []   \n",
       "\n",
       "                                  review_rank  \\\n",
       "0                                          []   \n",
       "1                                          []   \n",
       "2                                        [1점]   \n",
       "3                                    [5점, 3점]   \n",
       "4                                        [4점]   \n",
       "..                                        ...   \n",
       "391                                        []   \n",
       "392  [5점, 5점, 5점, 5점, 4점, 4점, 4점, 4점, 4점, 4점]   \n",
       "393                                        []   \n",
       "394                                        []   \n",
       "395                                        []   \n",
       "\n",
       "                                           review_text  \n",
       "0                                                   []  \n",
       "1                                                   []  \n",
       "2    [\\n이 책은 정말 정말 추천하고 싶지 않은 책이다.\\n \\n아니면..나는 이 책이...  \n",
       "3    [\\n난 겁이 많다. 여기서 겁이란 호러영화를 보거나 자이로스윙같은걸 탈때의 두려움...  \n",
       "4    [\\n빅토리아 시대의 런던, 도도하고 아름다운 공작의 외동딸 레이디 사라 세인트 제...  \n",
       "..                                                 ...  \n",
       "391                                                 []  \n",
       "392  [\\n조선왕조 이전에는 여성의 지위가 얽매이거나 낮지는 않았던 것 같다. 그래도 그...  \n",
       "393                                                 []  \n",
       "394                                                 []  \n",
       "395                                                 []  \n",
       "\n",
       "[396 rows x 7 columns]"
      ]
     },
     "execution_count": 46,
     "metadata": {},
     "output_type": "execute_result"
    }
   ],
   "source": [
    "col = ['isbn','rank_mean','rank_percentage','review_title','review_id','review_rank','review_text']\n",
    "user = pd.DataFrame([isbn_idx,rank_mean,rank_percentage,review_title,review_id,review_rank,review_text]).T\n",
    "user.columns = col\n",
    "user"
   ]
  },
  {
   "cell_type": "code",
   "execution_count": 48,
   "id": "bb4851fc",
   "metadata": {},
   "outputs": [],
   "source": [
    "user.to_pickle('user_37601-37999.pkl', protocol = 4)"
   ]
  },
  {
   "cell_type": "code",
   "execution_count": 47,
   "id": "199e20ea",
   "metadata": {},
   "outputs": [
    {
     "name": "stdout",
     "output_type": "stream",
     "text": [
      "37999\n"
     ]
    }
   ],
   "source": [
    "for i in range(37601,38000):\n",
    "    if isbn13[i] == '9788937420252':\n",
    "        print(i)"
   ]
  },
  {
   "cell_type": "code",
   "execution_count": null,
   "id": "9a2f3e28",
   "metadata": {},
   "outputs": [],
   "source": []
  },
  {
   "cell_type": "code",
   "execution_count": 49,
   "id": "0d36aacf",
   "metadata": {},
   "outputs": [],
   "source": [
    "user1 = pd.read_pickle('user_37001-37300.pkl')\n",
    "user2 = pd.read_pickle('user_37301-37600.pkl')\n",
    "user3 = pd.read_pickle('user_37601-37999.pkl')"
   ]
  },
  {
   "cell_type": "code",
   "execution_count": 50,
   "id": "32ea47f1",
   "metadata": {},
   "outputs": [],
   "source": [
    "df = pd.concat([user1, user2,user3],ignore_index=True)\n",
    "df.to_pickle('user_37001-37999.pkl', protocol = 4)"
   ]
  },
  {
   "cell_type": "code",
   "execution_count": 44,
   "id": "b6b9921b",
   "metadata": {},
   "outputs": [
    {
     "data": {
      "text/plain": [
       "2525"
      ]
     },
     "execution_count": 44,
     "metadata": {},
     "output_type": "execute_result"
    }
   ],
   "source": [
    "6999 - 4474"
   ]
  },
  {
   "cell_type": "code",
   "execution_count": 43,
   "id": "35fd0a6c",
   "metadata": {},
   "outputs": [
    {
     "data": {
      "text/plain": [
       "2531"
      ]
     },
     "execution_count": 43,
     "metadata": {},
     "output_type": "execute_result"
    }
   ],
   "source": [
    "len(df)"
   ]
  },
  {
   "cell_type": "code",
   "execution_count": 132,
   "id": "ea28b956",
   "metadata": {},
   "outputs": [
    {
     "data": {
      "text/plain": [
       "33"
      ]
     },
     "execution_count": 132,
     "metadata": {},
     "output_type": "execute_result"
    }
   ],
   "source": [
    "df['isbn'].duplicated().sum()"
   ]
  },
  {
   "cell_type": "code",
   "execution_count": null,
   "id": "29093235",
   "metadata": {},
   "outputs": [],
   "source": []
  }
 ],
 "metadata": {
  "kernelspec": {
   "display_name": "Python 3",
   "language": "python",
   "name": "python3"
  },
  "language_info": {
   "codemirror_mode": {
    "name": "ipython",
    "version": 3
   },
   "file_extension": ".py",
   "mimetype": "text/x-python",
   "name": "python",
   "nbconvert_exporter": "python",
   "pygments_lexer": "ipython3",
   "version": "3.8.8"
  }
 },
 "nbformat": 4,
 "nbformat_minor": 5
}
