{
 "cells": [
  {
   "cell_type": "markdown",
   "id": "1534f9be",
   "metadata": {},
   "source": [
    "# 1. 크롤링"
   ]
  },
  {
   "cell_type": "code",
   "execution_count": 1,
   "id": "78929dfd",
   "metadata": {},
   "outputs": [],
   "source": [
    "from selenium import webdriver\n",
    "from selenium.webdriver.chrome.service import Service\n",
    "from bs4 import BeautifulSoup\n",
    "from selenium.webdriver.common.by import By\n",
    "import time\n",
    "import pandas as pd"
   ]
  },
  {
   "cell_type": "code",
   "execution_count": 2,
   "id": "bb441560",
   "metadata": {},
   "outputs": [],
   "source": [
    "import pickle"
   ]
  },
  {
   "cell_type": "code",
   "execution_count": 18,
   "id": "9e3633ca",
   "metadata": {},
   "outputs": [],
   "source": [
    "service = Service('chromedriver.exe')\n",
    "driver = webdriver.Chrome(service = service)"
   ]
  },
  {
   "cell_type": "code",
   "execution_count": 4,
   "id": "3aea11f6",
   "metadata": {},
   "outputs": [],
   "source": [
    "isbn13 = pd.read_pickle('isbn13.pkl')"
   ]
  },
  {
   "cell_type": "code",
   "execution_count": 6,
   "id": "3932170d",
   "metadata": {},
   "outputs": [
    {
     "data": {
      "text/plain": [
       "0        9791190710343\n",
       "1        9791190710350\n",
       "2        9791190710367\n",
       "3        9791128858338\n",
       "4        9788954685603\n",
       "             ...      \n",
       "54971    9791185020136\n",
       "54972    9788997838127\n",
       "54973    9788956591858\n",
       "54974    9788987794938\n",
       "54975    9788995696972\n",
       "Name: isbn13, Length: 54976, dtype: object"
      ]
     },
     "execution_count": 6,
     "metadata": {},
     "output_type": "execute_result"
    }
   ],
   "source": [
    "isbn13"
   ]
  },
  {
   "cell_type": "code",
   "execution_count": null,
   "id": "c1508f2f",
   "metadata": {},
   "outputs": [],
   "source": [
    "rank_mean = [] # 도서 평균 평점\n",
    "rank_percentage = [] # 평균 percentage\n",
    "review_title = [] # 리뷰 제목\n",
    "review_id = [] # 리뷰 id\n",
    "review_rank = [] # 리뷰 평점\n",
    "review_text = [] # 리뷰 \n",
    "isbn_idx = []\n",
    "\n",
    "\n",
    "for isbn in isbn13[3041:4000]: # 페이지 입력\n",
    "    url = \"http://www.yes24.com/product/search?query={}\".format(isbn)\n",
    "    driver.get(url)\n",
    "    time.sleep(2)\n",
    "    html = driver.page_source\n",
    "    soup = BeautifulSoup(html, 'html.parser')\n",
    "    \n",
    "    # 페이지에 있는 도서 링크(50개)\n",
    "    book_links = soup.select('a.gd_name')\n",
    "    goods = []\n",
    "    for link in book_links:\n",
    "        a= link['href'].split('/')[3] \n",
    "        goods.append(a)\n",
    "    for item in goods:\n",
    "        del(goods[1:])\n",
    "        driver.get('http://www.yes24.com'+'/Product/Goods/{}'.format(item)) # 상품 페이지\n",
    "        time.sleep(1)\n",
    "        html = driver.page_source\n",
    "        soup = BeautifulSoup(html, 'html.parser')\n",
    "        try:\n",
    "            mean = soup.select('div.gd_rating > em.yes_b')[0].text\n",
    "            rank_mean.append([mean]) # 도서 평균 평점\n",
    "        except:\n",
    "            mean = []\n",
    "            rank_mean.append(mean) # 도서 평균 평점\n",
    "        rank_p = []\n",
    "        try:\n",
    "            for k in range(5):\n",
    "                rank_ = soup.select('span.barGraphBase')[k].text # 평점 percentage\n",
    "                rank_p.append(rank_)\n",
    "            rank_percentage.append(rank_p)\n",
    "        except:\n",
    "            rank_ = []\n",
    "            rank_percentage.append(rank_)\n",
    "        try:\n",
    "            review_t = []  # 각각의 책의 리뷰제목 리스트\n",
    "            review_i = []\n",
    "            review_r = []\n",
    "            review_te = []\n",
    "            for page in range(1,3): # 리뷰 페이지 2개\n",
    "                driver.get('http://www.yes24.com/Product/communityModules/GoodsReviewList/{}?Type=ALL&_=1648001707174&Sort=2&PageNumber={}'.format(item, page))\n",
    "                time.sleep(1)\n",
    "                html = driver.page_source\n",
    "                soup = BeautifulSoup(html, 'html.parser')\n",
    "                \n",
    "                blog_link = []\n",
    "                for i in range(5): # 리뷰 한 페이지에 있는 5개 리뷰 가져오기\n",
    "                    try:\n",
    "                        title = soup.select('span.review_tit')[i].text.strip() # 리뷰 제목\n",
    "                        review_t.append(title)\n",
    "                        r_id = soup.select('a.lnk_id')[i].text # 리뷰 id\n",
    "                        review_i.append(r_id)\n",
    "                        rank = soup.select('span.review_rating')[i].text.split('\\n')[1][-2:] # 리뷰 평점\n",
    "                        review_r.append(rank)\n",
    "                        blog_l = soup.select('div.review_lnk a')[i]['href'] # 리뷰 블로그 링크\n",
    "                        blog_link.append(blog_l)\n",
    "                    except:\n",
    "                        pass\n",
    "                for j in range(5): # 리뷰 한 페이지에 있는 5개 블로그 내용 가져오기\n",
    "                        driver.get(blog_link[j]) # 리뷰 블로그 링크 들어가기\n",
    "                        time.sleep(1)\n",
    "                        html = driver.page_source\n",
    "                        soup = BeautifulSoup(html, 'html.parser')\n",
    "                        text = soup.select('div.blogContArea')[0].text # 리뷰 내용 \n",
    "                        review_te.append(text)\n",
    "        except:\n",
    "            pass\n",
    "        review_title.append(review_t)\n",
    "        review_id.append(review_i)\n",
    "        review_rank.append(review_r)\n",
    "        review_text.append(review_te)\n",
    "        isbn_idx.append(isbn)"
   ]
  },
  {
   "cell_type": "code",
   "execution_count": 20,
   "id": "31f1cc47",
   "metadata": {},
   "outputs": [
    {
     "data": {
      "text/html": [
       "<div>\n",
       "<style scoped>\n",
       "    .dataframe tbody tr th:only-of-type {\n",
       "        vertical-align: middle;\n",
       "    }\n",
       "\n",
       "    .dataframe tbody tr th {\n",
       "        vertical-align: top;\n",
       "    }\n",
       "\n",
       "    .dataframe thead th {\n",
       "        text-align: right;\n",
       "    }\n",
       "</style>\n",
       "<table border=\"1\" class=\"dataframe\">\n",
       "  <thead>\n",
       "    <tr style=\"text-align: right;\">\n",
       "      <th></th>\n",
       "      <th>rank_mean</th>\n",
       "      <th>rank_percentage</th>\n",
       "      <th>review_title</th>\n",
       "      <th>review_id</th>\n",
       "      <th>review_rank</th>\n",
       "      <th>review_text</th>\n",
       "    </tr>\n",
       "  </thead>\n",
       "  <tbody>\n",
       "    <tr>\n",
       "      <th>0</th>\n",
       "      <td>[8.8]</td>\n",
       "      <td>[80%, 0%, 20%, 0%, 0%]</td>\n",
       "      <td>[2022-05 우리를 아끼기로 합니다, 우리를 아끼기로 합니다, 우리를 아끼기로 ...</td>\n",
       "      <td>[져*, k*******2, n********1, y******y, d*****9]</td>\n",
       "      <td>[5점, 5점, 5점, 4점, 3점]</td>\n",
       "      <td>[\\np.25\\n그래서 종종 펜을 든다. 편지지가 아니더라도 쓴다. 편지를 쓰는 일...</td>\n",
       "    </tr>\n",
       "    <tr>\n",
       "      <th>1</th>\n",
       "      <td>[9.0]</td>\n",
       "      <td>[50%, 50%, 0%, 0%, 0%]</td>\n",
       "      <td>[꿋꿋한 그녀들의 삶, 나는 파독 간호사입니다, 나는 파독간호사입니다]</td>\n",
       "      <td>[키*스, 목***수]</td>\n",
       "      <td>[4점, 5점]</td>\n",
       "      <td>[\\n영화 &lt;국제시장&gt;중 내 눈길을 사로잡았던 건 아무래도 흥남부두에서 철수하는 장...</td>\n",
       "    </tr>\n",
       "    <tr>\n",
       "      <th>2</th>\n",
       "      <td>[10.0]</td>\n",
       "      <td>[100%, 0%, 0%, 0%, 0%]</td>\n",
       "      <td>[빌리 아일리시, 빌리 아일리시, 빌리 아일리시, 빌리 아일리시 04, (빌리 아일...</td>\n",
       "      <td>[N****e, 정*지, c*******3, c*******3, 로*나, 융*이, ...</td>\n",
       "      <td>[5점, 5점, 5점, 5점, 5점, 5점, 5점, 5점, 5점, 5점]</td>\n",
       "      <td>[\\n내가 빌리 아일리시를 처음 알게 된 건 아이러니하게도 그의 음악을 통해서가 아...</td>\n",
       "    </tr>\n",
       "    <tr>\n",
       "      <th>3</th>\n",
       "      <td>[10.0]</td>\n",
       "      <td>[100%, 0%, 0%, 0%, 0%]</td>\n",
       "      <td>[가끔 요리도 합니다. 요리 에세이(딜레르), 가끔 요리도 합니다, 가끔 요리도 합...</td>\n",
       "      <td>[러***니, 류*, p******7, t*******4, n******n]</td>\n",
       "      <td>[5점, 5점, 5점, 5점, 5점]</td>\n",
       "      <td>[\\n그림 그리는 보노의 나를 위한 요리요리 에세이\"가끔 요리도 합니다.\"왠지 요리...</td>\n",
       "    </tr>\n",
       "  </tbody>\n",
       "</table>\n",
       "</div>"
      ],
      "text/plain": [
       "  rank_mean         rank_percentage  \\\n",
       "0     [8.8]  [80%, 0%, 20%, 0%, 0%]   \n",
       "1     [9.0]  [50%, 50%, 0%, 0%, 0%]   \n",
       "2    [10.0]  [100%, 0%, 0%, 0%, 0%]   \n",
       "3    [10.0]  [100%, 0%, 0%, 0%, 0%]   \n",
       "\n",
       "                                        review_title  \\\n",
       "0  [2022-05 우리를 아끼기로 합니다, 우리를 아끼기로 합니다, 우리를 아끼기로 ...   \n",
       "1            [꿋꿋한 그녀들의 삶, 나는 파독 간호사입니다, 나는 파독간호사입니다]   \n",
       "2  [빌리 아일리시, 빌리 아일리시, 빌리 아일리시, 빌리 아일리시 04, (빌리 아일...   \n",
       "3  [가끔 요리도 합니다. 요리 에세이(딜레르), 가끔 요리도 합니다, 가끔 요리도 합...   \n",
       "\n",
       "                                           review_id  \\\n",
       "0     [져*, k*******2, n********1, y******y, d*****9]   \n",
       "1                                       [키*스, 목***수]   \n",
       "2  [N****e, 정*지, c*******3, c*******3, 로*나, 융*이, ...   \n",
       "3         [러***니, 류*, p******7, t*******4, n******n]   \n",
       "\n",
       "                                review_rank  \\\n",
       "0                      [5점, 5점, 5점, 4점, 3점]   \n",
       "1                                  [4점, 5점]   \n",
       "2  [5점, 5점, 5점, 5점, 5점, 5점, 5점, 5점, 5점, 5점]   \n",
       "3                      [5점, 5점, 5점, 5점, 5점]   \n",
       "\n",
       "                                         review_text  \n",
       "0  [\\np.25\\n그래서 종종 펜을 든다. 편지지가 아니더라도 쓴다. 편지를 쓰는 일...  \n",
       "1  [\\n영화 <국제시장>중 내 눈길을 사로잡았던 건 아무래도 흥남부두에서 철수하는 장...  \n",
       "2  [\\n내가 빌리 아일리시를 처음 알게 된 건 아이러니하게도 그의 음악을 통해서가 아...  \n",
       "3  [\\n그림 그리는 보노의 나를 위한 요리요리 에세이\"가끔 요리도 합니다.\"왠지 요리...  "
      ]
     },
     "execution_count": 20,
     "metadata": {},
     "output_type": "execute_result"
    }
   ],
   "source": [
    "col = ['isbn','rank_mean','rank_percentage','review_title','review_id','review_rank','review_text']\n",
    "user = pd.DataFrame([isbn_idx,rank_mean,rank_percentage,review_title,review_id,review_rank,review_text]).T\n",
    "user.columns = col\n",
    "user"
   ]
  },
  {
   "cell_type": "code",
   "execution_count": 10,
   "id": "0d12cb0a",
   "metadata": {},
   "outputs": [],
   "source": [
    "user.to_pickle('user_3041-3040', protocol = 4)"
   ]
  },
  {
   "cell_type": "code",
   "execution_count": 15,
   "id": "86b453e9",
   "metadata": {},
   "outputs": [],
   "source": [
    "user1 = pd.read_pickle('user_3000-3040.pkl') # 수정 전"
   ]
  },
  {
   "cell_type": "code",
   "execution_count": null,
   "id": "a9f567f2",
   "metadata": {},
   "outputs": [],
   "source": []
  }
 ],
 "metadata": {
  "kernelspec": {
   "display_name": "Python 3",
   "language": "python",
   "name": "python3"
  },
  "language_info": {
   "codemirror_mode": {
    "name": "ipython",
    "version": 3
   },
   "file_extension": ".py",
   "mimetype": "text/x-python",
   "name": "python",
   "nbconvert_exporter": "python",
   "pygments_lexer": "ipython3",
   "version": "3.8.8"
  }
 },
 "nbformat": 4,
 "nbformat_minor": 5
}
