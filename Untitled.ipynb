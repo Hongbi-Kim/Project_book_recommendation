{
 "cells": [
  {
   "cell_type": "code",
   "execution_count": null,
   "id": "f581e6c6",
   "metadata": {},
   "outputs": [],
   "source": [
    "review_t2 = []\n",
    "review_i2 = []\n",
    "review_r2 = []\n",
    "review_te2 = []\n",
    "for page in range(1,3): # 리뷰 페이지 2개\n",
    "    try:\n",
    "        driver.get('http://www.yes24.com/Product/communityModules/GoodsReviewList/{}?Type=ALL&_=1648001707174&Sort=2&PageNumber={}'.format(7288995, page))\n",
    "        time.sleep(1)\n",
    "        html = driver.page_source\n",
    "        soup = BeautifulSoup(html, 'html.parser')\n",
    "        review_t = []\n",
    "        review_i = []\n",
    "        review_r = []\n",
    "        review_te = []\n",
    "        blog_link = []\n",
    "        for i in range(5): # 리뷰 한 페이지에 있는 5개 리뷰 가져오기\n",
    "            try:\n",
    "                title = soup.select('span.review_tit')[i].text.strip() # 리뷰 제목\n",
    "                review_t.append(title)\n",
    "                r_id = soup.select('a.lnk_id')[i].text # 리뷰 id\n",
    "                review_i.append(r_id)\n",
    "                rank = soup.select('span.review_rating')[i].text.split('\\n')[1][-2:] # 리뷰 평점\n",
    "                review_r.append(rank)\n",
    "                blog_l = soup.select('div.review_lnk a')[i]['href'] # 리뷰 블로그 링크\n",
    "                blog_link.append(blog_l)\n",
    "            except:\n",
    "                pass\n",
    "        for j in range(5): # 리뷰 한 페이지에 있는 5개 블로그 내용 가져오기\n",
    "            try:\n",
    "                driver.get(blog_link[j]) # 리뷰 블로그 링크 들어가기\n",
    "                time.sleep(1)\n",
    "                html = driver.page_source\n",
    "                soup = BeautifulSoup(html, 'html.parser')\n",
    "                text = soup.select('div.blogContArea')[0].text # 리뷰 내용 \n",
    "                review_te.append(text)\n",
    "            except:\n",
    "                pass\n",
    "    except:\n",
    "        pass\n",
    "    review_t2.append(review_t)\n",
    "    review_i2.append(review_i)\n",
    "    review_r2.append(review_r)\n",
    "    review_te2.append(review_te)   "
   ]
  }
 ],
 "metadata": {
  "kernelspec": {
   "display_name": "Python 3",
   "language": "python",
   "name": "python3"
  },
  "language_info": {
   "codemirror_mode": {
    "name": "ipython",
    "version": 3
   },
   "file_extension": ".py",
   "mimetype": "text/x-python",
   "name": "python",
   "nbconvert_exporter": "python",
   "pygments_lexer": "ipython3",
   "version": "3.8.8"
  }
 },
 "nbformat": 4,
 "nbformat_minor": 5
}
