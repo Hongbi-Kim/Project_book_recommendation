{
 "cells": [
  {
   "cell_type": "code",
   "execution_count": 1,
   "id": "8ffbdd21",
   "metadata": {},
   "outputs": [],
   "source": [
    "import pandas as pd\n",
    "import numpy as np\n",
    "import pickle"
   ]
  },
  {
   "cell_type": "code",
   "execution_count": 2,
   "id": "35ef9243",
   "metadata": {},
   "outputs": [
    {
     "data": {
      "text/html": [
       "<div>\n",
       "<style scoped>\n",
       "    .dataframe tbody tr th:only-of-type {\n",
       "        vertical-align: middle;\n",
       "    }\n",
       "\n",
       "    .dataframe tbody tr th {\n",
       "        vertical-align: top;\n",
       "    }\n",
       "\n",
       "    .dataframe thead th {\n",
       "        text-align: right;\n",
       "    }\n",
       "</style>\n",
       "<table border=\"1\" class=\"dataframe\">\n",
       "  <thead>\n",
       "    <tr style=\"text-align: right;\">\n",
       "      <th></th>\n",
       "      <th>isbn</th>\n",
       "      <th>title</th>\n",
       "      <th>categoryName</th>\n",
       "      <th>salesPoint</th>\n",
       "      <th>adult</th>\n",
       "      <th>rank</th>\n",
       "      <th>genres</th>\n",
       "      <th>mood</th>\n",
       "      <th>interest</th>\n",
       "    </tr>\n",
       "  </thead>\n",
       "  <tbody>\n",
       "    <tr>\n",
       "      <th>198</th>\n",
       "      <td>9791165341909</td>\n",
       "      <td>달러구트 꿈 백화점 (50만 부 기념 드림 에디션) - 주문하신 꿈은 매진입니다</td>\n",
       "      <td>소설</td>\n",
       "      <td>379054</td>\n",
       "      <td>False</td>\n",
       "      <td>8</td>\n",
       "      <td>[역사, 동화, 로맨스, 미스터리, 판타지, 무협]</td>\n",
       "      <td>[행복, 위로]</td>\n",
       "      <td>[일기, 동물, 사랑, 생각, 진로, 설득]</td>\n",
       "    </tr>\n",
       "    <tr>\n",
       "      <th>559</th>\n",
       "      <td>9791161571188</td>\n",
       "      <td>불편한 편의점 (40만부 기념 벚꽃 에디션)</td>\n",
       "      <td>소설</td>\n",
       "      <td>330837</td>\n",
       "      <td>False</td>\n",
       "      <td>10</td>\n",
       "      <td>[시대, 동화]</td>\n",
       "      <td>[위로, 힐링, 행복]</td>\n",
       "      <td>[시간, 심리, 관계, 사랑, 생각]</td>\n",
       "    </tr>\n",
       "    <tr>\n",
       "      <th>40339</th>\n",
       "      <td>9791192186313</td>\n",
       "      <td>시맨틱 에러 포토에세이</td>\n",
       "      <td>에세이</td>\n",
       "      <td>242520</td>\n",
       "      <td>False</td>\n",
       "      <td>10</td>\n",
       "      <td>[판타지]</td>\n",
       "      <td>[위로]</td>\n",
       "      <td>[사랑, 청춘, 영화, 사진]</td>\n",
       "    </tr>\n",
       "    <tr>\n",
       "      <th>199</th>\n",
       "      <td>9788954681179</td>\n",
       "      <td>밝은 밤 (별밤 에디션)</td>\n",
       "      <td>소설</td>\n",
       "      <td>204554</td>\n",
       "      <td>False</td>\n",
       "      <td>10</td>\n",
       "      <td>[예술, 동화, 로맨스]</td>\n",
       "      <td>[행복, 위로, 열정]</td>\n",
       "      <td>[사랑, 생각, 인생, 청춘, 관계, 시간, 가족]</td>\n",
       "    </tr>\n",
       "    <tr>\n",
       "      <th>200</th>\n",
       "      <td>9791165343729</td>\n",
       "      <td>달러구트 꿈 백화점 2 - 단골손님을 찾습니다</td>\n",
       "      <td>소설</td>\n",
       "      <td>191493</td>\n",
       "      <td>False</td>\n",
       "      <td>9</td>\n",
       "      <td>[동화, 로맨스, 미스터리, 판타지, 무협]</td>\n",
       "      <td>[행복, 위로]</td>\n",
       "      <td>[사랑, 생각, 인생]</td>\n",
       "    </tr>\n",
       "  </tbody>\n",
       "</table>\n",
       "</div>"
      ],
      "text/plain": [
       "                isbn                                         title  \\\n",
       "198    9791165341909  달러구트 꿈 백화점 (50만 부 기념 드림 에디션) - 주문하신 꿈은 매진입니다   \n",
       "559    9791161571188                      불편한 편의점 (40만부 기념 벚꽃 에디션)   \n",
       "40339  9791192186313                                  시맨틱 에러 포토에세이   \n",
       "199    9788954681179                                 밝은 밤 (별밤 에디션)   \n",
       "200    9791165343729                     달러구트 꿈 백화점 2 - 단골손님을 찾습니다   \n",
       "\n",
       "      categoryName  salesPoint  adult  rank                        genres  \\\n",
       "198             소설      379054  False     8  [역사, 동화, 로맨스, 미스터리, 판타지, 무협]   \n",
       "559             소설      330837  False    10                      [시대, 동화]   \n",
       "40339          에세이      242520  False    10                         [판타지]   \n",
       "199             소설      204554  False    10                 [예술, 동화, 로맨스]   \n",
       "200             소설      191493  False     9      [동화, 로맨스, 미스터리, 판타지, 무협]   \n",
       "\n",
       "               mood                      interest  \n",
       "198        [행복, 위로]      [일기, 동물, 사랑, 생각, 진로, 설득]  \n",
       "559    [위로, 힐링, 행복]          [시간, 심리, 관계, 사랑, 생각]  \n",
       "40339          [위로]              [사랑, 청춘, 영화, 사진]  \n",
       "199    [행복, 위로, 열정]  [사랑, 생각, 인생, 청춘, 관계, 시간, 가족]  \n",
       "200        [행복, 위로]                  [사랑, 생각, 인생]  "
      ]
     },
     "execution_count": 2,
     "metadata": {},
     "output_type": "execute_result"
    }
   ],
   "source": [
    "re = pd.read_pickle('recommend_cat_new.pkl')\n",
    "re.head()"
   ]
  },
  {
   "cell_type": "code",
   "execution_count": 3,
   "id": "04c35b1d",
   "metadata": {},
   "outputs": [],
   "source": [
    "re = re.reset_index()"
   ]
  },
  {
   "cell_type": "code",
   "execution_count": 32,
   "id": "8a03866a",
   "metadata": {},
   "outputs": [
    {
     "name": "stdout",
     "output_type": "stream",
     "text": [
      "성인입니까? : 네 / 아니요\n",
      "네\n",
      "\n",
      "원하시는 분야를 입력해주세요 : \n",
      "소설 / 에세이 / 자기계발 / 시 / 희곡 / 선택없음\n",
      "소설 에세이\n",
      "\n",
      "책을 읽을 때 선호하는 장르가 있나요? : \n",
      "시대 / 역사 / 철학 / 로맨스 / 전쟁 /  미스터리 / 예술 /  판타지 / 자서전 / 동화 / 과학 / 무협 / 선택없음\n",
      "역사 전쟁\n",
      "원하지 않는 장르를 입력해주세요 : \n",
      "자서전\n",
      "\n",
      "어떤 감성의 책을 원하세요? : \n",
      "고민 / 열정 / 도전 / 긍정 / 후회 / 행복 / 우울 / 위로 / 고통 / 자유 /                    \n",
      "희망 / 슬픔 / 열망 / 비극 / 불안 / 용기 / 절망 / 불행 / 유머 / 힐링 / 선택없음\n",
      "선택없음\n",
      "원하지 않는 감성를 입력해주세요 : \n",
      "후회 우울\n",
      "\n",
      "요즘 관심있는 것이 무엇인가요? : \n",
      "리더십 / 시간 / 페미니즘 / 취업 / 진로 / 비즈니스 / 설득 / 건강 / 심리 / 시 / 희곡 / 가족 / 관계 / 동물 / 사진 / 그림 / 여행 / 미술 / 영화 / 음악 / 음식 / 일기 / 자연 / 종교 / 사랑 / 인간 / 생각 / 사회 / 인생 / 일상 / 친구 / 성공 / 청춘 / 정치 / 취미 / 스포츠 / 선택없음\n",
      "청춘 리더십\n",
      "원하지 않는 관심사를 입력해주세요 : \n",
      "선택없음\n"
     ]
    }
   ],
   "source": [
    "카테고리 = []\n",
    "장르 = []\n",
    "감성 = []\n",
    "관심사 = []\n",
    "성인 = []\n",
    "장르no = []\n",
    "감성no = []\n",
    "관심사no = []\n",
    "성인no = []\n",
    "\n",
    "#book = pd.read_pickle('recommend.pkl')\n",
    "성인질문 = input('성인입니까? : 네 / 아니요\\n')\n",
    "if 성인질문 == '네':\n",
    "    성인.append([True,False])\n",
    "    카테고리.append(input(\"\\n원하시는 분야를 입력해주세요 : \\n소설 / 에세이 / 자기계발 / 시 / 희곡 / 선택없음\\n\").split())\n",
    "    장르.append(input('\\n책을 읽을 때 선호하는 장르가 있나요? : \\n시대 / 역사 / 철학 / 로맨스 / 전쟁 /  미스터리 / 예술 /  판타지 / 자서전 / 동화 / 과학 / 무협 / 선택없음\\n').split())\n",
    "    장르no.append(input('원하지 않는 장르를 입력해주세요 : \\n').split())\n",
    "    감성.append(input('\\n어떤 감성의 책을 원하세요? : \\n고민 / 열정 / 도전 / 긍정 / 후회 / 행복 / 우울 / 위로 / 고통 / 자유 /\\\n",
    "                    \\n희망 / 슬픔 / 열망 / 비극 / 불안 / 용기 / 절망 / 불행 / 유머 / 힐링 / 선택없음\\n').split())\n",
    "    감성no.append(input('원하지 않는 감성를 입력해주세요 : \\n').split())\n",
    "    관심사.append(input('\\n요즘 관심있는 것이 무엇인가요? : \\n리더십 / 시간 / 페미니즘 / 취업 / 진로 / 비즈니스 / 설득 / 건강 / 심리 / 시 / 희곡 / 가족 / 관계 / 동물 / 사진 / 그림 / 여행 / 미술 / 영화 / 음악 / 음식 / 일기 / 자연 / 종교 / 사랑 / 인간 / 생각 / 사회 / 인생 / 일상 / 친구 / 성공 / 청춘 / 정치 / 취미 / 스포츠 / 선택없음\\n').split())\n",
    "    관심사no.append(input('원하지 않는 관심사를 입력해주세요 : \\n').split())\n",
    "elif 성인질문 == '아니요':\n",
    "    성인.append([False])\n",
    "    카테고리.append(input(\"\\n원하시는 분야를 입력해주세요 : \\n소설 / 에세이 / 자기계발 / 시 / 희곡 / 선택없음\\n\").split())\n",
    "    장르.append(input('\\n책을 읽을 때 선호하는 장르가 있나요? : \\n시대 / 역사 / 철학 / 로맨스 / 전쟁 /  미스터리 / 예술 /  판타지 / 자서전 / 동화 / 과학 / 무협 / 선택없음\\n').split())\n",
    "    장르no.append(input('원하지 않는 장르를 입력해주세요 : \\n').split())\n",
    "    감성.append(input('\\n어떤 감성의 책을 원하세요? : \\n고민 / 열정 / 도전 / 긍정 / 후회 / 행복 / 우울 / 위로 / 고통 / 자유 /\\\n",
    "                    \\n희망 / 슬픔 / 열망 / 비극 / 불안 / 용기 / 절망 / 불행 / 유머 / 힐링 / 선택없음\\n').split())\n",
    "    감성no.append(input('원하지 않는 감성를 입력해주세요 : \\n').split())\n",
    "    관심사.append(input('\\n요즘 관심있는 것이 무엇인가요? : \\n리더십 / 시간 / 페미니즘 / 취업 / 진로 / 비즈니스 / 설득 / 건강 / 심리 / 시 / 희곡 / 가족 / 관계 / 동물 / 사진 / 그림 / 여행 / 미술 / 영화 / 음악 / 음식 / 일기 / 자연 / 종교 / 사랑 / 인간 / 생각 / 사회 / 인생 / 일상 / 친구 / 성공 / 청춘 / 정치 / 취미 / 스포츠 / 선택없음\\n').split())\n",
    "    관심사no.append(input('원하지 않는 관심사를 입력해주세요 : \\n').split())"
   ]
  },
  {
   "cell_type": "code",
   "execution_count": 33,
   "id": "70fcf9c5",
   "metadata": {},
   "outputs": [
    {
     "data": {
      "text/plain": [
       "([[True, False]],\n",
       " [['소설', '에세이']],\n",
       " [['역사', '전쟁']],\n",
       " [['자서전']],\n",
       " [['선택없음']],\n",
       " [['후회', '우울']],\n",
       " [['청춘', '리더십']],\n",
       " [['선택없음']])"
      ]
     },
     "execution_count": 33,
     "metadata": {},
     "output_type": "execute_result"
    }
   ],
   "source": [
    "성인, 카테고리, 장르, 장르no, 감성, 감성no, 관심사, 관심사no"
   ]
  },
  {
   "cell_type": "code",
   "execution_count": 17,
   "id": "c48219a7",
   "metadata": {},
   "outputs": [],
   "source": [
    "# 관심있는 것\n",
    "def category(카테고리):\n",
    "    if 카테고리[0][0] != '선택없음':\n",
    "        return (re['categoryName'][i] in 카테고리[0])\n",
    "    else:\n",
    "        return True\n",
    "\n",
    "def genresand(장르):\n",
    "    if 장르[0][0] == '선택없음':\n",
    "        return True\n",
    "    elif (len(장르[0]) == 1):\n",
    "        return (장르[0][0] in re['genres'][i])\n",
    "    elif (len(장르[0]) == 2):\n",
    "        return (장르[0][0] in re['genres'][i]) & (장르[0][1] in re['genres'][i])\n",
    "\n",
    "\n",
    "def moodand(감성):\n",
    "    if 감성[0][0] == '선택없음':\n",
    "        return True\n",
    "    elif (len(감성[0]) == 1):\n",
    "        return (감성[0][0] in re['mood'][i])\n",
    "    elif (len(감성[0]) == 2):\n",
    "        return (감성[0][0] in re['mood'][i]) & (감성[0][1] in re['mood'][i])\n",
    "\n",
    "def interestand(관심사):\n",
    "    if 관심사[0][0] == '선택없음':\n",
    "        return True\n",
    "    elif (len(관심사[0]) == 1):\n",
    "        return (관심사[0][0] in re['interest'][i])\n",
    "    elif (len(관심사[0]) == 2):\n",
    "        return (관심사[0][0] in re['interest'][i]) & (관심사[0][1] in re['interest'][i])\n",
    "    \n",
    "def genresor(장르):\n",
    "    if 장르[0][0] == '선택없음':\n",
    "        return True\n",
    "    elif (len(장르[0]) == 1):\n",
    "        return (장르[0][0] in re['genres'][i])\n",
    "    elif (len(장르[0]) == 2):\n",
    "        return (장르[0][0] in re['genres'][i]) | (장르[0][1] in re['genres'][i])\n",
    "\n",
    "\n",
    "def moodor(감성):\n",
    "    if 감성[0][0] == '선택없음':\n",
    "        return True\n",
    "    elif (len(감성[0]) == 1):\n",
    "        return (감성[0][0] in re['mood'][i])\n",
    "    elif (len(감성[0]) == 2):\n",
    "        return (감성[0][0] in re['mood'][i]) | (감성[0][1] in re['mood'][i])\n",
    "\n",
    "def interestor(관심사):\n",
    "    if 관심사[0][0] == '선택없음':\n",
    "        return True\n",
    "    elif (len(관심사[0]) == 1):\n",
    "        return (관심사[0][0] in re['interest'][i])\n",
    "    elif (len(관심사[0]) == 2):\n",
    "        return (관심사[0][0] in re['interest'][i]) | (관심사[0][1] in re['interest'][i])"
   ]
  },
  {
   "cell_type": "code",
   "execution_count": 29,
   "id": "6760f476",
   "metadata": {},
   "outputs": [],
   "source": [
    "# 관심없는 것\n",
    "\n",
    "def nogenresand(장르no):\n",
    "    if 장르no[0][0] == '선택없음':\n",
    "        return True\n",
    "    elif (len(장르no[0]) == 1):\n",
    "        return (장르no[0][0] not in re['genres'][i])\n",
    "    elif (len(장르no[0]) == 2):\n",
    "        return (장르no[0][0] not in re['genres'][i]) & (장르no[0][1] not in re['genres'][i])\n",
    "\n",
    "\n",
    "def nomoodand(감성no):\n",
    "    if 감성no[0][0] == '선택없음':\n",
    "        return True\n",
    "    elif (len(감성no[0]) == 1):\n",
    "        return (감성no[0][0] not in re['mood'][i])\n",
    "    elif (len(감성no[0]) == 2):\n",
    "        return (감성no[0][0] not in re['mood'][i]) & (감성no[0][1] not in re['mood'][i])\n",
    "\n",
    "def nointerestand(관심사no):\n",
    "    if 관심사no[0][0] == '선택없음':\n",
    "        return True\n",
    "    elif (len(관심사no[0]) == 1):\n",
    "        return (관심사no[0][0] not in re['interest'][i])\n",
    "    elif (len(관심사no[0]) == 2):\n",
    "        return (관심사no[0][0] not in re['interest'][i]) & (관심사no[0][1] not in re['interest'][i])"
   ]
  },
  {
   "cell_type": "code",
   "execution_count": 24,
   "id": "7e3f966b",
   "metadata": {},
   "outputs": [
    {
     "data": {
      "text/plain": [
       "(True, True)"
      ]
     },
     "execution_count": 24,
     "metadata": {},
     "output_type": "execute_result"
    }
   ],
   "source": [
    "관심사[0][0] == '선택없음', interest(관심사)"
   ]
  },
  {
   "cell_type": "code",
   "execution_count": 210,
   "id": "e1c89f74",
   "metadata": {},
   "outputs": [
    {
     "data": {
      "text/plain": [
       "('소설', ['에세이'])"
      ]
     },
     "execution_count": 210,
     "metadata": {},
     "output_type": "execute_result"
    }
   ],
   "source": [
    " 카테고리[0]"
   ]
  },
  {
   "cell_type": "code",
   "execution_count": 216,
   "id": "ab8e63bb",
   "metadata": {},
   "outputs": [
    {
     "data": {
      "text/plain": [
       "True"
      ]
     },
     "execution_count": 216,
     "metadata": {},
     "output_type": "execute_result"
    }
   ],
   "source": [
    "(re['adult'][0] in 성인[0])"
   ]
  },
  {
   "cell_type": "code",
   "execution_count": 34,
   "id": "1917cfe0",
   "metadata": {
    "scrolled": true
   },
   "outputs": [
    {
     "data": {
      "text/html": [
       "<div>\n",
       "<style scoped>\n",
       "    .dataframe tbody tr th:only-of-type {\n",
       "        vertical-align: middle;\n",
       "    }\n",
       "\n",
       "    .dataframe tbody tr th {\n",
       "        vertical-align: top;\n",
       "    }\n",
       "\n",
       "    .dataframe thead th {\n",
       "        text-align: right;\n",
       "    }\n",
       "</style>\n",
       "<table border=\"1\" class=\"dataframe\">\n",
       "  <thead>\n",
       "    <tr style=\"text-align: right;\">\n",
       "      <th></th>\n",
       "      <th>index</th>\n",
       "      <th>isbn</th>\n",
       "      <th>title</th>\n",
       "      <th>categoryName</th>\n",
       "      <th>salesPoint</th>\n",
       "      <th>adult</th>\n",
       "      <th>rank</th>\n",
       "      <th>genres</th>\n",
       "      <th>mood</th>\n",
       "      <th>interest</th>\n",
       "    </tr>\n",
       "  </thead>\n",
       "  <tbody>\n",
       "    <tr>\n",
       "      <th>28</th>\n",
       "      <td>1196</td>\n",
       "      <td>9788936433673</td>\n",
       "      <td>엄마를 부탁해</td>\n",
       "      <td>소설</td>\n",
       "      <td>83218</td>\n",
       "      <td>False</td>\n",
       "      <td>9</td>\n",
       "      <td>[역사, 시대, 동화]</td>\n",
       "      <td>[위로, 열정, 행복]</td>\n",
       "      <td>[사랑, 청춘, 가족, 시간, 심리, 인생, 사회, 인간]</td>\n",
       "    </tr>\n",
       "    <tr>\n",
       "      <th>30</th>\n",
       "      <td>220</td>\n",
       "      <td>9788937460050</td>\n",
       "      <td>동물농장</td>\n",
       "      <td>소설</td>\n",
       "      <td>81901</td>\n",
       "      <td>False</td>\n",
       "      <td>9</td>\n",
       "      <td>[예술, 시대, 역사, 동화]</td>\n",
       "      <td>[자유, 유머]</td>\n",
       "      <td>[정치, 동물, 스포츠, 사회, 인간, 리더십]</td>\n",
       "    </tr>\n",
       "    <tr>\n",
       "      <th>53</th>\n",
       "      <td>228</td>\n",
       "      <td>9788937437564</td>\n",
       "      <td>참을 수 없는 존재의 가벼움 - 국내 출간 30주년 기념 특별판</td>\n",
       "      <td>소설</td>\n",
       "      <td>57571</td>\n",
       "      <td>False</td>\n",
       "      <td>9</td>\n",
       "      <td>[예술, 시대, 역사]</td>\n",
       "      <td>[행복, 열정]</td>\n",
       "      <td>[생각, 사랑, 인생, 청춘, 인간]</td>\n",
       "    </tr>\n",
       "    <tr>\n",
       "      <th>67</th>\n",
       "      <td>43012</td>\n",
       "      <td>9788971844427</td>\n",
       "      <td>지도 밖으로 행군하라</td>\n",
       "      <td>에세이</td>\n",
       "      <td>48830</td>\n",
       "      <td>False</td>\n",
       "      <td>9</td>\n",
       "      <td>[역사]</td>\n",
       "      <td>[자유, 열망]</td>\n",
       "      <td>[일기, 리더십]</td>\n",
       "    </tr>\n",
       "    <tr>\n",
       "      <th>118</th>\n",
       "      <td>716</td>\n",
       "      <td>9788937460753</td>\n",
       "      <td>위대한 개츠비</td>\n",
       "      <td>소설</td>\n",
       "      <td>35787</td>\n",
       "      <td>False</td>\n",
       "      <td>9</td>\n",
       "      <td>[전쟁, 시대, 미스터리]</td>\n",
       "      <td>[열정, 행복, 도전, 유머]</td>\n",
       "      <td>[심리, 사랑, 인생, 청춘, 성공]</td>\n",
       "    </tr>\n",
       "    <tr>\n",
       "      <th>...</th>\n",
       "      <td>...</td>\n",
       "      <td>...</td>\n",
       "      <td>...</td>\n",
       "      <td>...</td>\n",
       "      <td>...</td>\n",
       "      <td>...</td>\n",
       "      <td>...</td>\n",
       "      <td>...</td>\n",
       "      <td>...</td>\n",
       "      <td>...</td>\n",
       "    </tr>\n",
       "    <tr>\n",
       "      <th>53846</th>\n",
       "      <td>38868</td>\n",
       "      <td>9791165399542</td>\n",
       "      <td>불사조 1 : 선과 악</td>\n",
       "      <td>소설</td>\n",
       "      <td>20</td>\n",
       "      <td>True</td>\n",
       "      <td>0</td>\n",
       "      <td>[동화, 전쟁]</td>\n",
       "      <td>[위로, 고통, 희망, 슬픔, 불안]</td>\n",
       "      <td>[페미니즘, 청춘, 생각, 인생, 인간]</td>\n",
       "    </tr>\n",
       "    <tr>\n",
       "      <th>53914</th>\n",
       "      <td>38822</td>\n",
       "      <td>9791190526500</td>\n",
       "      <td>계변쌍학무</td>\n",
       "      <td>소설</td>\n",
       "      <td>20</td>\n",
       "      <td>False</td>\n",
       "      <td>0</td>\n",
       "      <td>[역사, 동화, 철학, 로맨스, 전쟁]</td>\n",
       "      <td>[열정, 행복]</td>\n",
       "      <td>[사랑, 인생, 청춘, 종교]</td>\n",
       "    </tr>\n",
       "    <tr>\n",
       "      <th>54079</th>\n",
       "      <td>39326</td>\n",
       "      <td>9788952241214</td>\n",
       "      <td>[큰글자] 레 미제라블 2</td>\n",
       "      <td>소설</td>\n",
       "      <td>20</td>\n",
       "      <td>False</td>\n",
       "      <td>0</td>\n",
       "      <td>[예술, 시대, 역사, 철학]</td>\n",
       "      <td>[희망, 행복, 위로, 열정]</td>\n",
       "      <td>[사랑, 생각, 인생, 청춘, 사회, 종교]</td>\n",
       "    </tr>\n",
       "    <tr>\n",
       "      <th>54080</th>\n",
       "      <td>39325</td>\n",
       "      <td>9788952241207</td>\n",
       "      <td>[큰글자] 레 미제라블 1</td>\n",
       "      <td>소설</td>\n",
       "      <td>20</td>\n",
       "      <td>False</td>\n",
       "      <td>0</td>\n",
       "      <td>[예술, 시대, 역사, 철학]</td>\n",
       "      <td>[희망, 행복, 위로, 열정]</td>\n",
       "      <td>[사랑, 생각, 인생, 청춘, 사회, 종교]</td>\n",
       "    </tr>\n",
       "    <tr>\n",
       "      <th>54291</th>\n",
       "      <td>7</td>\n",
       "      <td>9791135464317</td>\n",
       "      <td>전능하신 영주님 11</td>\n",
       "      <td>소설</td>\n",
       "      <td>0</td>\n",
       "      <td>False</td>\n",
       "      <td>0</td>\n",
       "      <td>[역사, 전쟁]</td>\n",
       "      <td>[행복]</td>\n",
       "      <td>[리더십, 인생, 일상]</td>\n",
       "    </tr>\n",
       "  </tbody>\n",
       "</table>\n",
       "<p>1734 rows × 10 columns</p>\n",
       "</div>"
      ],
      "text/plain": [
       "       index           isbn                                title categoryName  \\\n",
       "28      1196  9788936433673                              엄마를 부탁해           소설   \n",
       "30       220  9788937460050                                 동물농장           소설   \n",
       "53       228  9788937437564  참을 수 없는 존재의 가벼움 - 국내 출간 30주년 기념 특별판           소설   \n",
       "67     43012  9788971844427                          지도 밖으로 행군하라          에세이   \n",
       "118      716  9788937460753                              위대한 개츠비           소설   \n",
       "...      ...            ...                                  ...          ...   \n",
       "53846  38868  9791165399542                         불사조 1 : 선과 악           소설   \n",
       "53914  38822  9791190526500                                계변쌍학무           소설   \n",
       "54079  39326  9788952241214                       [큰글자] 레 미제라블 2           소설   \n",
       "54080  39325  9788952241207                       [큰글자] 레 미제라블 1           소설   \n",
       "54291      7  9791135464317                          전능하신 영주님 11           소설   \n",
       "\n",
       "       salesPoint  adult  rank                 genres                  mood  \\\n",
       "28          83218  False     9           [역사, 시대, 동화]          [위로, 열정, 행복]   \n",
       "30          81901  False     9       [예술, 시대, 역사, 동화]              [자유, 유머]   \n",
       "53          57571  False     9           [예술, 시대, 역사]              [행복, 열정]   \n",
       "67          48830  False     9                   [역사]              [자유, 열망]   \n",
       "118         35787  False     9         [전쟁, 시대, 미스터리]      [열정, 행복, 도전, 유머]   \n",
       "...           ...    ...   ...                    ...                   ...   \n",
       "53846          20   True     0               [동화, 전쟁]  [위로, 고통, 희망, 슬픔, 불안]   \n",
       "53914          20  False     0  [역사, 동화, 철학, 로맨스, 전쟁]              [열정, 행복]   \n",
       "54079          20  False     0       [예술, 시대, 역사, 철학]      [희망, 행복, 위로, 열정]   \n",
       "54080          20  False     0       [예술, 시대, 역사, 철학]      [희망, 행복, 위로, 열정]   \n",
       "54291           0  False     0               [역사, 전쟁]                  [행복]   \n",
       "\n",
       "                               interest  \n",
       "28     [사랑, 청춘, 가족, 시간, 심리, 인생, 사회, 인간]  \n",
       "30           [정치, 동물, 스포츠, 사회, 인간, 리더십]  \n",
       "53                 [생각, 사랑, 인생, 청춘, 인간]  \n",
       "67                            [일기, 리더십]  \n",
       "118                [심리, 사랑, 인생, 청춘, 성공]  \n",
       "...                                 ...  \n",
       "53846            [페미니즘, 청춘, 생각, 인생, 인간]  \n",
       "53914                  [사랑, 인생, 청춘, 종교]  \n",
       "54079          [사랑, 생각, 인생, 청춘, 사회, 종교]  \n",
       "54080          [사랑, 생각, 인생, 청춘, 사회, 종교]  \n",
       "54291                     [리더십, 인생, 일상]  \n",
       "\n",
       "[1734 rows x 10 columns]"
      ]
     },
     "execution_count": 34,
     "metadata": {},
     "output_type": "execute_result"
    }
   ],
   "source": [
    "select_list_and = []\n",
    "for i in range(len(re)):\n",
    "    if (re['adult'][i] in 성인[0]) & category(카테고리) & genresand(장르) & moodand(감성) & interestand(관심사)\\\n",
    "    & nogenresand(장르no) & nomoodand(감성no) & nointerestand(관심사no) :\n",
    "        select_list_and.append(re.loc[i])\n",
    "        \n",
    "select_book_and = pd.DataFrame(select_list_and)\n",
    "\n",
    "select_list_or = []\n",
    "for i in range(len(re)):\n",
    "    if (re['adult'][i] in 성인[0]) & category(카테고리) & genresor(장르) & moodor(감성) & interestor(관심사)\\\n",
    "    & nogenresand(장르no) & nomoodand(감성no) & nointerestand(관심사no):\n",
    "        select_list_or.append(re.loc[i])\n",
    "        \n",
    "select_book_or = pd.DataFrame(select_list_or)\n",
    "\n",
    "if len(select_book_and) >= 20:\n",
    "    a = select_book_and\n",
    "else:\n",
    "    a = select_book_or\n",
    "\n",
    "a\n",
    "\n",
    "## score"
   ]
  },
  {
   "cell_type": "code",
   "execution_count": 8,
   "id": "15e19392",
   "metadata": {},
   "outputs": [
    {
     "data": {
      "text/plain": [
       "27"
      ]
     },
     "execution_count": 8,
     "metadata": {},
     "output_type": "execute_result"
    }
   ],
   "source": [
    "len(select_book)"
   ]
  },
  {
   "cell_type": "code",
   "execution_count": 25,
   "id": "95dcb8db",
   "metadata": {},
   "outputs": [
    {
     "data": {
      "text/plain": [
       "[True, False]"
      ]
     },
     "execution_count": 25,
     "metadata": {},
     "output_type": "execute_result"
    }
   ],
   "source": [
    "성인[0]"
   ]
  },
  {
   "cell_type": "code",
   "execution_count": 26,
   "id": "2220bc12",
   "metadata": {},
   "outputs": [
    {
     "data": {
      "text/plain": [
       "False"
      ]
     },
     "execution_count": 26,
     "metadata": {},
     "output_type": "execute_result"
    }
   ],
   "source": [
    "re['adult'][0]"
   ]
  },
  {
   "cell_type": "code",
   "execution_count": null,
   "id": "07bc34ee",
   "metadata": {},
   "outputs": [],
   "source": []
  },
  {
   "cell_type": "code",
   "execution_count": null,
   "id": "7c0011f3",
   "metadata": {},
   "outputs": [],
   "source": []
  },
  {
   "cell_type": "code",
   "execution_count": null,
   "id": "d25051b7",
   "metadata": {},
   "outputs": [],
   "source": []
  },
  {
   "cell_type": "code",
   "execution_count": null,
   "id": "c753621f",
   "metadata": {},
   "outputs": [],
   "source": []
  },
  {
   "cell_type": "code",
   "execution_count": null,
   "id": "2f231500",
   "metadata": {},
   "outputs": [],
   "source": []
  }
 ],
 "metadata": {
  "kernelspec": {
   "display_name": "Python 3",
   "language": "python",
   "name": "python3"
  },
  "language_info": {
   "codemirror_mode": {
    "name": "ipython",
    "version": 3
   },
   "file_extension": ".py",
   "mimetype": "text/x-python",
   "name": "python",
   "nbconvert_exporter": "python",
   "pygments_lexer": "ipython3",
   "version": "3.8.8"
  }
 },
 "nbformat": 4,
 "nbformat_minor": 5
}
