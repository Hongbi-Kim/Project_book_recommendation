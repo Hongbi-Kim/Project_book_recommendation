{
 "cells": [
  {
   "cell_type": "code",
   "execution_count": 127,
   "id": "3d493973",
   "metadata": {},
   "outputs": [],
   "source": [
    "from selenium import webdriver\n",
    "from selenium.webdriver.chrome.service import Service\n",
    "from bs4 import BeautifulSoup\n",
    "from selenium.webdriver.common.by import By\n",
    "import time\n",
    "import pandas as pd\n"
   ]
  },
  {
   "cell_type": "code",
   "execution_count": 9,
   "id": "0e558dc2",
   "metadata": {},
   "outputs": [
    {
     "name": "stdout",
     "output_type": "stream",
     "text": [
      "Collecting chromedriver-autoinstaller\n",
      "  Downloading chromedriver_autoinstaller-0.3.1-py3-none-any.whl (6.3 kB)\n",
      "Installing collected packages: chromedriver-autoinstaller\n",
      "Successfully installed chromedriver-autoinstaller-0.3.1\n"
     ]
    }
   ],
   "source": [
    "!pip install chromedriver-autoinstaller"
   ]
  },
  {
   "cell_type": "code",
   "execution_count": 11,
   "id": "818036a7",
   "metadata": {},
   "outputs": [
    {
     "data": {
      "text/plain": [
       "'C:\\\\Users\\\\khb16\\\\anaconda3\\\\lib\\\\site-packages\\\\chromedriver_autoinstaller\\\\99\\\\chromedriver.exe'"
      ]
     },
     "execution_count": 11,
     "metadata": {},
     "output_type": "execute_result"
    }
   ],
   "source": [
    "import chromedriver_autoinstaller\n",
    "\n",
    "chromedriver_autoinstaller.install()"
   ]
  },
  {
   "cell_type": "code",
   "execution_count": 13,
   "id": "2078d320",
   "metadata": {},
   "outputs": [],
   "source": [
    "service = Service('chromedriver.exe')\n",
    "driver = webdriver.Chrome(service = service)"
   ]
  },
  {
   "cell_type": "code",
   "execution_count": 17,
   "id": "bd159236",
   "metadata": {},
   "outputs": [],
   "source": [
    "html = 'https://www.aladin.co.kr/shop/wbrowse.aspx?BrowseTarget=List&ViewRowsCount=50&ViewType=Detail&PublishMonth=0&SortOrder=2&page=1&Stockstatus=0&PublishDay=84&CustReviewRankStart=0&CustReviewCountStart=0&PriceFilterMax=-1&CID=1&SearchOption='\n",
    "driver.get(html)\n",
    "time.sleep(2)"
   ]
  },
  {
   "cell_type": "code",
   "execution_count": null,
   "id": "6c403207",
   "metadata": {},
   "outputs": [],
   "source": [
    "results = []\n",
    "\n",
    "for page in range(1855):\n",
    "    url = \"https://www.aladin.co.kr/shop/wbrowse.aspx?BrowseTarget=List&ViewRowsCount=50&ViewType=Detail\\\n",
    "    &PublishMonth=0&SortOrder=2&page={}&Stockstatus=0&PublishDay=84&CustReviewRankStart=0&CustReviewCountStart=0&PriceFilterMax=-1\\\n",
    "    &CID=1&SearchOption=\".format(page)\n",
    "    driver.get(url)\n",
    "    time.sleep(2)\n",
    "    html = driver.page_source\n",
    "    soup = BeautifulSoup(html, 'html.parser')\n",
    "    \n",
    "    # 페이지에 있는 도서 링크(50개)\n",
    "    book_links = soup.select('ul > li > a.bo3')\n",
    "    links = []\n",
    "    for book_link in book_links:\n",
    "        a= book_link['href']\n",
    "        links.append(a)\n",
    "    for link in links:\n",
    "        driver.get(link)\n",
    "        time.sleep(1)\n",
    "        html = driver.page_source\n",
    "        soup = BeautifulSoup(html, 'html.parser')\n",
    "        try:\n",
    "            ISBN = soup.select('div.conts_info_list1 > ul > li')\n",
    "            ISBN = ISBN[-1].text[-13:]\n",
    "        except:\n",
    "            pass\n",
    "\n",
    "        #data = [ISBN]\n",
    "        results.append(ISBN)"
   ]
  },
  {
   "cell_type": "code",
   "execution_count": 239,
   "id": "13e040ec",
   "metadata": {},
   "outputs": [
    {
     "data": {
      "text/plain": [
       "[['9791161571188'],\n",
       " ['9791197377143'],\n",
       " ['9788936424725'],\n",
       " ['9791190254168'],\n",
       " ['9791191043617'],\n",
       " ['9788954685436'],\n",
       " ['9791165341909'],\n",
       " ['9791191824001'],\n",
       " ['9788946422056'],\n",
       " ['9791165343729'],\n",
       " ['9788950999940'],\n",
       " ['9788954681179'],\n",
       " ['9791166686665'],\n",
       " ['9788937442568'],\n",
       " ['9791191043297'],\n",
       " ['9791190174756'],\n",
       " ['9788936434120'],\n",
       " ['9788936437978'],\n",
       " ['9788950999957'],\n",
       " ['9791126449545'],\n",
       " ['9788936434267'],\n",
       " ['9788954678407'],\n",
       " ['9788937461033'],\n",
       " ['9791138408400'],\n",
       " ['9791191056556'],\n",
       " ['9791190090018'],\n",
       " ['9791190582308'],\n",
       " ['9791165344252'],\n",
       " ['9788937460777'],\n",
       " ['9791127863715'],\n",
       " ['9788937460449'],\n",
       " ['9791170400813'],\n",
       " ['9788973814725'],\n",
       " ['9788937460050'],\n",
       " ['9788956608556'],\n",
       " ['9791190090261'],\n",
       " ['9791190582438'],\n",
       " ['9788984374386'],\n",
       " ['9791156411888'],\n",
       " ['9788934979357'],\n",
       " ['9791156411901'],\n",
       " ['9791166686603'],\n",
       " ['9788937462672'],\n",
       " ['9788954684736'],\n",
       " ['9788954685146'],\n",
       " ['9788937437564'],\n",
       " ['9788972756194'],\n",
       " ['9788998441012'],\n",
       " ['9788937460470'],\n",
       " ['9791138010740']]"
      ]
     },
     "execution_count": 239,
     "metadata": {},
     "output_type": "execute_result"
    }
   ],
   "source": [
    "results"
   ]
  },
  {
   "cell_type": "code",
   "execution_count": 233,
   "id": "d49df938",
   "metadata": {
    "scrolled": true
   },
   "outputs": [
    {
     "data": {
      "text/html": [
       "<div>\n",
       "<style scoped>\n",
       "    .dataframe tbody tr th:only-of-type {\n",
       "        vertical-align: middle;\n",
       "    }\n",
       "\n",
       "    .dataframe tbody tr th {\n",
       "        vertical-align: top;\n",
       "    }\n",
       "\n",
       "    .dataframe thead th {\n",
       "        text-align: right;\n",
       "    }\n",
       "</style>\n",
       "<table border=\"1\" class=\"dataframe\">\n",
       "  <thead>\n",
       "    <tr style=\"text-align: right;\">\n",
       "      <th></th>\n",
       "      <th>ISBN</th>\n",
       "    </tr>\n",
       "  </thead>\n",
       "  <tbody>\n",
       "    <tr>\n",
       "      <th>0</th>\n",
       "      <td>9791161571188</td>\n",
       "    </tr>\n",
       "    <tr>\n",
       "      <th>1</th>\n",
       "      <td>9791197377143</td>\n",
       "    </tr>\n",
       "    <tr>\n",
       "      <th>2</th>\n",
       "      <td>9788936424725</td>\n",
       "    </tr>\n",
       "    <tr>\n",
       "      <th>3</th>\n",
       "      <td>9791190254168</td>\n",
       "    </tr>\n",
       "    <tr>\n",
       "      <th>4</th>\n",
       "      <td>9791191043617</td>\n",
       "    </tr>\n",
       "    <tr>\n",
       "      <th>5</th>\n",
       "      <td>9788954685436</td>\n",
       "    </tr>\n",
       "    <tr>\n",
       "      <th>6</th>\n",
       "      <td>9791165341909</td>\n",
       "    </tr>\n",
       "    <tr>\n",
       "      <th>7</th>\n",
       "      <td>9791191824001</td>\n",
       "    </tr>\n",
       "    <tr>\n",
       "      <th>8</th>\n",
       "      <td>9788946422056</td>\n",
       "    </tr>\n",
       "    <tr>\n",
       "      <th>9</th>\n",
       "      <td>9791165343729</td>\n",
       "    </tr>\n",
       "    <tr>\n",
       "      <th>10</th>\n",
       "      <td>9788950999940</td>\n",
       "    </tr>\n",
       "    <tr>\n",
       "      <th>11</th>\n",
       "      <td>9788954681179</td>\n",
       "    </tr>\n",
       "    <tr>\n",
       "      <th>12</th>\n",
       "      <td>9791166686665</td>\n",
       "    </tr>\n",
       "    <tr>\n",
       "      <th>13</th>\n",
       "      <td>9788937442568</td>\n",
       "    </tr>\n",
       "    <tr>\n",
       "      <th>14</th>\n",
       "      <td>9791191043297</td>\n",
       "    </tr>\n",
       "    <tr>\n",
       "      <th>15</th>\n",
       "      <td>9791190174756</td>\n",
       "    </tr>\n",
       "    <tr>\n",
       "      <th>16</th>\n",
       "      <td>9788936434120</td>\n",
       "    </tr>\n",
       "    <tr>\n",
       "      <th>17</th>\n",
       "      <td>9788936437978</td>\n",
       "    </tr>\n",
       "    <tr>\n",
       "      <th>18</th>\n",
       "      <td>9788950999957</td>\n",
       "    </tr>\n",
       "    <tr>\n",
       "      <th>19</th>\n",
       "      <td>9791126449545</td>\n",
       "    </tr>\n",
       "    <tr>\n",
       "      <th>20</th>\n",
       "      <td>9788936434267</td>\n",
       "    </tr>\n",
       "    <tr>\n",
       "      <th>21</th>\n",
       "      <td>9788954678407</td>\n",
       "    </tr>\n",
       "    <tr>\n",
       "      <th>22</th>\n",
       "      <td>9788937461033</td>\n",
       "    </tr>\n",
       "    <tr>\n",
       "      <th>23</th>\n",
       "      <td>9791138408400</td>\n",
       "    </tr>\n",
       "    <tr>\n",
       "      <th>24</th>\n",
       "      <td>9791191056556</td>\n",
       "    </tr>\n",
       "    <tr>\n",
       "      <th>25</th>\n",
       "      <td>9791190090018</td>\n",
       "    </tr>\n",
       "    <tr>\n",
       "      <th>26</th>\n",
       "      <td>9791190582308</td>\n",
       "    </tr>\n",
       "    <tr>\n",
       "      <th>27</th>\n",
       "      <td>9791165344252</td>\n",
       "    </tr>\n",
       "    <tr>\n",
       "      <th>28</th>\n",
       "      <td>9788937460777</td>\n",
       "    </tr>\n",
       "    <tr>\n",
       "      <th>29</th>\n",
       "      <td>9791127863715</td>\n",
       "    </tr>\n",
       "    <tr>\n",
       "      <th>30</th>\n",
       "      <td>9788937460449</td>\n",
       "    </tr>\n",
       "    <tr>\n",
       "      <th>31</th>\n",
       "      <td>9791170400813</td>\n",
       "    </tr>\n",
       "    <tr>\n",
       "      <th>32</th>\n",
       "      <td>9788973814725</td>\n",
       "    </tr>\n",
       "    <tr>\n",
       "      <th>33</th>\n",
       "      <td>9788937460050</td>\n",
       "    </tr>\n",
       "    <tr>\n",
       "      <th>34</th>\n",
       "      <td>9788956608556</td>\n",
       "    </tr>\n",
       "    <tr>\n",
       "      <th>35</th>\n",
       "      <td>9791190090261</td>\n",
       "    </tr>\n",
       "    <tr>\n",
       "      <th>36</th>\n",
       "      <td>9791190582438</td>\n",
       "    </tr>\n",
       "    <tr>\n",
       "      <th>37</th>\n",
       "      <td>9788984374386</td>\n",
       "    </tr>\n",
       "    <tr>\n",
       "      <th>38</th>\n",
       "      <td>9791156411888</td>\n",
       "    </tr>\n",
       "    <tr>\n",
       "      <th>39</th>\n",
       "      <td>9788934979357</td>\n",
       "    </tr>\n",
       "    <tr>\n",
       "      <th>40</th>\n",
       "      <td>9791156411901</td>\n",
       "    </tr>\n",
       "    <tr>\n",
       "      <th>41</th>\n",
       "      <td>9791166686603</td>\n",
       "    </tr>\n",
       "    <tr>\n",
       "      <th>42</th>\n",
       "      <td>9788937462672</td>\n",
       "    </tr>\n",
       "    <tr>\n",
       "      <th>43</th>\n",
       "      <td>9788954684736</td>\n",
       "    </tr>\n",
       "    <tr>\n",
       "      <th>44</th>\n",
       "      <td>9788954685146</td>\n",
       "    </tr>\n",
       "    <tr>\n",
       "      <th>45</th>\n",
       "      <td>9788937437564</td>\n",
       "    </tr>\n",
       "    <tr>\n",
       "      <th>46</th>\n",
       "      <td>9788972756194</td>\n",
       "    </tr>\n",
       "    <tr>\n",
       "      <th>47</th>\n",
       "      <td>9788998441012</td>\n",
       "    </tr>\n",
       "    <tr>\n",
       "      <th>48</th>\n",
       "      <td>9788937460470</td>\n",
       "    </tr>\n",
       "    <tr>\n",
       "      <th>49</th>\n",
       "      <td>9791138010740</td>\n",
       "    </tr>\n",
       "  </tbody>\n",
       "</table>\n",
       "</div>"
      ],
      "text/plain": [
       "             ISBN\n",
       "0   9791161571188\n",
       "1   9791197377143\n",
       "2   9788936424725\n",
       "3   9791190254168\n",
       "4   9791191043617\n",
       "5   9788954685436\n",
       "6   9791165341909\n",
       "7   9791191824001\n",
       "8   9788946422056\n",
       "9   9791165343729\n",
       "10  9788950999940\n",
       "11  9788954681179\n",
       "12  9791166686665\n",
       "13  9788937442568\n",
       "14  9791191043297\n",
       "15  9791190174756\n",
       "16  9788936434120\n",
       "17  9788936437978\n",
       "18  9788950999957\n",
       "19  9791126449545\n",
       "20  9788936434267\n",
       "21  9788954678407\n",
       "22  9788937461033\n",
       "23  9791138408400\n",
       "24  9791191056556\n",
       "25  9791190090018\n",
       "26  9791190582308\n",
       "27  9791165344252\n",
       "28  9788937460777\n",
       "29  9791127863715\n",
       "30  9788937460449\n",
       "31  9791170400813\n",
       "32  9788973814725\n",
       "33  9788937460050\n",
       "34  9788956608556\n",
       "35  9791190090261\n",
       "36  9791190582438\n",
       "37  9788984374386\n",
       "38  9791156411888\n",
       "39  9788934979357\n",
       "40  9791156411901\n",
       "41  9791166686603\n",
       "42  9788937462672\n",
       "43  9788954684736\n",
       "44  9788954685146\n",
       "45  9788937437564\n",
       "46  9788972756194\n",
       "47  9788998441012\n",
       "48  9788937460470\n",
       "49  9791138010740"
      ]
     },
     "execution_count": 233,
     "metadata": {},
     "output_type": "execute_result"
    }
   ],
   "source": [
    "df = pd.DataFrame(results)\n",
    "df.columns = ['ISBN']\n",
    "#df.to_excel('youtube_rank.xlsx', index=False)\n",
    "df"
   ]
  },
  {
   "cell_type": "code",
   "execution_count": 167,
   "id": "e057f33c",
   "metadata": {},
   "outputs": [],
   "source": [
    "results = []\n",
    "w_lists = []\n",
    "m_lists = []\n",
    "buys = []\n",
    "clicks = []\n",
    "\n",
    "for page in range(1):\n",
    "    url = \"https://www.aladin.co.kr/shop/wbrowse.aspx?BrowseTarget=List&ViewRowsCount=50&ViewType=Detail\\\n",
    "    &PublishMonth=0&SortOrder=2&page={}&Stockstatus=0&PublishDay=84&CustReviewRankStart=0&CustReviewCountStart=0&PriceFilterMax=-1\\\n",
    "    &CID=1&SearchOption=\".format(page)\n",
    "    driver.get(url)\n",
    "    time.sleep(2)\n",
    "    html = driver.page_source\n",
    "    soup = BeautifulSoup(html, 'html.parser')\n",
    "    \n",
    "    # 페이지에 있는 도서 링크(50개)\n",
    "    book_links = soup.select('ul > li > a.bo3')\n",
    "    links = []\n",
    "    for book_link in book_links:\n",
    "        a= book_link['href']\n",
    "        links.append(a)\n",
    "    for link in links:\n",
    "        driver.get(link)\n",
    "        time.sleep(2)\n",
    "        html = driver.page_source\n",
    "        soup = BeautifulSoup(html, 'html.parser')\n",
    "        try:\n",
    "            ISBN = soup.select('div.conts_info_list1 > ul > li')\n",
    "            ISBN = ISBN[-1].text[-13:]\n",
    "        except:\n",
    "            pass\n",
    "        try:\n",
    "            for sex in range(6):\n",
    "                woman_list = soup.select('tbody > tr > td.tb_woman')\n",
    "                w_list = woman_list[sex].text.strip()\n",
    "                w_lists.append(w_list)\n",
    "                man_list = soup.select('tbody > tr > td.tb_man')\n",
    "                m_list = man_list[sex].text.strip()\n",
    "                m_lists.append(m_list)\n",
    "        except:\n",
    "            pass\n",
    "        try:\n",
    "            for rec in range(6):\n",
    "                buy = soup.select('div #swiper_nowBuy dd > a')\n",
    "                buy = buy[rec].text\n",
    "                buys.append(buy)\n",
    "                click = soup.select('div #swiper_nowClick dd > a')\n",
    "                click = click[rec].text\n",
    "                clicks.append(click)\n",
    "        except:\n",
    "            pass\n",
    "        data = [ISBN, w_lists, man_list, buys, clicks]\n",
    "        results.append(data)"
   ]
  },
  {
   "cell_type": "code",
   "execution_count": 212,
   "id": "56cbfafd",
   "metadata": {},
   "outputs": [],
   "source": [
    "results = []\n",
    "w_lists = []\n",
    "m_lists = []\n",
    "buys = []\n",
    "clicks = []\n",
    "\n",
    "html = driver.page_source\n",
    "soup = BeautifulSoup(html, 'html.parser')\n",
    "try:\n",
    "    ISBN = soup.select('div.conts_info_list1 > ul > li')\n",
    "    ISBN = ISBN[-1].text[-13:]\n",
    "except:\n",
    "    pass\n",
    "try:\n",
    "    for sex in range(6):\n",
    "        woman_list = soup.select('tbody > tr > td.tb_woman')\n",
    "        w_list = woman_list[sex].text.strip()\n",
    "        w_lists.append(w_list)\n",
    "        man_list = soup.select('tbody > tr > td.tb_man')\n",
    "        m_list = man_list[sex].text.strip()\n",
    "        m_lists.append(m_list)\n",
    "except:\n",
    "    pass\n",
    "try:\n",
    "    for rec in range(6):\n",
    "        buy = soup.select('div #swiper_nowBuy dd > a')\n",
    "        buy = buy[rec].text\n",
    "        buys.append(buy)\n",
    "        click = soup.select('div #swiper_nowClick dd > a')\n",
    "        click = click[rec].text\n",
    "        clicks.append(click)\n",
    "except:\n",
    "    pass\n",
    "data = [ISBN, w_lists, man_list, buys, clicks]\n",
    "results.append(data)"
   ]
  },
  {
   "cell_type": "code",
   "execution_count": 213,
   "id": "860bf47b",
   "metadata": {},
   "outputs": [
    {
     "data": {
      "text/html": [
       "<div>\n",
       "<style scoped>\n",
       "    .dataframe tbody tr th:only-of-type {\n",
       "        vertical-align: middle;\n",
       "    }\n",
       "\n",
       "    .dataframe tbody tr th {\n",
       "        vertical-align: top;\n",
       "    }\n",
       "\n",
       "    .dataframe thead th {\n",
       "        text-align: right;\n",
       "    }\n",
       "</style>\n",
       "<table border=\"1\" class=\"dataframe\">\n",
       "  <thead>\n",
       "    <tr style=\"text-align: right;\">\n",
       "      <th></th>\n",
       "      <th>ISBN</th>\n",
       "      <th>w_lists</th>\n",
       "      <th>m_lists</th>\n",
       "      <th>buys</th>\n",
       "      <th>click</th>\n",
       "    </tr>\n",
       "  </thead>\n",
       "  <tbody>\n",
       "    <tr>\n",
       "      <th>0</th>\n",
       "      <td>9791161571188</td>\n",
       "      <td>[2.3%, 9.7%, 15.6%, 32.8%, 12.6%, 1.4%]</td>\n",
       "      <td>[[[&lt;img src=\"//image.aladin.co.kr/img/shop/201...</td>\n",
       "      <td>[어서 오세요, 휴남동 서점입니다, 마음에 없는 소리, 달러구트 꿈 백화점 (100...</td>\n",
       "      <td>[범, 하지 말지어다 1, 므레모사, 사내 맞선 1, 아침은 생각한다, 여덟 번째 ...</td>\n",
       "    </tr>\n",
       "  </tbody>\n",
       "</table>\n",
       "</div>"
      ],
      "text/plain": [
       "            ISBN                                  w_lists  \\\n",
       "0  9791161571188  [2.3%, 9.7%, 15.6%, 32.8%, 12.6%, 1.4%]   \n",
       "\n",
       "                                             m_lists  \\\n",
       "0  [[[<img src=\"//image.aladin.co.kr/img/shop/201...   \n",
       "\n",
       "                                                buys  \\\n",
       "0  [어서 오세요, 휴남동 서점입니다, 마음에 없는 소리, 달러구트 꿈 백화점 (100...   \n",
       "\n",
       "                                               click  \n",
       "0  [범, 하지 말지어다 1, 므레모사, 사내 맞선 1, 아침은 생각한다, 여덟 번째 ...  "
      ]
     },
     "execution_count": 213,
     "metadata": {},
     "output_type": "execute_result"
    }
   ],
   "source": [
    "df = pd.DataFrame(results)\n",
    "df.columns = ['ISBN', 'w_lists', 'm_lists', 'buys', 'click']\n",
    "#df.to_excel('youtube_rank.xlsx', index=False)\n",
    "df"
   ]
  },
  {
   "cell_type": "code",
   "execution_count": 72,
   "id": "f1d31aa6",
   "metadata": {},
   "outputs": [],
   "source": [
    "html = driver.page_source\n",
    "soup = BeautifulSoup(html, 'html.parser')"
   ]
  },
  {
   "cell_type": "code",
   "execution_count": 39,
   "id": "0731604a",
   "metadata": {
    "scrolled": true
   },
   "outputs": [
    {
     "name": "stdout",
     "output_type": "stream",
     "text": [
      "['https://www.aladin.co.kr/shop/wproduct.aspx?ItemId=290457417', 'https://www.aladin.co.kr/shop/wproduct.aspx?ItemId=286859586', 'https://www.aladin.co.kr/shop/wproduct.aspx?ItemId=290833437', 'https://www.aladin.co.kr/shop/wproduct.aspx?ItemId=289034480', 'https://www.aladin.co.kr/shop/wproduct.aspx?ItemId=288756034', 'https://www.aladin.co.kr/shop/wproduct.aspx?ItemId=290202593', 'https://www.aladin.co.kr/shop/wproduct.aspx?ItemId=245127051', 'https://www.aladin.co.kr/shop/wproduct.aspx?ItemId=276926308', 'https://www.aladin.co.kr/shop/wproduct.aspx?ItemId=289661123', 'https://www.aladin.co.kr/shop/wproduct.aspx?ItemId=275874708', 'https://www.aladin.co.kr/shop/wproduct.aspx?ItemId=289768950', 'https://www.aladin.co.kr/shop/wproduct.aspx?ItemId=275419192', 'https://www.aladin.co.kr/shop/wproduct.aspx?ItemId=290846875', 'https://www.aladin.co.kr/shop/wproduct.aspx?ItemId=290202822', 'https://www.aladin.co.kr/shop/wproduct.aspx?ItemId=274077938', 'https://www.aladin.co.kr/shop/wproduct.aspx?ItemId=237368570', 'https://www.aladin.co.kr/shop/wproduct.aspx?ItemId=40869703', 'https://www.aladin.co.kr/shop/wproduct.aspx?ItemId=195439115', 'https://www.aladin.co.kr/shop/wproduct.aspx?ItemId=289769087', 'https://www.aladin.co.kr/shop/wproduct.aspx?ItemId=223706640', 'https://www.aladin.co.kr/shop/wproduct.aspx?ItemId=105651245', 'https://www.aladin.co.kr/shop/wproduct.aspx?ItemId=268552539', 'https://www.aladin.co.kr/shop/wproduct.aspx?ItemId=491611', 'https://www.aladin.co.kr/shop/wproduct.aspx?ItemId=290209131', 'https://www.aladin.co.kr/shop/wproduct.aspx?ItemId=269873776', 'https://www.aladin.co.kr/shop/wproduct.aspx?ItemId=193591681', 'https://www.aladin.co.kr/shop/wproduct.aspx?ItemId=241086530', 'https://www.aladin.co.kr/shop/wproduct.aspx?ItemId=284135892', 'https://www.aladin.co.kr/shop/wproduct.aspx?ItemId=418906', 'https://www.aladin.co.kr/shop/wproduct.aspx?ItemId=289961743', 'https://www.aladin.co.kr/shop/wproduct.aspx?ItemId=260084', 'https://www.aladin.co.kr/shop/wproduct.aspx?ItemId=290384873', 'https://www.aladin.co.kr/shop/wproduct.aspx?ItemId=60836103', 'https://www.aladin.co.kr/shop/wproduct.aspx?ItemId=40674', 'https://www.aladin.co.kr/shop/wproduct.aspx?ItemId=55275051', 'https://www.aladin.co.kr/shop/wproduct.aspx?ItemId=281570121', 'https://www.aladin.co.kr/shop/wproduct.aspx?ItemId=269017742', 'https://www.aladin.co.kr/shop/wproduct.aspx?ItemId=286765514', 'https://www.aladin.co.kr/shop/wproduct.aspx?ItemId=290616656', 'https://www.aladin.co.kr/shop/wproduct.aspx?ItemId=289828834', 'https://www.aladin.co.kr/shop/wproduct.aspx?ItemId=290616976', 'https://www.aladin.co.kr/shop/wproduct.aspx?ItemId=287367114', 'https://www.aladin.co.kr/shop/wproduct.aspx?ItemId=11267326', 'https://www.aladin.co.kr/shop/wproduct.aspx?ItemId=287089545', 'https://www.aladin.co.kr/shop/wproduct.aspx?ItemId=289077497', 'https://www.aladin.co.kr/shop/wproduct.aspx?ItemId=152511699', 'https://www.aladin.co.kr/shop/wproduct.aspx?ItemId=21753305', 'https://www.aladin.co.kr/shop/wproduct.aspx?ItemId=25843736', 'https://www.aladin.co.kr/shop/wproduct.aspx?ItemId=279711', 'https://www.aladin.co.kr/shop/wproduct.aspx?ItemId=289261562']\n"
     ]
    }
   ],
   "source": [
    "# 페이지에 있는 도서 링크(50개)\n",
    "book_links = soup.select('ul > li > a.bo3')\n",
    "links = []\n",
    "for book_link in book_links:\n",
    "    a= book_link['href']\n",
    "    links.append(a)\n",
    "print(links)"
   ]
  },
  {
   "cell_type": "code",
   "execution_count": 74,
   "id": "e6879cb0",
   "metadata": {},
   "outputs": [
    {
     "data": {
      "text/plain": [
       "('https://www.aladin.co.kr/shop/wproduct.aspx?ItemId=290457417',\n",
       " 'https://www.aladin.co.kr/shop/wproduct.aspx?ItemId=286859586')"
      ]
     },
     "execution_count": 74,
     "metadata": {},
     "output_type": "execute_result"
    }
   ],
   "source": [
    "links[0], links[1]"
   ]
  },
  {
   "cell_type": "code",
   "execution_count": 33,
   "id": "185781f6",
   "metadata": {},
   "outputs": [
    {
     "data": {
      "text/plain": [
       "50"
      ]
     },
     "execution_count": 33,
     "metadata": {},
     "output_type": "execute_result"
    }
   ],
   "source": [
    "len(channel_list)"
   ]
  },
  {
   "cell_type": "code",
   "execution_count": null,
   "id": "ea1fdd92",
   "metadata": {},
   "outputs": [],
   "source": [
    "url = link\n",
    "driver.get(html)"
   ]
  },
  {
   "cell_type": "code",
   "execution_count": 215,
   "id": "c6ea178e",
   "metadata": {},
   "outputs": [],
   "source": [
    "html = driver.page_source\n",
    "soup = BeautifulSoup(html, 'html.parser')"
   ]
  },
  {
   "cell_type": "code",
   "execution_count": 229,
   "id": "88149507",
   "metadata": {},
   "outputs": [
    {
     "data": {
      "text/plain": [
       "[<b>불편한 편의점 (40만부 기념 벚꽃 에디션)</b>,\n",
       " <b><span class=\"\">12,600</span>원</b>,\n",
       " <b> 316,996</b>,\n",
       " <b>어서 오세요, 휴남동 서점입니다</b>,\n",
       " <b><span class=\"\">13,500</span>원</b>,\n",
       " <b> 85,915</b>,\n",
       " <b>일하고 일하고 사랑을 하고</b>,\n",
       " <b><span class=\"\">8,100</span>원</b>,\n",
       " <b> 35,250</b>,\n",
       " <b>진화 신화</b>,\n",
       " <b><span class=\"\">10,800</span>원</b>,\n",
       " <b> 6,015</b>,\n",
       " <b>백광</b>,\n",
       " <b><span class=\"\">13,050</span>원</b>,\n",
       " <b> 40,320</b>,\n",
       " <b>마음에 없는 소리</b>,\n",
       " <b><span class=\"\">13,050</span>원</b>,\n",
       " <b> 16,990</b>,\n",
       " <b>달러구트 꿈 백화점</b>,\n",
       " <b><span class=\"\">12,420</span>원</b>,\n",
       " <b> 332,842</b>,\n",
       " <b>지구 끝의 온실</b>,\n",
       " <b><span class=\"\">13,500</span>원</b>,\n",
       " <b> 137,910</b>,\n",
       " <b>꽃잎 한 장처럼</b>,\n",
       " <b><span class=\"\">14,400</span>원</b>,\n",
       " <b> 33,470</b>,\n",
       " <b>달러구트 꿈 백화점 2</b>,\n",
       " <b><span class=\"\">12,420</span>원</b>,\n",
       " <b> 193,048</b>,\n",
       " <b>실마릴리온 + 끝나지 않은 이야기 세트 - 전2권</b>,\n",
       " <b><span class=\"\">99,000</span>원</b>,\n",
       " <b> 40,050</b>,\n",
       " <b>밝은 밤</b>,\n",
       " <b><span class=\"\">13,050</span>원</b>,\n",
       " <b> 150,382</b>,\n",
       " <b>저주토끼 (리커버)</b>,\n",
       " <b><span class=\"\">13,320</span>원</b>,\n",
       " <b> 7,650</b>,\n",
       " <b>페스트의 밤</b>,\n",
       " <b><span class=\"\">17,100</span>원</b>,\n",
       " <b> 11,080</b>,\n",
       " <b>오늘 밤, 세계에서 이 사랑이 사라진다 해도</b>,\n",
       " <b><span class=\"\">12,600</span>원</b>,\n",
       " <b> 91,069</b>,\n",
       " <b>칵테일, 러브, 좀비</b>,\n",
       " <b><span class=\"\">9,000</span>원</b>,\n",
       " <b> 43,952</b>,\n",
       " <b>소년이 온다</b>,\n",
       " <b><span class=\"\">12,600</span>원</b>,\n",
       " <b> 84,331</b>,\n",
       " <b>대도시의 사랑법</b>,\n",
       " <b><span class=\"\">12,600</span>원</b>,\n",
       " <b> 22,566</b>,\n",
       " <b>가운데땅의 지도들 세트</b>,\n",
       " <b><span class=\"\">49,500</span>원</b>,\n",
       " <b> 31,120</b>,\n",
       " <b>시맨틱 에러 세트 - 전2권</b>,\n",
       " <b><span class=\"\">23,400</span>원</b>,\n",
       " <b> 14,646</b>,\n",
       " <b>아몬드 (양장)</b>,\n",
       " <b><span class=\"\">10,800</span>원</b>,\n",
       " <b> 108,525</b>,\n",
       " <b>2021 제12회 젊은작가상 수상작품집</b>,\n",
       " <b><span class=\"\">4,950</span>원</b>,\n",
       " <b> 96,858</b>,\n",
       " <b>인간 실격</b>,\n",
       " <b><span class=\"\">8,100</span>원</b>,\n",
       " <b> 100,419</b>,\n",
       " <b>어서 오세요 실력지상주의 교실에 2학년 편 5</b>,\n",
       " <b><span class=\"\">7,650</span>원</b>,\n",
       " <b> 16,650</b>,\n",
       " <b>미드나잇 라이브러리</b>,\n",
       " <b><span class=\"\">14,220</span>원</b>,\n",
       " <b> 136,501</b>,\n",
       " <b>우리가 빛의 속도로 갈 수 없다면</b>,\n",
       " <b><span class=\"\">12,600</span>원</b>,\n",
       " <b> 105,599</b>,\n",
       " <b>키르케</b>,\n",
       " <b><span class=\"\">15,300</span>원</b>,\n",
       " <b> 48,437</b>,\n",
       " <b>리커버 특별판 보러 가기&gt;&gt;</b>,\n",
       " <b>달러구트 꿈 백화점 (100만부 기념 합본호 기프트 에디션)</b>,\n",
       " <b><span class=\"\">21,600</span>원</b>,\n",
       " <b> 62,260</b>,\n",
       " <b>1984</b>,\n",
       " <b><span class=\"\">8,550</span>원</b>,\n",
       " <b> 69,983</b>,\n",
       " <b>역시 내 청춘 러브코메디는 잘못됐다 결 1</b>,\n",
       " <b><span class=\"\">7,020</span>원</b>,\n",
       " <b> 17,540</b>,\n",
       " <b>데미안</b>,\n",
       " <b><span class=\"\">7,200</span>원</b>,\n",
       " <b> 93,171</b>,\n",
       " <b>헌팅턴비치에 가면 네가 있을까</b>,\n",
       " <b><span class=\"\">11,700</span>원</b>,\n",
       " <b> 9,460</b>,\n",
       " <b>멋진 신세계</b>,\n",
       " <b><span class=\"\">12,420</span>원</b>,\n",
       " <b> 47,823</b>,\n",
       " <b>동물농장</b>,\n",
       " <b><span class=\"\">6,300</span>원</b>,\n",
       " <b> 83,204</b>,\n",
       " <b>구의 증명</b>,\n",
       " <b><span class=\"\">7,200</span>원</b>,\n",
       " <b> 56,448</b>,\n",
       " <b>천 개의 파랑 (리커버)</b>,\n",
       " <b><span class=\"\">12,600</span>원</b>,\n",
       " <b> 60,482</b>,\n",
       " <b>키르케 (리커버 특별판)</b>,\n",
       " <b><span class=\"\">15,300</span>원</b>,\n",
       " <b> 83,469</b>,\n",
       " <b>센 강의 이름 모를 여인</b>,\n",
       " <b><span class=\"\">14,400</span>원</b>,\n",
       " <b> 43,570</b>,\n",
       " <b>비밀한 연애 1</b>,\n",
       " <b><span class=\"\">11,520</span>원</b>,\n",
       " <b> 4,350</b>,\n",
       " <b>마인드헌터 (리커버 특별판)</b>,\n",
       " <b><span class=\"\">13,500</span>원</b>,\n",
       " <b> 12,980</b>,\n",
       " <b>기존 일반판 표지 위에 특별 커버가 한겹 덧씌워진 리커버 특별판입니다.</b>,\n",
       " <b>비밀한 연애 3</b>,\n",
       " <b><span class=\"\">11,520</span>원</b>,\n",
       " <b> 4,080</b>,\n",
       " <b>다섯 번째 감각</b>,\n",
       " <b><span class=\"\">16,200</span>원</b>,\n",
       " <b> 29,220</b>,\n",
       " <b>페스트</b>,\n",
       " <b><span class=\"\">11,700</span>원</b>,\n",
       " <b> 48,670</b>,\n",
       " <b>장미의 이름은 장미</b>,\n",
       " <b><span class=\"\">13,500</span>원</b>,\n",
       " <b> 31,550</b>,\n",
       " <b>연인들</b>,\n",
       " <b><span class=\"\">9,000</span>원</b>,\n",
       " <b> 12,240</b>,\n",
       " <b>참을 수 없는 존재의 가벼움</b>,\n",
       " <b><span class=\"\">13,500</span>원</b>,\n",
       " <b> 57,908</b>,\n",
       " <b>나미야 잡화점의 기적</b>,\n",
       " <b><span class=\"\">13,320</span>원</b>,\n",
       " <b> 132,174</b>,\n",
       " <b>모순</b>,\n",
       " <b><span class=\"\">11,700</span>원</b>,\n",
       " <b> 45,914</b>,\n",
       " <b>호밀밭의 파수꾼</b>,\n",
       " <b><span class=\"\">7,200</span>원</b>,\n",
       " <b> 75,831</b>,\n",
       " <b>노 게임 노 라이프 11</b>,\n",
       " <b><span class=\"\">7,020</span>원</b>,\n",
       " <b> 18,130</b>]"
      ]
     },
     "execution_count": 229,
     "metadata": {},
     "output_type": "execute_result"
    }
   ],
   "source": [
    "soup.select('div.ss_book_list b')"
   ]
  },
  {
   "cell_type": "code",
   "execution_count": 231,
   "id": "8e108460",
   "metadata": {
    "scrolled": true
   },
   "outputs": [
    {
     "data": {
      "text/plain": [
       "['불편한 편의점 (40만부 기념 벚꽃 에디션)',\n",
       " '어서 오세요, 휴남동 서점입니다',\n",
       " '일하고 일하고 사랑을 하고',\n",
       " '진화 신화',\n",
       " '백광',\n",
       " '마음에 없는 소리',\n",
       " '달러구트 꿈 백화점',\n",
       " '지구 끝의 온실',\n",
       " '꽃잎 한 장처럼',\n",
       " '달러구트 꿈 백화점 2',\n",
       " '실마릴리온 + 끝나지 않은 이야기 세트 - 전2권',\n",
       " '밝은 밤',\n",
       " '저주토끼 (리커버)',\n",
       " '페스트의 밤',\n",
       " '오늘 밤, 세계에서 이 사랑이 사라진다 해도',\n",
       " '칵테일, 러브, 좀비',\n",
       " '소년이 온다',\n",
       " '대도시의 사랑법',\n",
       " '가운데땅의 지도들 세트',\n",
       " '시맨틱 에러 세트 - 전2권',\n",
       " '아몬드 (양장)',\n",
       " '2021 제12회 젊은작가상 수상작품집',\n",
       " '인간 실격',\n",
       " '어서 오세요 실력지상주의 교실에 2학년 편 5',\n",
       " '미드나잇 라이브러리',\n",
       " '우리가 빛의 속도로 갈 수 없다면',\n",
       " '키르케',\n",
       " '리커버 특별판 보러 가기>>',\n",
       " ' 62,260',\n",
       " ' 69,983',\n",
       " ' 17,540',\n",
       " ' 93,171',\n",
       " ' 9,460',\n",
       " ' 47,823',\n",
       " ' 83,204',\n",
       " ' 56,448',\n",
       " ' 60,482',\n",
       " ' 83,469',\n",
       " ' 43,570',\n",
       " ' 4,350',\n",
       " ' 12,980',\n",
       " '11,520원',\n",
       " '16,200원',\n",
       " '11,700원',\n",
       " '13,500원',\n",
       " '9,000원',\n",
       " '13,500원',\n",
       " '13,320원',\n",
       " '11,700원',\n",
       " '7,200원']"
      ]
     },
     "execution_count": 231,
     "metadata": {},
     "output_type": "execute_result"
    }
   ],
   "source": [
    "title = []\n",
    "for i in range(150):\n",
    "    if i % 3 == 0:\n",
    "        text = soup.select('div.ss_book_list b')[i].text\n",
    "        title.append(text)\n",
    "title"
   ]
  },
  {
   "cell_type": "code",
   "execution_count": 193,
   "id": "a6019042",
   "metadata": {},
   "outputs": [
    {
     "data": {
      "text/plain": [
       "'9791161571188'"
      ]
     },
     "execution_count": 193,
     "metadata": {},
     "output_type": "execute_result"
    }
   ],
   "source": [
    "# ISBN\n",
    "ISBN = soup.select('div.conts_info_list1 > ul > li')\n",
    "ISBN[-1].text[-13:]"
   ]
  },
  {
   "cell_type": "code",
   "execution_count": 192,
   "id": "4e07d2b0",
   "metadata": {},
   "outputs": [
    {
     "data": {
      "text/plain": [
       "['2.3%', '9.7%', '15.6%', '32.8%', '12.6%', '1.4%']"
      ]
     },
     "execution_count": 192,
     "metadata": {},
     "output_type": "execute_result"
    }
   ],
   "source": [
    "# 여자 분포\n",
    "w_lists = []\n",
    "for i in range(6):\n",
    "    woman_list = soup.select('tbody > tr > td.tb_woman')\n",
    "    w_list = woman_list[i].text.strip()\n",
    "    w_lists.append(w_list)\n",
    "w_lists"
   ]
  },
  {
   "cell_type": "code",
   "execution_count": 191,
   "id": "04162e5a",
   "metadata": {},
   "outputs": [
    {
     "data": {
      "text/plain": [
       "[<td class=\"tb_man\"><div class=\"bar\" id=\"bar_m_0\" style=\"width: 1.74%;\"><img src=\"//image.aladin.co.kr/img/shop/2018/analysis_bg1.png\"/></div> <div class=\"per\">1.1%</div></td>,\n",
       " <td class=\"tb_man\"><div class=\"bar\" id=\"bar_m_1\" style=\"width: 10.75%;\"><img src=\"//image.aladin.co.kr/img/shop/2018/analysis_bg1.png\"/></div> <div class=\"per\">6.8%</div></td>,\n",
       " <td class=\"tb_man\"><div class=\"bar\" id=\"bar_m_2\" style=\"width: 5.95%;\"><img src=\"//image.aladin.co.kr/img/shop/2018/analysis_bg1.png\"/></div> <div class=\"per\">3.7%</div></td>,\n",
       " <td class=\"tb_man\"><div class=\"bar\" id=\"bar_m_3\" style=\"width: 13.21%;\"><img src=\"//image.aladin.co.kr/img/shop/2018/analysis_bg1.png\"/></div> <div class=\"per\">8.3%</div></td>,\n",
       " <td class=\"tb_man\"><div class=\"bar\" id=\"bar_m_4\" style=\"width: 7.41%;\"><img src=\"//image.aladin.co.kr/img/shop/2018/analysis_bg1.png\"/></div> <div class=\"per\">4.7%</div></td>,\n",
       " <td class=\"tb_man\"><div class=\"bar\" id=\"bar_m_5\" style=\"width: 1.74%;\"><img src=\"//image.aladin.co.kr/img/shop/2018/analysis_bg1.png\"/></div> <div class=\"per\">1.1%</div></td>]"
      ]
     },
     "execution_count": 191,
     "metadata": {},
     "output_type": "execute_result"
    }
   ],
   "source": [
    "man_list = soup.select('td.tb_man')\n",
    "man_list"
   ]
  },
  {
   "cell_type": "code",
   "execution_count": 214,
   "id": "82a6c7cf",
   "metadata": {},
   "outputs": [
    {
     "data": {
      "text/plain": [
       "[<td class=\"tb_man\"><div class=\"bar\" id=\"bar_m_0\" style=\"width: 1.74%;\"><img src=\"//image.aladin.co.kr/img/shop/2018/analysis_bg1.png\"/></div> <div class=\"per\">1.1%</div></td>,\n",
       " <td class=\"tb_man\"><div class=\"bar\" id=\"bar_m_1\" style=\"width: 10.75%;\"><img src=\"//image.aladin.co.kr/img/shop/2018/analysis_bg1.png\"/></div> <div class=\"per\">6.8%</div></td>,\n",
       " <td class=\"tb_man\"><div class=\"bar\" id=\"bar_m_2\" style=\"width: 5.95%;\"><img src=\"//image.aladin.co.kr/img/shop/2018/analysis_bg1.png\"/></div> <div class=\"per\">3.7%</div></td>,\n",
       " <td class=\"tb_man\"><div class=\"bar\" id=\"bar_m_3\" style=\"width: 13.21%;\"><img src=\"//image.aladin.co.kr/img/shop/2018/analysis_bg1.png\"/></div> <div class=\"per\">8.3%</div></td>,\n",
       " <td class=\"tb_man\"><div class=\"bar\" id=\"bar_m_4\" style=\"width: 7.41%;\"><img src=\"//image.aladin.co.kr/img/shop/2018/analysis_bg1.png\"/></div> <div class=\"per\">4.7%</div></td>,\n",
       " <td class=\"tb_man\"><div class=\"bar\" id=\"bar_m_5\" style=\"width: 1.74%;\"><img src=\"//image.aladin.co.kr/img/shop/2018/analysis_bg1.png\"/></div> <div class=\"per\">1.1%</div></td>]"
      ]
     },
     "execution_count": 214,
     "metadata": {},
     "output_type": "execute_result"
    }
   ],
   "source": [
    "# 남자 분포\n",
    "man_list = soup.select('tbody > tr > td.tb_man')\n",
    "man_list"
   ]
  },
  {
   "cell_type": "code",
   "execution_count": 198,
   "id": "ae22b3aa",
   "metadata": {
    "scrolled": true
   },
   "outputs": [
    {
     "data": {
      "text/plain": [
       "[<a href=\"https://www.aladin.co.kr/shop/wproduct.aspx?ItemId=286859586&amp;ptid=5&amp;utm_source=aladin&amp;utm_medium=wizard&amp;utm_campaign=relbuy&amp;utm_content=product\">어서 오세요, 휴남동 서점입니다</a>,\n",
       " <a href=\"https://www.aladin.co.kr/shop/wproduct.aspx?ItemId=290202593&amp;ptid=5&amp;utm_source=aladin&amp;utm_medium=wizard&amp;utm_campaign=relbuy&amp;utm_content=product\">마음에 없는 소리</a>,\n",
       " <a href=\"https://www.aladin.co.kr/shop/wproduct.aspx?ItemId=284135892&amp;ptid=5&amp;utm_source=aladin&amp;utm_medium=wizard&amp;utm_campaign=relbuy&amp;utm_content=product\">달러구트 꿈 백화점 (100만부 기념 합본호 기프트 에디션)</a>,\n",
       " <a href=\"https://www.aladin.co.kr/shop/wproduct.aspx?ItemId=275874708&amp;ptid=5&amp;utm_source=aladin&amp;utm_medium=wizard&amp;utm_campaign=relbuy&amp;utm_content=product\">달러구트 꿈 백화점 2</a>,\n",
       " <a href=\"https://www.aladin.co.kr/shop/wproduct.aspx?ItemId=276926308&amp;ptid=5&amp;utm_source=aladin&amp;utm_medium=wizard&amp;utm_campaign=relbuy&amp;utm_content=product\">지구 끝의 온실</a>,\n",
       " <a href=\"https://www.aladin.co.kr/shop/wproduct.aspx?ItemId=245127051&amp;ptid=5&amp;utm_source=aladin&amp;utm_medium=wizard&amp;utm_campaign=relbuy&amp;utm_content=product\">달러구트 꿈 백화점</a>,\n",
       " <a href=\"https://www.aladin.co.kr/shop/wproduct.aspx?ItemId=290846875&amp;ptid=5&amp;utm_source=aladin&amp;utm_medium=wizard&amp;utm_campaign=relbuy&amp;utm_content=product\">저주토끼 (리커버)</a>,\n",
       " <a href=\"https://www.aladin.co.kr/shop/wproduct.aspx?ItemId=287089545&amp;ptid=5&amp;utm_source=aladin&amp;utm_medium=wizard&amp;utm_campaign=relbuy&amp;utm_content=product\">장미의 이름은 장미</a>,\n",
       " <a href=\"https://www.aladin.co.kr/shop/wproduct.aspx?ItemId=285549774&amp;ptid=5&amp;utm_source=aladin&amp;utm_medium=wizard&amp;utm_campaign=relbuy&amp;utm_content=product\">므레모사</a>,\n",
       " <a href=\"https://www.aladin.co.kr/shop/wproduct.aspx?ItemId=275419192&amp;ptid=5&amp;utm_source=aladin&amp;utm_medium=wizard&amp;utm_campaign=relbuy&amp;utm_content=product\">밝은 밤</a>,\n",
       " <a href=\"https://www.aladin.co.kr/shop/wproduct.aspx?ItemId=287281261&amp;ptid=5&amp;utm_source=aladin&amp;utm_medium=wizard&amp;utm_campaign=relbuy&amp;utm_content=product\">전지적 독자 시점 Part 1 01</a>,\n",
       " <a href=\"https://www.aladin.co.kr/shop/wproduct.aspx?ItemId=287729746&amp;ptid=5&amp;utm_source=aladin&amp;utm_medium=wizard&amp;utm_campaign=relbuy&amp;utm_content=product\">호수의 일 (양장)</a>,\n",
       " <a href=\"https://www.aladin.co.kr/shop/wproduct.aspx?ItemId=289253350&amp;ptid=5&amp;utm_source=aladin&amp;utm_medium=wizard&amp;utm_campaign=relbuy&amp;utm_content=product\">나를 마릴린 먼로라고 하자</a>,\n",
       " <a href=\"https://www.aladin.co.kr/shop/wproduct.aspx?ItemId=284079972&amp;ptid=5&amp;utm_source=aladin&amp;utm_medium=wizard&amp;utm_campaign=relbuy&amp;utm_content=product\">한 게으른 시인의 이야기</a>,\n",
       " <a href=\"https://www.aladin.co.kr/shop/wproduct.aspx?ItemId=287206734&amp;ptid=5&amp;utm_source=aladin&amp;utm_medium=wizard&amp;utm_campaign=relbuy&amp;utm_content=product\">서영동 이야기</a>]"
      ]
     },
     "execution_count": 198,
     "metadata": {},
     "output_type": "execute_result"
    }
   ],
   "source": [
    "# 함께 구매한 책\n",
    "buy = soup.select('div #swiper_nowBuy dd > a')\n",
    "buy"
   ]
  },
  {
   "cell_type": "code",
   "execution_count": 199,
   "id": "3046aca3",
   "metadata": {},
   "outputs": [
    {
     "data": {
      "text/plain": [
       "'어서 오세요, 휴남동 서점입니다'"
      ]
     },
     "execution_count": 199,
     "metadata": {},
     "output_type": "execute_result"
    }
   ],
   "source": [
    "buy = buy[0].text\n",
    "buy"
   ]
  },
  {
   "cell_type": "code",
   "execution_count": null,
   "id": "a3e59998",
   "metadata": {},
   "outputs": [],
   "source": []
  },
  {
   "cell_type": "code",
   "execution_count": 120,
   "id": "3dfd7125",
   "metadata": {},
   "outputs": [
    {
     "data": {
      "text/plain": [
       "'어서 오세요, 휴남동 서점입니다'"
      ]
     },
     "execution_count": 120,
     "metadata": {},
     "output_type": "execute_result"
    }
   ],
   "source": [
    "# 함께 클릭한 책\n",
    "click = soup.select('div #swiper_nowClick dd > a')\n",
    "click[0].text"
   ]
  },
  {
   "cell_type": "code",
   "execution_count": null,
   "id": "4591dd7a",
   "metadata": {},
   "outputs": [],
   "source": []
  }
 ],
 "metadata": {
  "kernelspec": {
   "display_name": "Python 3",
   "language": "python",
   "name": "python3"
  },
  "language_info": {
   "codemirror_mode": {
    "name": "ipython",
    "version": 3
   },
   "file_extension": ".py",
   "mimetype": "text/x-python",
   "name": "python",
   "nbconvert_exporter": "python",
   "pygments_lexer": "ipython3",
   "version": "3.8.8"
  }
 },
 "nbformat": 4,
 "nbformat_minor": 5
}
