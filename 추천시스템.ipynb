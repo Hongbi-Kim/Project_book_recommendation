{
 "cells": [
  {
   "cell_type": "code",
   "execution_count": 1,
   "id": "8ffbdd21",
   "metadata": {},
   "outputs": [],
   "source": [
    "import pandas as pd\n",
    "import numpy as np\n",
    "import pickle"
   ]
  },
  {
   "cell_type": "code",
   "execution_count": 2,
   "id": "35ef9243",
   "metadata": {},
   "outputs": [
    {
     "data": {
      "text/html": [
       "<div>\n",
       "<style scoped>\n",
       "    .dataframe tbody tr th:only-of-type {\n",
       "        vertical-align: middle;\n",
       "    }\n",
       "\n",
       "    .dataframe tbody tr th {\n",
       "        vertical-align: top;\n",
       "    }\n",
       "\n",
       "    .dataframe thead th {\n",
       "        text-align: right;\n",
       "    }\n",
       "</style>\n",
       "<table border=\"1\" class=\"dataframe\">\n",
       "  <thead>\n",
       "    <tr style=\"text-align: right;\">\n",
       "      <th></th>\n",
       "      <th>isbn</th>\n",
       "      <th>title</th>\n",
       "      <th>categoryName</th>\n",
       "      <th>salesPoint</th>\n",
       "      <th>adult</th>\n",
       "      <th>rank</th>\n",
       "      <th>genres</th>\n",
       "      <th>mood</th>\n",
       "      <th>interest</th>\n",
       "    </tr>\n",
       "  </thead>\n",
       "  <tbody>\n",
       "    <tr>\n",
       "      <th>198</th>\n",
       "      <td>9791165341909</td>\n",
       "      <td>달러구트 꿈 백화점 (50만 부 기념 드림 에디션) - 주문하신 꿈은 매진입니다</td>\n",
       "      <td>소설</td>\n",
       "      <td>379054</td>\n",
       "      <td>False</td>\n",
       "      <td>8</td>\n",
       "      <td>[역사, 동화, 로맨스, 미스터리, 판타지, 무협]</td>\n",
       "      <td>[행복, 위로]</td>\n",
       "      <td>[일기, 동물, 사랑, 생각, 진로, 설득]</td>\n",
       "    </tr>\n",
       "    <tr>\n",
       "      <th>559</th>\n",
       "      <td>9791161571188</td>\n",
       "      <td>불편한 편의점 (40만부 기념 벚꽃 에디션)</td>\n",
       "      <td>소설</td>\n",
       "      <td>330837</td>\n",
       "      <td>False</td>\n",
       "      <td>10</td>\n",
       "      <td>[시대, 동화]</td>\n",
       "      <td>[위로, 힐링, 행복]</td>\n",
       "      <td>[시간, 심리, 관계, 사랑, 생각]</td>\n",
       "    </tr>\n",
       "    <tr>\n",
       "      <th>40339</th>\n",
       "      <td>9791192186313</td>\n",
       "      <td>시맨틱 에러 포토에세이</td>\n",
       "      <td>에세이</td>\n",
       "      <td>242520</td>\n",
       "      <td>False</td>\n",
       "      <td>10</td>\n",
       "      <td>[판타지]</td>\n",
       "      <td>[위로]</td>\n",
       "      <td>[사랑, 청춘, 영화, 사진]</td>\n",
       "    </tr>\n",
       "    <tr>\n",
       "      <th>199</th>\n",
       "      <td>9788954681179</td>\n",
       "      <td>밝은 밤 (별밤 에디션)</td>\n",
       "      <td>소설</td>\n",
       "      <td>204554</td>\n",
       "      <td>False</td>\n",
       "      <td>10</td>\n",
       "      <td>[예술, 동화, 로맨스]</td>\n",
       "      <td>[행복, 위로, 열정]</td>\n",
       "      <td>[사랑, 생각, 인생, 청춘, 관계, 시간, 가족]</td>\n",
       "    </tr>\n",
       "    <tr>\n",
       "      <th>200</th>\n",
       "      <td>9791165343729</td>\n",
       "      <td>달러구트 꿈 백화점 2 - 단골손님을 찾습니다</td>\n",
       "      <td>소설</td>\n",
       "      <td>191493</td>\n",
       "      <td>False</td>\n",
       "      <td>9</td>\n",
       "      <td>[동화, 로맨스, 미스터리, 판타지, 무협]</td>\n",
       "      <td>[행복, 위로]</td>\n",
       "      <td>[사랑, 생각, 인생]</td>\n",
       "    </tr>\n",
       "  </tbody>\n",
       "</table>\n",
       "</div>"
      ],
      "text/plain": [
       "                isbn                                         title  \\\n",
       "198    9791165341909  달러구트 꿈 백화점 (50만 부 기념 드림 에디션) - 주문하신 꿈은 매진입니다   \n",
       "559    9791161571188                      불편한 편의점 (40만부 기념 벚꽃 에디션)   \n",
       "40339  9791192186313                                  시맨틱 에러 포토에세이   \n",
       "199    9788954681179                                 밝은 밤 (별밤 에디션)   \n",
       "200    9791165343729                     달러구트 꿈 백화점 2 - 단골손님을 찾습니다   \n",
       "\n",
       "      categoryName  salesPoint  adult  rank                        genres  \\\n",
       "198             소설      379054  False     8  [역사, 동화, 로맨스, 미스터리, 판타지, 무협]   \n",
       "559             소설      330837  False    10                      [시대, 동화]   \n",
       "40339          에세이      242520  False    10                         [판타지]   \n",
       "199             소설      204554  False    10                 [예술, 동화, 로맨스]   \n",
       "200             소설      191493  False     9      [동화, 로맨스, 미스터리, 판타지, 무협]   \n",
       "\n",
       "               mood                      interest  \n",
       "198        [행복, 위로]      [일기, 동물, 사랑, 생각, 진로, 설득]  \n",
       "559    [위로, 힐링, 행복]          [시간, 심리, 관계, 사랑, 생각]  \n",
       "40339          [위로]              [사랑, 청춘, 영화, 사진]  \n",
       "199    [행복, 위로, 열정]  [사랑, 생각, 인생, 청춘, 관계, 시간, 가족]  \n",
       "200        [행복, 위로]                  [사랑, 생각, 인생]  "
      ]
     },
     "execution_count": 2,
     "metadata": {},
     "output_type": "execute_result"
    }
   ],
   "source": [
    "re = pd.read_pickle('recommend_cat_new.pkl')\n",
    "re.head()"
   ]
  },
  {
   "cell_type": "code",
   "execution_count": 3,
   "id": "04c35b1d",
   "metadata": {},
   "outputs": [],
   "source": [
    "re = re.reset_index()"
   ]
  },
  {
   "cell_type": "code",
   "execution_count": 29,
   "id": "8a03866a",
   "metadata": {},
   "outputs": [
    {
     "name": "stdout",
     "output_type": "stream",
     "text": [
      "성인입니까? : 네 / 아니요\n",
      "아니요\n",
      "\n",
      "원하시는 분야를 입력해주세요 : \n",
      "소설 / 에세이 / 자기계발 / 시 / 희곡 / 선택없음\n",
      "에세이\n",
      "\n",
      "책을 읽을 때 선호하는 장르가 있나요? : \n",
      "시대 / 역사 / 철학 / 로맨스 / 전쟁 /  미스터리 / 예술 /  판타지 / 자서전 / 동화 / 과학 / 무협 / 선택없음\n",
      "동화\n",
      "\n",
      "어떤 감성의 책을 원하세요? : \n",
      "고민 / 열정 / 도전 / 긍정 / 후회 / 행복 / 우울 / 위로 / 고통 / 자유 / 희망 / 슬픔 / 열망 / 비극 / 불안 / 용기 / 절망 / 불행 / 유머 / 힐링 / 선택없음\n",
      "용기 희망\n",
      "\n",
      "요즘 관심있는 것이 무엇인가요? : \n",
      "리더십 / 시간 / 페미니즘 / 취업 / 진로 / 비즈니스 / 설득 / 건강 / 심리 / 가족 / 관계 / 동물 / 사진 / 그림 / 여행 / 미술 / 영화 / 음악 / 음식 / 일기 / 자연 / 종교 / 사랑 / 인간 / 생각 / 사회 / 인생 / 일상 / 친구 / 성공 / 청춘 / 정치 / 취미 / 스포츠 / 선택없음\n",
      "여행\n"
     ]
    }
   ],
   "source": [
    "카테고리 = []\n",
    "장르 = []\n",
    "감성 = []\n",
    "관심사 = []\n",
    "성인 = []\n",
    "#book = pd.read_pickle('recommend.pkl')\n",
    "성인질문 = input('성인입니까? : 네 / 아니요\\n')\n",
    "if 성인질문 == '네':\n",
    "    성인.append([True,False])\n",
    "    카테고리.append(input(\"\\n원하시는 분야를 입력해주세요 : \\n소설 / 에세이 / 자기계발 / 시 / 희곡 / 선택없음\\n\").split())\n",
    "    장르.append(input('\\n책을 읽을 때 선호하는 장르가 있나요? : \\n시대 / 역사 / 철학 / 로맨스 / 전쟁 /  미스터리 / 예술 /  판타지 / 자서전 / 동화 / 과학 / 무협 / 선택없음\\n').split())\n",
    "    감성.append(input('\\n어떤 감성의 책을 원하세요? : \\n고민 / 열정 / 도전 / 긍정 / 후회 / 행복 / 우울 / 위로 / 고통 / 자유 /\\\n",
    "                    \\n희망 / 슬픔 / 열망 / 비극 / 불안 / 용기 / 절망 / 불행 / 유머 / 힐링 / 선택없음\\n').split())\n",
    "    관심사.append(input('\\n요즘 관심있는 것이 무엇인가요? : \\n리더십 / 시간 / 페미니즘 / 취업 / 진로 / 비즈니스 / 설득 / 건강 / 심리 / 시 / 희곡 / 가족 / 관계 / 동물 / 사진 / 그림 / 여행 / 미술 / 영화 / 음악 / 음식 / 일기 / 자연 / 종교 / 사랑 / 인간 / 생각 / 사회 / 인생 / 일상 / 친구 / 성공 / 청춘 / 정치 / 취미 / 스포츠 / 선택없음\\n').split())\n",
    "elif 성인질문 == '아니요':\n",
    "    성인.append([False])\n",
    "    카테고리.append(input(\"\\n원하시는 분야를 입력해주세요 : \\n소설 / 에세이 / 자기계발 / 시 / 희곡 / 선택없음\\n\"))\n",
    "    장르.append(input('\\n책을 읽을 때 선호하는 장르가 있나요? : \\n시대 / 역사 / 철학 / 로맨스 / 전쟁 /  미스터리 / 예술 /  판타지 / 자서전 / 동화 / 과학 / 무협 / 선택없음\\n').split())\n",
    "    감성.append(input('\\n어떤 감성의 책을 원하세요? : \\n고민 / 열정 / 도전 / 긍정 / 후회 / 행복 / 우울 / 위로 / 고통 / 자유 / 희망 / 슬픔 / 열망 / 비극 / 불안 / 용기 / 절망 / 불행 / 유머 / 힐링 / 선택없음\\n').split())\n",
    "    관심사.append(input('\\n요즘 관심있는 것이 무엇인가요? : \\n리더십 / 시간 / 페미니즘 / 취업 / 진로 / 비즈니스 / 설득 / 건강 / 심리 / 가족 / 관계 / 동물 / 사진 / 그림 / 여행 / 미술 / 영화 / 음악 / 음식 / 일기 / 자연 / 종교 / 사랑 / 인간 / 생각 / 사회 / 인생 / 일상 / 친구 / 성공 / 청춘 / 정치 / 취미 / 스포츠 / 선택없음\\n').split())\n"
   ]
  },
  {
   "cell_type": "code",
   "execution_count": 30,
   "id": "70fcf9c5",
   "metadata": {},
   "outputs": [
    {
     "data": {
      "text/plain": [
       "([[False]], ['에세이'], [['동화']], [['용기', '희망']], [['여행']])"
      ]
     },
     "execution_count": 30,
     "metadata": {},
     "output_type": "execute_result"
    }
   ],
   "source": [
    "성인, 카테고리, 장르, 감성, 관심사"
   ]
  },
  {
   "cell_type": "code",
   "execution_count": 31,
   "id": "c48219a7",
   "metadata": {},
   "outputs": [],
   "source": [
    "def category(카테고리):\n",
    "    if 카테고리[0][0] != '선택없음':\n",
    "        return (re['categoryName'][i] in 카테고리[0])\n",
    "    else:\n",
    "        return True\n",
    "\n",
    "def genres(장르):\n",
    "    if 장르[0][0] == '선택없음':\n",
    "        return True\n",
    "    elif (len(장르[0]) == 1):\n",
    "        return (장르[0][0] in re['genres'][i])\n",
    "    elif (len(장르[0]) == 2):\n",
    "        return (장르[0][0] in re['genres'][i]) | (장르[0][1] in re['genres'][i])\n",
    "\n",
    "\n",
    "def mood(감성):\n",
    "    if 감성[0][0] == '선택없음':\n",
    "        return True\n",
    "    elif (len(감성[0]) == 1):\n",
    "        return (감성[0][0] in re['mood'][i])\n",
    "    elif (len(감성[0]) == 2):\n",
    "        return (감성[0][0] in re['mood'][i]) | (감성[0][1] in re['mood'][i])\n",
    "\n",
    "def interest(관심사):\n",
    "    if 관심사[0][0] == '선택없음':\n",
    "        return True\n",
    "    elif (len(관심사[0]) == 1):\n",
    "        return (관심사[0][0] in re['interest'][i])\n",
    "    elif (len(관심사[0]) == 2):\n",
    "        return (관심사[0][0] in re['interest'][i]) | (관심사[0][1] in re['interest'][i])"
   ]
  },
  {
   "cell_type": "code",
   "execution_count": 24,
   "id": "7e3f966b",
   "metadata": {},
   "outputs": [
    {
     "data": {
      "text/plain": [
       "(True, True)"
      ]
     },
     "execution_count": 24,
     "metadata": {},
     "output_type": "execute_result"
    }
   ],
   "source": [
    "관심사[0][0] == '선택없음', interest(관심사)"
   ]
  },
  {
   "cell_type": "code",
   "execution_count": 210,
   "id": "e1c89f74",
   "metadata": {},
   "outputs": [
    {
     "data": {
      "text/plain": [
       "('소설', ['에세이'])"
      ]
     },
     "execution_count": 210,
     "metadata": {},
     "output_type": "execute_result"
    }
   ],
   "source": [
    " 카테고리[0]"
   ]
  },
  {
   "cell_type": "code",
   "execution_count": 216,
   "id": "ab8e63bb",
   "metadata": {},
   "outputs": [
    {
     "data": {
      "text/plain": [
       "True"
      ]
     },
     "execution_count": 216,
     "metadata": {},
     "output_type": "execute_result"
    }
   ],
   "source": [
    "(re['adult'][0] in 성인[0])"
   ]
  },
  {
   "cell_type": "code",
   "execution_count": 32,
   "id": "1917cfe0",
   "metadata": {},
   "outputs": [
    {
     "data": {
      "text/html": [
       "<div>\n",
       "<style scoped>\n",
       "    .dataframe tbody tr th:only-of-type {\n",
       "        vertical-align: middle;\n",
       "    }\n",
       "\n",
       "    .dataframe tbody tr th {\n",
       "        vertical-align: top;\n",
       "    }\n",
       "\n",
       "    .dataframe thead th {\n",
       "        text-align: right;\n",
       "    }\n",
       "</style>\n",
       "<table border=\"1\" class=\"dataframe\">\n",
       "  <thead>\n",
       "    <tr style=\"text-align: right;\">\n",
       "      <th></th>\n",
       "      <th>index</th>\n",
       "      <th>isbn</th>\n",
       "      <th>title</th>\n",
       "      <th>categoryName</th>\n",
       "      <th>salesPoint</th>\n",
       "      <th>adult</th>\n",
       "      <th>rank</th>\n",
       "      <th>genres</th>\n",
       "      <th>mood</th>\n",
       "      <th>interest</th>\n",
       "    </tr>\n",
       "  </thead>\n",
       "  <tbody>\n",
       "    <tr>\n",
       "      <th>379</th>\n",
       "      <td>40292</td>\n",
       "      <td>9791190533034</td>\n",
       "      <td>작은 파티 드레스</td>\n",
       "      <td>에세이</td>\n",
       "      <td>17392</td>\n",
       "      <td>False</td>\n",
       "      <td>10</td>\n",
       "      <td>[동화]</td>\n",
       "      <td>[고통, 슬픔, 절망, 비극, 불행, 행복, 열정, 희망, 열망]</td>\n",
       "      <td>[사랑, 인생, 청춘, 시, 여행, 생각, 자연]</td>\n",
       "    </tr>\n",
       "    <tr>\n",
       "      <th>418</th>\n",
       "      <td>40466</td>\n",
       "      <td>9788934980223</td>\n",
       "      <td>미워하는 미워하는 미워하는 마음 없이</td>\n",
       "      <td>에세이</td>\n",
       "      <td>16582</td>\n",
       "      <td>False</td>\n",
       "      <td>10</td>\n",
       "      <td>[예술, 시대, 동화]</td>\n",
       "      <td>[행복, 열정, 위로, 긍정, 희망, 열망, 후회]</td>\n",
       "      <td>[심리, 관계, 사랑, 생각, 인생, 청춘, 시간, 여행, 일상]</td>\n",
       "    </tr>\n",
       "    <tr>\n",
       "      <th>426</th>\n",
       "      <td>41585</td>\n",
       "      <td>9791190065672</td>\n",
       "      <td>박막례, 이대로 죽을 순 없다 (땡큐 에디션) - 독보적 유튜버 박막례와 천재 PD...</td>\n",
       "      <td>에세이</td>\n",
       "      <td>16360</td>\n",
       "      <td>False</td>\n",
       "      <td>9</td>\n",
       "      <td>[동화]</td>\n",
       "      <td>[슬픔, 열정, 도전, 행복, 희망, 불행]</td>\n",
       "      <td>[성공, 생각, 인생, 여행, 청춘, 사랑]</td>\n",
       "    </tr>\n",
       "    <tr>\n",
       "      <th>501</th>\n",
       "      <td>40509</td>\n",
       "      <td>9791189385163</td>\n",
       "      <td>쉬운 천국 - 뉴욕, 런던, 파리, 베를린, 비엔나 잊을 수 없는 시절의 여행들</td>\n",
       "      <td>에세이</td>\n",
       "      <td>14534</td>\n",
       "      <td>False</td>\n",
       "      <td>9</td>\n",
       "      <td>[동화]</td>\n",
       "      <td>[행복, 위로, 고민, 긍정, 희망, 열망, 열정, 용기, 후회]</td>\n",
       "      <td>[사랑, 생각, 인생, 청춘, 시간, 여행, 친구]</td>\n",
       "    </tr>\n",
       "    <tr>\n",
       "      <th>571</th>\n",
       "      <td>40581</td>\n",
       "      <td>9791196797744</td>\n",
       "      <td>괜찮지 않은데 괜찮은 척했다</td>\n",
       "      <td>에세이</td>\n",
       "      <td>13236</td>\n",
       "      <td>False</td>\n",
       "      <td>9</td>\n",
       "      <td>[동화]</td>\n",
       "      <td>[고민, 행복, 위로, 우울, 불안, 후회, 희망, 용기, 도전, 불행]</td>\n",
       "      <td>[진로, 관계, 시간, 여행, 사랑, 생각, 설득, 인생, 청춘, 성공]</td>\n",
       "    </tr>\n",
       "    <tr>\n",
       "      <th>...</th>\n",
       "      <td>...</td>\n",
       "      <td>...</td>\n",
       "      <td>...</td>\n",
       "      <td>...</td>\n",
       "      <td>...</td>\n",
       "      <td>...</td>\n",
       "      <td>...</td>\n",
       "      <td>...</td>\n",
       "      <td>...</td>\n",
       "      <td>...</td>\n",
       "    </tr>\n",
       "    <tr>\n",
       "      <th>41001</th>\n",
       "      <td>51243</td>\n",
       "      <td>9791191470000</td>\n",
       "      <td>페이지스 6집 : 언젠가 우리 다시</td>\n",
       "      <td>에세이</td>\n",
       "      <td>53</td>\n",
       "      <td>False</td>\n",
       "      <td>10</td>\n",
       "      <td>[동화, 판타지]</td>\n",
       "      <td>[행복, 용기, 힐링]</td>\n",
       "      <td>[생각, 인생, 일상, 시간, 여행]</td>\n",
       "    </tr>\n",
       "    <tr>\n",
       "      <th>41027</th>\n",
       "      <td>51269</td>\n",
       "      <td>9791187525615</td>\n",
       "      <td>소멸하는 것들은 신호를 보낸다 - 죽기 전에 남기는 마지막 말들</td>\n",
       "      <td>에세이</td>\n",
       "      <td>53</td>\n",
       "      <td>False</td>\n",
       "      <td>6</td>\n",
       "      <td>[동화]</td>\n",
       "      <td>[행복, 열정, 후회, 위로, 희망, 용기, 힐링, 자유, 불안]</td>\n",
       "      <td>[가족, 생각, 사랑, 인생, 청춘, 시간, 여행, 심리]</td>\n",
       "    </tr>\n",
       "    <tr>\n",
       "      <th>41033</th>\n",
       "      <td>51275</td>\n",
       "      <td>9791186836859</td>\n",
       "      <td>이탈리아, 고작 5일</td>\n",
       "      <td>에세이</td>\n",
       "      <td>53</td>\n",
       "      <td>False</td>\n",
       "      <td>4</td>\n",
       "      <td>[동화]</td>\n",
       "      <td>[행복, 고민, 후회, 용기]</td>\n",
       "      <td>[생각, 시간, 인생, 여행]</td>\n",
       "    </tr>\n",
       "    <tr>\n",
       "      <th>41058</th>\n",
       "      <td>51263</td>\n",
       "      <td>9791196254025</td>\n",
       "      <td>오늘이 너무 익숙해서 - 느린 여행에서 얻어진 조각들</td>\n",
       "      <td>에세이</td>\n",
       "      <td>53</td>\n",
       "      <td>False</td>\n",
       "      <td>10</td>\n",
       "      <td>[시대, 동화]</td>\n",
       "      <td>[위로, 힐링, 희망, 행복, 열정, 고민, 후회, 도전, 용기]</td>\n",
       "      <td>[심리, 관계, 일상, 생각, 사랑, 인생, 청춘, 시간, 여행, 취미]</td>\n",
       "    </tr>\n",
       "    <tr>\n",
       "      <th>54341</th>\n",
       "      <td>40115</td>\n",
       "      <td>9788934967262</td>\n",
       "      <td>[큰글자책] 미워하는 미워하는 미워하는 마음 없이</td>\n",
       "      <td>에세이</td>\n",
       "      <td>0</td>\n",
       "      <td>False</td>\n",
       "      <td>0</td>\n",
       "      <td>[예술, 시대, 동화]</td>\n",
       "      <td>[행복, 열정, 위로, 긍정, 희망, 열망, 후회]</td>\n",
       "      <td>[심리, 관계, 사랑, 생각, 인생, 청춘, 시간, 여행, 일상]</td>\n",
       "    </tr>\n",
       "  </tbody>\n",
       "</table>\n",
       "<p>410 rows × 10 columns</p>\n",
       "</div>"
      ],
      "text/plain": [
       "       index           isbn  \\\n",
       "379    40292  9791190533034   \n",
       "418    40466  9788934980223   \n",
       "426    41585  9791190065672   \n",
       "501    40509  9791189385163   \n",
       "571    40581  9791196797744   \n",
       "...      ...            ...   \n",
       "41001  51243  9791191470000   \n",
       "41027  51269  9791187525615   \n",
       "41033  51275  9791186836859   \n",
       "41058  51263  9791196254025   \n",
       "54341  40115  9788934967262   \n",
       "\n",
       "                                                   title categoryName  \\\n",
       "379                                            작은 파티 드레스          에세이   \n",
       "418                                 미워하는 미워하는 미워하는 마음 없이          에세이   \n",
       "426    박막례, 이대로 죽을 순 없다 (땡큐 에디션) - 독보적 유튜버 박막례와 천재 PD...          에세이   \n",
       "501         쉬운 천국 - 뉴욕, 런던, 파리, 베를린, 비엔나 잊을 수 없는 시절의 여행들          에세이   \n",
       "571                                      괜찮지 않은데 괜찮은 척했다          에세이   \n",
       "...                                                  ...          ...   \n",
       "41001                                페이지스 6집 : 언젠가 우리 다시          에세이   \n",
       "41027                소멸하는 것들은 신호를 보낸다 - 죽기 전에 남기는 마지막 말들          에세이   \n",
       "41033                                        이탈리아, 고작 5일          에세이   \n",
       "41058                      오늘이 너무 익숙해서 - 느린 여행에서 얻어진 조각들          에세이   \n",
       "54341                        [큰글자책] 미워하는 미워하는 미워하는 마음 없이          에세이   \n",
       "\n",
       "       salesPoint  adult  rank        genres  \\\n",
       "379         17392  False    10          [동화]   \n",
       "418         16582  False    10  [예술, 시대, 동화]   \n",
       "426         16360  False     9          [동화]   \n",
       "501         14534  False     9          [동화]   \n",
       "571         13236  False     9          [동화]   \n",
       "...           ...    ...   ...           ...   \n",
       "41001          53  False    10     [동화, 판타지]   \n",
       "41027          53  False     6          [동화]   \n",
       "41033          53  False     4          [동화]   \n",
       "41058          53  False    10      [시대, 동화]   \n",
       "54341           0  False     0  [예술, 시대, 동화]   \n",
       "\n",
       "                                           mood  \\\n",
       "379        [고통, 슬픔, 절망, 비극, 불행, 행복, 열정, 희망, 열망]   \n",
       "418                [행복, 열정, 위로, 긍정, 희망, 열망, 후회]   \n",
       "426                    [슬픔, 열정, 도전, 행복, 희망, 불행]   \n",
       "501        [행복, 위로, 고민, 긍정, 희망, 열망, 열정, 용기, 후회]   \n",
       "571    [고민, 행복, 위로, 우울, 불안, 후회, 희망, 용기, 도전, 불행]   \n",
       "...                                         ...   \n",
       "41001                              [행복, 용기, 힐링]   \n",
       "41027      [행복, 열정, 후회, 위로, 희망, 용기, 힐링, 자유, 불안]   \n",
       "41033                          [행복, 고민, 후회, 용기]   \n",
       "41058      [위로, 힐링, 희망, 행복, 열정, 고민, 후회, 도전, 용기]   \n",
       "54341              [행복, 열정, 위로, 긍정, 희망, 열망, 후회]   \n",
       "\n",
       "                                       interest  \n",
       "379                 [사랑, 인생, 청춘, 시, 여행, 생각, 자연]  \n",
       "418        [심리, 관계, 사랑, 생각, 인생, 청춘, 시간, 여행, 일상]  \n",
       "426                    [성공, 생각, 인생, 여행, 청춘, 사랑]  \n",
       "501                [사랑, 생각, 인생, 청춘, 시간, 여행, 친구]  \n",
       "571    [진로, 관계, 시간, 여행, 사랑, 생각, 설득, 인생, 청춘, 성공]  \n",
       "...                                         ...  \n",
       "41001                      [생각, 인생, 일상, 시간, 여행]  \n",
       "41027          [가족, 생각, 사랑, 인생, 청춘, 시간, 여행, 심리]  \n",
       "41033                          [생각, 시간, 인생, 여행]  \n",
       "41058  [심리, 관계, 일상, 생각, 사랑, 인생, 청춘, 시간, 여행, 취미]  \n",
       "54341      [심리, 관계, 사랑, 생각, 인생, 청춘, 시간, 여행, 일상]  \n",
       "\n",
       "[410 rows x 10 columns]"
      ]
     },
     "execution_count": 32,
     "metadata": {},
     "output_type": "execute_result"
    }
   ],
   "source": [
    "select_list = []\n",
    "for i in range(len(re)):\n",
    "    if (re['adult'][i] in 성인[0]) & category(카테고리) & genres(장르) & mood(감성) & interest(관심사):\n",
    "        select_list.append(re.loc[i])\n",
    "        \n",
    "select_book = pd.DataFrame(select_list)\n",
    "select_book\n",
    "\n",
    "## score"
   ]
  },
  {
   "cell_type": "code",
   "execution_count": 25,
   "id": "95dcb8db",
   "metadata": {},
   "outputs": [
    {
     "data": {
      "text/plain": [
       "[True, False]"
      ]
     },
     "execution_count": 25,
     "metadata": {},
     "output_type": "execute_result"
    }
   ],
   "source": [
    "성인[0]"
   ]
  },
  {
   "cell_type": "code",
   "execution_count": 26,
   "id": "2220bc12",
   "metadata": {},
   "outputs": [
    {
     "data": {
      "text/plain": [
       "False"
      ]
     },
     "execution_count": 26,
     "metadata": {},
     "output_type": "execute_result"
    }
   ],
   "source": [
    "re['adult'][0]"
   ]
  },
  {
   "cell_type": "code",
   "execution_count": null,
   "id": "07bc34ee",
   "metadata": {},
   "outputs": [],
   "source": []
  },
  {
   "cell_type": "code",
   "execution_count": null,
   "id": "7c0011f3",
   "metadata": {},
   "outputs": [],
   "source": []
  },
  {
   "cell_type": "code",
   "execution_count": null,
   "id": "d25051b7",
   "metadata": {},
   "outputs": [],
   "source": []
  },
  {
   "cell_type": "code",
   "execution_count": null,
   "id": "c753621f",
   "metadata": {},
   "outputs": [],
   "source": []
  },
  {
   "cell_type": "code",
   "execution_count": null,
   "id": "2f231500",
   "metadata": {},
   "outputs": [],
   "source": []
  }
 ],
 "metadata": {
  "kernelspec": {
   "display_name": "Python 3",
   "language": "python",
   "name": "python3"
  },
  "language_info": {
   "codemirror_mode": {
    "name": "ipython",
    "version": 3
   },
   "file_extension": ".py",
   "mimetype": "text/x-python",
   "name": "python",
   "nbconvert_exporter": "python",
   "pygments_lexer": "ipython3",
   "version": "3.8.8"
  }
 },
 "nbformat": 4,
 "nbformat_minor": 5
}
