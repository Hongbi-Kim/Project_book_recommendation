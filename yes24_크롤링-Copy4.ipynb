{
 "cells": [
  {
   "cell_type": "markdown",
   "id": "1534f9be",
   "metadata": {},
   "source": [
    "# 1. 크롤링"
   ]
  },
  {
   "cell_type": "code",
   "execution_count": 1,
   "id": "78929dfd",
   "metadata": {},
   "outputs": [],
   "source": [
    "from selenium import webdriver\n",
    "from selenium.webdriver.chrome.service import Service\n",
    "from bs4 import BeautifulSoup\n",
    "from selenium.webdriver.common.by import By\n",
    "import time\n",
    "import pandas as pd"
   ]
  },
  {
   "cell_type": "code",
   "execution_count": 2,
   "id": "bb441560",
   "metadata": {},
   "outputs": [],
   "source": [
    "import pickle"
   ]
  },
  {
   "cell_type": "code",
   "execution_count": 41,
   "id": "9e3633ca",
   "metadata": {},
   "outputs": [],
   "source": [
    "service = Service('chromedriver.exe')\n",
    "driver = webdriver.Chrome(service = service)"
   ]
  },
  {
   "cell_type": "code",
   "execution_count": 4,
   "id": "3aea11f6",
   "metadata": {},
   "outputs": [],
   "source": [
    "isbn13 = pd.read_pickle('isbn13.pkl')"
   ]
  },
  {
   "cell_type": "code",
   "execution_count": 6,
   "id": "3932170d",
   "metadata": {},
   "outputs": [
    {
     "data": {
      "text/plain": [
       "0        9791190710343\n",
       "1        9791190710350\n",
       "2        9791190710367\n",
       "3        9791128858338\n",
       "4        9788954685603\n",
       "             ...      \n",
       "54971    9791185020136\n",
       "54972    9788997838127\n",
       "54973    9788956591858\n",
       "54974    9788987794938\n",
       "54975    9788995696972\n",
       "Name: isbn13, Length: 54976, dtype: object"
      ]
     },
     "execution_count": 6,
     "metadata": {},
     "output_type": "execute_result"
    }
   ],
   "source": [
    "isbn13"
   ]
  },
  {
   "cell_type": "code",
   "execution_count": 49,
   "id": "c1508f2f",
   "metadata": {
    "scrolled": true
   },
   "outputs": [
    {
     "ename": "WebDriverException",
     "evalue": "Message: unknown error: session deleted because of page crash\nfrom unknown error: cannot determine loading status\nfrom tab crashed\n  (Session info: chrome=99.0.4844.74)\nStacktrace:\nBacktrace:\n\tOrdinal0 [0x0112CF43+2608963]\n\tOrdinal0 [0x010BE8C1+2156737]\n\tOrdinal0 [0x00FB4190+1065360]\n\tOrdinal0 [0x00FA66A3+1009315]\n\tOrdinal0 [0x00FA638F+1008527]\n\tOrdinal0 [0x00FA59A0+1005984]\n\tOrdinal0 [0x00FA48D0+1001680]\n\tOrdinal0 [0x00FA4ED8+1003224]\n\tOrdinal0 [0x00FA4E68+1003112]\n\tOrdinal0 [0x00FAAB55+1026901]\n\tOrdinal0 [0x00FAAD96+1027478]\n\tOrdinal0 [0x00FA608D+1007757]\n\tOrdinal0 [0x00FA65A5+1009061]\n\tOrdinal0 [0x00FA638F+1008527]\n\tOrdinal0 [0x00FA59A0+1005984]\n\tOrdinal0 [0x00FA48D0+1001680]\n\tOrdinal0 [0x00FA4ED8+1003224]\n\tOrdinal0 [0x00FA4E68+1003112]\n\tOrdinal0 [0x00FAAFF0+1028080]\n\tOrdinal0 [0x00FA608D+1007757]\n\tOrdinal0 [0x00FA65A5+1009061]\n\tOrdinal0 [0x00FA638F+1008527]\n\tOrdinal0 [0x00FA59A0+1005984]\n\tOrdinal0 [0x00FA48D0+1001680]\n\tOrdinal0 [0x00FA4ED8+1003224]\n\tOrdinal0 [0x00FAF5EF+1045999]\n\tOrdinal0 [0x00FBA11B+1089819]\n\tOrdinal0 [0x00FBC9B0+1100208]\n\tOrdinal0 [0x00FA51A6+1003942]\n\tOrdinal0 [0x00FB9D63+1088867]\n\tOrdinal0 [0x0100B856+1423446]\n\tOrdinal0 [0x00FFAED6+1355478]\n\tOrdinal0 [0x00FD5D86+1203590]\n\tOrdinal0 [0x00FD6C66+1207398]\n\tGetHandleVerifier [0x012D3252+1679186]\n\tGetHandleVerifier [0x0138591C+2410012]\n\tGetHandleVerifier [0x011C3B41+567361]\n\tGetHandleVerifier [0x011C2CC6+563654]\n\tOrdinal0 [0x010C4B5B+2181979]\n\tOrdinal0 [0x010C9AA8+2202280]\n\tOrdinal0 [0x010C9B95+2202517]\n\tOrdinal0 [0x010D3B2C+2243372]\n\tBaseThreadInitThunk [0x764EFA29+25]\n\tRtlGetAppContainerNamedObjectPath [0x77847A7E+286]\n\tRtlGetAppContainerNamedObjectPath [0x77847A4E+238]\n",
     "output_type": "error",
     "traceback": [
      "\u001b[1;31m---------------------------------------------------------------------------\u001b[0m",
      "\u001b[1;31mWebDriverException\u001b[0m                        Traceback (most recent call last)",
      "\u001b[1;32m<ipython-input-49-7160ba6a70f6>\u001b[0m in \u001b[0;36m<module>\u001b[1;34m\u001b[0m\n\u001b[0;32m     23\u001b[0m     \u001b[1;32mfor\u001b[0m \u001b[0mitem\u001b[0m \u001b[1;32min\u001b[0m \u001b[0mgoods\u001b[0m\u001b[1;33m:\u001b[0m\u001b[1;33m\u001b[0m\u001b[1;33m\u001b[0m\u001b[0m\n\u001b[0;32m     24\u001b[0m         \u001b[1;32mdel\u001b[0m\u001b[1;33m(\u001b[0m\u001b[0mgoods\u001b[0m\u001b[1;33m[\u001b[0m\u001b[1;36m1\u001b[0m\u001b[1;33m:\u001b[0m\u001b[1;33m]\u001b[0m\u001b[1;33m)\u001b[0m\u001b[1;33m\u001b[0m\u001b[1;33m\u001b[0m\u001b[0m\n\u001b[1;32m---> 25\u001b[1;33m         \u001b[0mdriver\u001b[0m\u001b[1;33m.\u001b[0m\u001b[0mget\u001b[0m\u001b[1;33m(\u001b[0m\u001b[1;34m'http://www.yes24.com'\u001b[0m\u001b[1;33m+\u001b[0m\u001b[1;34m'/Product/Goods/{}'\u001b[0m\u001b[1;33m.\u001b[0m\u001b[0mformat\u001b[0m\u001b[1;33m(\u001b[0m\u001b[0mitem\u001b[0m\u001b[1;33m)\u001b[0m\u001b[1;33m)\u001b[0m \u001b[1;31m# 상품 페이지\u001b[0m\u001b[1;33m\u001b[0m\u001b[1;33m\u001b[0m\u001b[0m\n\u001b[0m\u001b[0;32m     26\u001b[0m         \u001b[0mtime\u001b[0m\u001b[1;33m.\u001b[0m\u001b[0msleep\u001b[0m\u001b[1;33m(\u001b[0m\u001b[1;36m1\u001b[0m\u001b[1;33m)\u001b[0m\u001b[1;33m\u001b[0m\u001b[1;33m\u001b[0m\u001b[0m\n\u001b[0;32m     27\u001b[0m         \u001b[0mhtml\u001b[0m \u001b[1;33m=\u001b[0m \u001b[0mdriver\u001b[0m\u001b[1;33m.\u001b[0m\u001b[0mpage_source\u001b[0m\u001b[1;33m\u001b[0m\u001b[1;33m\u001b[0m\u001b[0m\n",
      "\u001b[1;32m~\\anaconda3\\lib\\site-packages\\selenium\\webdriver\\remote\\webdriver.py\u001b[0m in \u001b[0;36mget\u001b[1;34m(self, url)\u001b[0m\n\u001b[0;32m    434\u001b[0m         \u001b[0mLoads\u001b[0m \u001b[0ma\u001b[0m \u001b[0mweb\u001b[0m \u001b[0mpage\u001b[0m \u001b[1;32min\u001b[0m \u001b[0mthe\u001b[0m \u001b[0mcurrent\u001b[0m \u001b[0mbrowser\u001b[0m \u001b[0msession\u001b[0m\u001b[1;33m.\u001b[0m\u001b[1;33m\u001b[0m\u001b[1;33m\u001b[0m\u001b[0m\n\u001b[0;32m    435\u001b[0m         \"\"\"\n\u001b[1;32m--> 436\u001b[1;33m         \u001b[0mself\u001b[0m\u001b[1;33m.\u001b[0m\u001b[0mexecute\u001b[0m\u001b[1;33m(\u001b[0m\u001b[0mCommand\u001b[0m\u001b[1;33m.\u001b[0m\u001b[0mGET\u001b[0m\u001b[1;33m,\u001b[0m \u001b[1;33m{\u001b[0m\u001b[1;34m'url'\u001b[0m\u001b[1;33m:\u001b[0m \u001b[0murl\u001b[0m\u001b[1;33m}\u001b[0m\u001b[1;33m)\u001b[0m\u001b[1;33m\u001b[0m\u001b[1;33m\u001b[0m\u001b[0m\n\u001b[0m\u001b[0;32m    437\u001b[0m \u001b[1;33m\u001b[0m\u001b[0m\n\u001b[0;32m    438\u001b[0m     \u001b[1;33m@\u001b[0m\u001b[0mproperty\u001b[0m\u001b[1;33m\u001b[0m\u001b[1;33m\u001b[0m\u001b[0m\n",
      "\u001b[1;32m~\\anaconda3\\lib\\site-packages\\selenium\\webdriver\\remote\\webdriver.py\u001b[0m in \u001b[0;36mexecute\u001b[1;34m(self, driver_command, params)\u001b[0m\n\u001b[0;32m    422\u001b[0m         \u001b[0mresponse\u001b[0m \u001b[1;33m=\u001b[0m \u001b[0mself\u001b[0m\u001b[1;33m.\u001b[0m\u001b[0mcommand_executor\u001b[0m\u001b[1;33m.\u001b[0m\u001b[0mexecute\u001b[0m\u001b[1;33m(\u001b[0m\u001b[0mdriver_command\u001b[0m\u001b[1;33m,\u001b[0m \u001b[0mparams\u001b[0m\u001b[1;33m)\u001b[0m\u001b[1;33m\u001b[0m\u001b[1;33m\u001b[0m\u001b[0m\n\u001b[0;32m    423\u001b[0m         \u001b[1;32mif\u001b[0m \u001b[0mresponse\u001b[0m\u001b[1;33m:\u001b[0m\u001b[1;33m\u001b[0m\u001b[1;33m\u001b[0m\u001b[0m\n\u001b[1;32m--> 424\u001b[1;33m             \u001b[0mself\u001b[0m\u001b[1;33m.\u001b[0m\u001b[0merror_handler\u001b[0m\u001b[1;33m.\u001b[0m\u001b[0mcheck_response\u001b[0m\u001b[1;33m(\u001b[0m\u001b[0mresponse\u001b[0m\u001b[1;33m)\u001b[0m\u001b[1;33m\u001b[0m\u001b[1;33m\u001b[0m\u001b[0m\n\u001b[0m\u001b[0;32m    425\u001b[0m             response['value'] = self._unwrap_value(\n\u001b[0;32m    426\u001b[0m                 response.get('value', None))\n",
      "\u001b[1;32m~\\anaconda3\\lib\\site-packages\\selenium\\webdriver\\remote\\errorhandler.py\u001b[0m in \u001b[0;36mcheck_response\u001b[1;34m(self, response)\u001b[0m\n\u001b[0;32m    245\u001b[0m                 \u001b[0malert_text\u001b[0m \u001b[1;33m=\u001b[0m \u001b[0mvalue\u001b[0m\u001b[1;33m[\u001b[0m\u001b[1;34m'alert'\u001b[0m\u001b[1;33m]\u001b[0m\u001b[1;33m.\u001b[0m\u001b[0mget\u001b[0m\u001b[1;33m(\u001b[0m\u001b[1;34m'text'\u001b[0m\u001b[1;33m)\u001b[0m\u001b[1;33m\u001b[0m\u001b[1;33m\u001b[0m\u001b[0m\n\u001b[0;32m    246\u001b[0m             \u001b[1;32mraise\u001b[0m \u001b[0mexception_class\u001b[0m\u001b[1;33m(\u001b[0m\u001b[0mmessage\u001b[0m\u001b[1;33m,\u001b[0m \u001b[0mscreen\u001b[0m\u001b[1;33m,\u001b[0m \u001b[0mstacktrace\u001b[0m\u001b[1;33m,\u001b[0m \u001b[0malert_text\u001b[0m\u001b[1;33m)\u001b[0m  \u001b[1;31m# type: ignore[call-arg]  # mypy is not smart enough here\u001b[0m\u001b[1;33m\u001b[0m\u001b[1;33m\u001b[0m\u001b[0m\n\u001b[1;32m--> 247\u001b[1;33m         \u001b[1;32mraise\u001b[0m \u001b[0mexception_class\u001b[0m\u001b[1;33m(\u001b[0m\u001b[0mmessage\u001b[0m\u001b[1;33m,\u001b[0m \u001b[0mscreen\u001b[0m\u001b[1;33m,\u001b[0m \u001b[0mstacktrace\u001b[0m\u001b[1;33m)\u001b[0m\u001b[1;33m\u001b[0m\u001b[1;33m\u001b[0m\u001b[0m\n\u001b[0m\u001b[0;32m    248\u001b[0m \u001b[1;33m\u001b[0m\u001b[0m\n\u001b[0;32m    249\u001b[0m     \u001b[1;32mdef\u001b[0m \u001b[0m_value_or_default\u001b[0m\u001b[1;33m(\u001b[0m\u001b[0mself\u001b[0m\u001b[1;33m,\u001b[0m \u001b[0mobj\u001b[0m\u001b[1;33m:\u001b[0m \u001b[0mMapping\u001b[0m\u001b[1;33m[\u001b[0m\u001b[0m_KT\u001b[0m\u001b[1;33m,\u001b[0m \u001b[0m_VT\u001b[0m\u001b[1;33m]\u001b[0m\u001b[1;33m,\u001b[0m \u001b[0mkey\u001b[0m\u001b[1;33m:\u001b[0m \u001b[0m_KT\u001b[0m\u001b[1;33m,\u001b[0m \u001b[0mdefault\u001b[0m\u001b[1;33m:\u001b[0m \u001b[0m_VT\u001b[0m\u001b[1;33m)\u001b[0m \u001b[1;33m->\u001b[0m \u001b[0m_VT\u001b[0m\u001b[1;33m:\u001b[0m\u001b[1;33m\u001b[0m\u001b[1;33m\u001b[0m\u001b[0m\n",
      "\u001b[1;31mWebDriverException\u001b[0m: Message: unknown error: session deleted because of page crash\nfrom unknown error: cannot determine loading status\nfrom tab crashed\n  (Session info: chrome=99.0.4844.74)\nStacktrace:\nBacktrace:\n\tOrdinal0 [0x0112CF43+2608963]\n\tOrdinal0 [0x010BE8C1+2156737]\n\tOrdinal0 [0x00FB4190+1065360]\n\tOrdinal0 [0x00FA66A3+1009315]\n\tOrdinal0 [0x00FA638F+1008527]\n\tOrdinal0 [0x00FA59A0+1005984]\n\tOrdinal0 [0x00FA48D0+1001680]\n\tOrdinal0 [0x00FA4ED8+1003224]\n\tOrdinal0 [0x00FA4E68+1003112]\n\tOrdinal0 [0x00FAAB55+1026901]\n\tOrdinal0 [0x00FAAD96+1027478]\n\tOrdinal0 [0x00FA608D+1007757]\n\tOrdinal0 [0x00FA65A5+1009061]\n\tOrdinal0 [0x00FA638F+1008527]\n\tOrdinal0 [0x00FA59A0+1005984]\n\tOrdinal0 [0x00FA48D0+1001680]\n\tOrdinal0 [0x00FA4ED8+1003224]\n\tOrdinal0 [0x00FA4E68+1003112]\n\tOrdinal0 [0x00FAAFF0+1028080]\n\tOrdinal0 [0x00FA608D+1007757]\n\tOrdinal0 [0x00FA65A5+1009061]\n\tOrdinal0 [0x00FA638F+1008527]\n\tOrdinal0 [0x00FA59A0+1005984]\n\tOrdinal0 [0x00FA48D0+1001680]\n\tOrdinal0 [0x00FA4ED8+1003224]\n\tOrdinal0 [0x00FAF5EF+1045999]\n\tOrdinal0 [0x00FBA11B+1089819]\n\tOrdinal0 [0x00FBC9B0+1100208]\n\tOrdinal0 [0x00FA51A6+1003942]\n\tOrdinal0 [0x00FB9D63+1088867]\n\tOrdinal0 [0x0100B856+1423446]\n\tOrdinal0 [0x00FFAED6+1355478]\n\tOrdinal0 [0x00FD5D86+1203590]\n\tOrdinal0 [0x00FD6C66+1207398]\n\tGetHandleVerifier [0x012D3252+1679186]\n\tGetHandleVerifier [0x0138591C+2410012]\n\tGetHandleVerifier [0x011C3B41+567361]\n\tGetHandleVerifier [0x011C2CC6+563654]\n\tOrdinal0 [0x010C4B5B+2181979]\n\tOrdinal0 [0x010C9AA8+2202280]\n\tOrdinal0 [0x010C9B95+2202517]\n\tOrdinal0 [0x010D3B2C+2243372]\n\tBaseThreadInitThunk [0x764EFA29+25]\n\tRtlGetAppContainerNamedObjectPath [0x77847A7E+286]\n\tRtlGetAppContainerNamedObjectPath [0x77847A4E+238]\n"
     ]
    }
   ],
   "source": [
    "rank_mean = [] # 도서 평균 평점\n",
    "rank_percentage = [] # 평균 percentage\n",
    "review_title = [] # 리뷰 제목\n",
    "review_id = [] # 리뷰 id\n",
    "review_rank = [] # 리뷰 평점\n",
    "review_text = [] # 리뷰 \n",
    "isbn_idx = []\n",
    "\n",
    "\n",
    "for isbn in isbn13[914:1171]: # 페이지 입력\n",
    "    url = \"http://www.yes24.com/product/search?query={}\".format(isbn)\n",
    "    driver.get(url)\n",
    "    time.sleep(2)\n",
    "    html = driver.page_source\n",
    "    soup = BeautifulSoup(html, 'html.parser')\n",
    "    \n",
    "    # 페이지에 있는 도서 링크(50개)\n",
    "    book_links = soup.select('a.gd_name')\n",
    "    goods = []\n",
    "    for link in book_links:\n",
    "        a= link['href'].split('/')[3] \n",
    "        goods.append(a)\n",
    "    for item in goods:\n",
    "        del(goods[1:])\n",
    "        driver.get('http://www.yes24.com'+'/Product/Goods/{}'.format(item)) # 상품 페이지\n",
    "        time.sleep(1)\n",
    "        html = driver.page_source\n",
    "        soup = BeautifulSoup(html, 'html.parser')\n",
    "        try:\n",
    "            mean = soup.select('div.gd_rating > em.yes_b')[0].text\n",
    "            rank_mean.append([mean]) # 도서 평균 평점\n",
    "        except:\n",
    "            mean = []\n",
    "            rank_mean.append(mean) # 도서 평균 평점\n",
    "        rank_p = []\n",
    "        try:\n",
    "            for k in range(5):\n",
    "                rank_ = soup.select('span.barGraphBase')[k].text # 평점 percentage\n",
    "                rank_p.append(rank_)\n",
    "            rank_percentage.append(rank_p)\n",
    "        except:\n",
    "            rank_ = []\n",
    "            rank_percentage.append(rank_)\n",
    "        try:\n",
    "            review_t = []  # 각각의 책의 리뷰제목 리스트\n",
    "            review_i = []\n",
    "            review_r = []\n",
    "            review_te = []\n",
    "            for page in range(1,3): # 리뷰 페이지 2개\n",
    "                driver.get('http://www.yes24.com/Product/communityModules/GoodsReviewList/{}?Type=ALL&_=1648001707174&Sort=2&PageNumber={}'.format(item, page))\n",
    "                time.sleep(1)\n",
    "                html = driver.page_source\n",
    "                soup = BeautifulSoup(html, 'html.parser')\n",
    "                \n",
    "                blog_link = []\n",
    "                for i in range(5): # 리뷰 한 페이지에 있는 5개 리뷰 가져오기\n",
    "                    try:\n",
    "                        title = soup.select('span.review_tit')[i].text.strip() # 리뷰 제목\n",
    "                        review_t.append(title)\n",
    "                        r_id = soup.select('a.lnk_id')[i].text # 리뷰 id\n",
    "                        review_i.append(r_id)\n",
    "                        rank = soup.select('span.review_rating')[i].text.split('\\n')[1][-2:] # 리뷰 평점\n",
    "                        review_r.append(rank)\n",
    "                        blog_l = soup.select('div.review_lnk a')[i]['href'] # 리뷰 블로그 링크\n",
    "                        blog_link.append(blog_l)\n",
    "                    except:\n",
    "                        pass\n",
    "                for j in range(5): # 리뷰 한 페이지에 있는 5개 블로그 내용 가져오기\n",
    "                        driver.get(blog_link[j]) # 리뷰 블로그 링크 들어가기\n",
    "                        time.sleep(1)\n",
    "                        html = driver.page_source\n",
    "                        soup = BeautifulSoup(html, 'html.parser')\n",
    "                        text = soup.select('div.blogContArea')[0].text # 리뷰 내용 \n",
    "                        review_te.append(text)\n",
    "        except:\n",
    "            pass\n",
    "        review_title.append(review_t)\n",
    "        review_id.append(review_i)\n",
    "        review_rank.append(review_r)\n",
    "        review_text.append(review_te)\n",
    "        isbn_idx.append(isbn)"
   ]
  },
  {
   "cell_type": "code",
   "execution_count": 50,
   "id": "31f1cc47",
   "metadata": {
    "scrolled": true
   },
   "outputs": [
    {
     "data": {
      "text/html": [
       "<div>\n",
       "<style scoped>\n",
       "    .dataframe tbody tr th:only-of-type {\n",
       "        vertical-align: middle;\n",
       "    }\n",
       "\n",
       "    .dataframe tbody tr th {\n",
       "        vertical-align: top;\n",
       "    }\n",
       "\n",
       "    .dataframe thead th {\n",
       "        text-align: right;\n",
       "    }\n",
       "</style>\n",
       "<table border=\"1\" class=\"dataframe\">\n",
       "  <thead>\n",
       "    <tr style=\"text-align: right;\">\n",
       "      <th></th>\n",
       "      <th>isbn</th>\n",
       "      <th>rank_mean</th>\n",
       "      <th>rank_percentage</th>\n",
       "      <th>review_title</th>\n",
       "      <th>review_id</th>\n",
       "      <th>review_rank</th>\n",
       "      <th>review_text</th>\n",
       "    </tr>\n",
       "  </thead>\n",
       "  <tbody>\n",
       "  </tbody>\n",
       "</table>\n",
       "</div>"
      ],
      "text/plain": [
       "Empty DataFrame\n",
       "Columns: [isbn, rank_mean, rank_percentage, review_title, review_id, review_rank, review_text]\n",
       "Index: []"
      ]
     },
     "execution_count": 50,
     "metadata": {},
     "output_type": "execute_result"
    }
   ],
   "source": [
    "col = ['isbn','rank_mean','rank_percentage','review_title','review_id','review_rank','review_text']\n",
    "user = pd.DataFrame([isbn_idx,rank_mean,rank_percentage,review_title,review_id,review_rank,review_text]).T\n",
    "user.columns = col\n",
    "user"
   ]
  },
  {
   "cell_type": "code",
   "execution_count": 48,
   "id": "0d12cb0a",
   "metadata": {},
   "outputs": [],
   "source": [
    "#user.to_pickle('user_1987-1023.pkl', protocol = 4)"
   ]
  },
  {
   "cell_type": "code",
   "execution_count": 32,
   "id": "86b453e9",
   "metadata": {},
   "outputs": [
    {
     "data": {
      "text/plain": [
       "338"
      ]
     },
     "execution_count": 32,
     "metadata": {},
     "output_type": "execute_result"
    }
   ],
   "source": [
    "209+ 129"
   ]
  },
  {
   "cell_type": "code",
   "execution_count": 47,
   "id": "597fe9bc",
   "metadata": {},
   "outputs": [
    {
     "name": "stdout",
     "output_type": "stream",
     "text": [
      "2023\n"
     ]
    }
   ],
   "source": [
    "for i in range(2022,2027):\n",
    "    if isbn13[i] == '9788959139217':\n",
    "        print(i)"
   ]
  },
  {
   "cell_type": "code",
   "execution_count": 22,
   "id": "06d8a545",
   "metadata": {},
   "outputs": [],
   "source": [
    "user1 = pd.read_pickle('user_4209-4338.pkl')\n",
    "user2 = pd.read_pickle('user_4339-4473.pkl')"
   ]
  },
  {
   "cell_type": "code",
   "execution_count": 23,
   "id": "58677f0a",
   "metadata": {},
   "outputs": [
    {
     "data": {
      "text/html": [
       "<div>\n",
       "<style scoped>\n",
       "    .dataframe tbody tr th:only-of-type {\n",
       "        vertical-align: middle;\n",
       "    }\n",
       "\n",
       "    .dataframe tbody tr th {\n",
       "        vertical-align: top;\n",
       "    }\n",
       "\n",
       "    .dataframe thead th {\n",
       "        text-align: right;\n",
       "    }\n",
       "</style>\n",
       "<table border=\"1\" class=\"dataframe\">\n",
       "  <thead>\n",
       "    <tr style=\"text-align: right;\">\n",
       "      <th></th>\n",
       "      <th>rank_mean</th>\n",
       "      <th>rank_percentage</th>\n",
       "      <th>review_title</th>\n",
       "      <th>review_id</th>\n",
       "      <th>review_rank</th>\n",
       "      <th>review_text</th>\n",
       "    </tr>\n",
       "  </thead>\n",
       "  <tbody>\n",
       "    <tr>\n",
       "      <th>0</th>\n",
       "      <td>[9.3]</td>\n",
       "      <td>[67%, 33%, 0%, 0%, 0%]</td>\n",
       "      <td>[공고한 몽매함을 돌파하는 시선, 예찬 - 미셸 투르니에, 유머와 위트로 담아낸 삶...</td>\n",
       "      <td>[필*아, B******k, 은**니, 낙*, t*****a, A***N, 배*훈,...</td>\n",
       "      <td>[5점, 5점, 5점, 5점, 5점, 5점, 4점, 4점, 4점]</td>\n",
       "      <td>[\\n이 에세이(Esse)에는 아홉 개의 챕터, 82편의 글들로 구성되어 있는데, ...</td>\n",
       "    </tr>\n",
       "    <tr>\n",
       "      <th>1</th>\n",
       "      <td>[]</td>\n",
       "      <td>[]</td>\n",
       "      <td>[]</td>\n",
       "      <td>[]</td>\n",
       "      <td>[]</td>\n",
       "      <td>[]</td>\n",
       "    </tr>\n",
       "    <tr>\n",
       "      <th>2</th>\n",
       "      <td>[9.1]</td>\n",
       "      <td>[64%, 32%, 5%, 0%, 0%]</td>\n",
       "      <td>[하루가 어찌 흐르는지, 그럴 땐 바로 토끼시죠 / 지수 / 카멜북스, 그럴땐 바로...</td>\n",
       "      <td>[꼼*, 글***재, 행***활, 져*, t******5, 만*, 미*, 연*지, ...</td>\n",
       "      <td>[4점, 5점, 5점, 5점, 3점, 5점, 5점, 5점, 5점, 5점]</td>\n",
       "      <td>[\\n블로그에 글을 쓰는 건 정말 오랜만이다. 그동안 나는 책을 읽고 리뷰를 쓰겠다...</td>\n",
       "    </tr>\n",
       "    <tr>\n",
       "      <th>3</th>\n",
       "      <td>[9.4]</td>\n",
       "      <td>[67%, 33%, 0%, 0%, 0%]</td>\n",
       "      <td>[배우를 찾습니다, 배우를 찾습니다, 배우를 꿈꾸는 나의 오랜 친구에게 주는 선물.]</td>\n",
       "      <td>[j********7, k*****6, s******1]</td>\n",
       "      <td>[5점, 5점, 4점]</td>\n",
       "      <td>[\\n배우 지망생이라면 Must-Buy(반드시 사야할) 책입니다.\\n \\n이 책은 ...</td>\n",
       "    </tr>\n",
       "    <tr>\n",
       "      <th>4</th>\n",
       "      <td>[8.9]</td>\n",
       "      <td>[62%, 31%, 6%, 0%, 0%]</td>\n",
       "      <td>[직장에서 꼰대는 안 되어야지.(파블 15기 11-6), '나님'을 지키는 나만의 ...</td>\n",
       "      <td>[샨**티, 키*스, J*y, 설*, 미**빈, 쭈**미, 노***리, s*****...</td>\n",
       "      <td>[5점, 4점, 4점, 5점, 5점, 5점, 5점, 5점, 5점, 5점]</td>\n",
       "      <td>[\\n  직장 생활을 오래 하다보면 알게 모르게 꼰대가 되어가는 것은 아닌지 반문하...</td>\n",
       "    </tr>\n",
       "    <tr>\n",
       "      <th>...</th>\n",
       "      <td>...</td>\n",
       "      <td>...</td>\n",
       "      <td>...</td>\n",
       "      <td>...</td>\n",
       "      <td>...</td>\n",
       "      <td>...</td>\n",
       "    </tr>\n",
       "    <tr>\n",
       "      <th>157</th>\n",
       "      <td>[9.5]</td>\n",
       "      <td>[83%, 17%, 0%, 0%, 0%]</td>\n",
       "      <td>[드라이빙 미스 노마, Book_흐름출판&gt;드라이빙 미스 노마, 여행하는 할머니를 통...</td>\n",
       "      <td>[장**장, 올*브, 늘**럼, y*b, 퀸**림, 해*름, k*******2, 구...</td>\n",
       "      <td>[5점, 4점, 4점, 5점, 5점, 5점, 5점, 5점, 5점, 5점]</td>\n",
       "      <td>[\\n드라이빙 미스 노마내가 고등학교 3학년이 되던 1988년 1월,사랑하는 엄마가...</td>\n",
       "    </tr>\n",
       "    <tr>\n",
       "      <th>158</th>\n",
       "      <td>[]</td>\n",
       "      <td>[]</td>\n",
       "      <td>[]</td>\n",
       "      <td>[]</td>\n",
       "      <td>[]</td>\n",
       "      <td>[]</td>\n",
       "    </tr>\n",
       "    <tr>\n",
       "      <th>159</th>\n",
       "      <td>[9.3]</td>\n",
       "      <td>[76%, 24%, 0%, 0%, 0%]</td>\n",
       "      <td>[안타까운 '패자'의 역사. '황하에서 천산까지', 동아시아 소수민족의 역사를 보다...</td>\n",
       "      <td>[백**생, a***6, a******x, q******n, 나**을, 제*스, a...</td>\n",
       "      <td>[5점, 5점, 5점, 5점, 5점, 5점, 4점, 4점, 5점, 5점]</td>\n",
       "      <td>[\\n(몇 년 전의 독후감을 써 온 것인데, 정말 내가 이렇게 썼던가??) \\n\\n...</td>\n",
       "    </tr>\n",
       "    <tr>\n",
       "      <th>160</th>\n",
       "      <td>[]</td>\n",
       "      <td>[]</td>\n",
       "      <td>[]</td>\n",
       "      <td>[]</td>\n",
       "      <td>[]</td>\n",
       "      <td>[]</td>\n",
       "    </tr>\n",
       "    <tr>\n",
       "      <th>161</th>\n",
       "      <td>[9.8]</td>\n",
       "      <td>[93%, 7%, 0%, 0%, 0%]</td>\n",
       "      <td>[]</td>\n",
       "      <td>[]</td>\n",
       "      <td>[]</td>\n",
       "      <td>[]</td>\n",
       "    </tr>\n",
       "  </tbody>\n",
       "</table>\n",
       "<p>209 rows × 6 columns</p>\n",
       "</div>"
      ],
      "text/plain": [
       "    rank_mean         rank_percentage  \\\n",
       "0       [9.3]  [67%, 33%, 0%, 0%, 0%]   \n",
       "1          []                      []   \n",
       "2       [9.1]  [64%, 32%, 5%, 0%, 0%]   \n",
       "3       [9.4]  [67%, 33%, 0%, 0%, 0%]   \n",
       "4       [8.9]  [62%, 31%, 6%, 0%, 0%]   \n",
       "..        ...                     ...   \n",
       "157     [9.5]  [83%, 17%, 0%, 0%, 0%]   \n",
       "158        []                      []   \n",
       "159     [9.3]  [76%, 24%, 0%, 0%, 0%]   \n",
       "160        []                      []   \n",
       "161     [9.8]   [93%, 7%, 0%, 0%, 0%]   \n",
       "\n",
       "                                          review_title  \\\n",
       "0    [공고한 몽매함을 돌파하는 시선, 예찬 - 미셸 투르니에, 유머와 위트로 담아낸 삶...   \n",
       "1                                                   []   \n",
       "2    [하루가 어찌 흐르는지, 그럴 땐 바로 토끼시죠 / 지수 / 카멜북스, 그럴땐 바로...   \n",
       "3      [배우를 찾습니다, 배우를 찾습니다, 배우를 꿈꾸는 나의 오랜 친구에게 주는 선물.]   \n",
       "4    [직장에서 꼰대는 안 되어야지.(파블 15기 11-6), '나님'을 지키는 나만의 ...   \n",
       "..                                                 ...   \n",
       "157  [드라이빙 미스 노마, Book_흐름출판>드라이빙 미스 노마, 여행하는 할머니를 통...   \n",
       "158                                                 []   \n",
       "159  [안타까운 '패자'의 역사. '황하에서 천산까지', 동아시아 소수민족의 역사를 보다...   \n",
       "160                                                 []   \n",
       "161                                                 []   \n",
       "\n",
       "                                             review_id  \\\n",
       "0    [필*아, B******k, 은**니, 낙*, t*****a, A***N, 배*훈,...   \n",
       "1                                                   []   \n",
       "2    [꼼*, 글***재, 행***활, 져*, t******5, 만*, 미*, 연*지, ...   \n",
       "3                      [j********7, k*****6, s******1]   \n",
       "4    [샨**티, 키*스, J*y, 설*, 미**빈, 쭈**미, 노***리, s*****...   \n",
       "..                                                 ...   \n",
       "157  [장**장, 올*브, 늘**럼, y*b, 퀸**림, 해*름, k*******2, 구...   \n",
       "158                                                 []   \n",
       "159  [백**생, a***6, a******x, q******n, 나**을, 제*스, a...   \n",
       "160                                                 []   \n",
       "161                                                 []   \n",
       "\n",
       "                                  review_rank  \\\n",
       "0        [5점, 5점, 5점, 5점, 5점, 5점, 4점, 4점, 4점]   \n",
       "1                                          []   \n",
       "2    [4점, 5점, 5점, 5점, 3점, 5점, 5점, 5점, 5점, 5점]   \n",
       "3                                [5점, 5점, 4점]   \n",
       "4    [5점, 4점, 4점, 5점, 5점, 5점, 5점, 5점, 5점, 5점]   \n",
       "..                                        ...   \n",
       "157  [5점, 4점, 4점, 5점, 5점, 5점, 5점, 5점, 5점, 5점]   \n",
       "158                                        []   \n",
       "159  [5점, 5점, 5점, 5점, 5점, 5점, 4점, 4점, 5점, 5점]   \n",
       "160                                        []   \n",
       "161                                        []   \n",
       "\n",
       "                                           review_text  \n",
       "0    [\\n이 에세이(Esse)에는 아홉 개의 챕터, 82편의 글들로 구성되어 있는데, ...  \n",
       "1                                                   []  \n",
       "2    [\\n블로그에 글을 쓰는 건 정말 오랜만이다. 그동안 나는 책을 읽고 리뷰를 쓰겠다...  \n",
       "3    [\\n배우 지망생이라면 Must-Buy(반드시 사야할) 책입니다.\\n \\n이 책은 ...  \n",
       "4    [\\n  직장 생활을 오래 하다보면 알게 모르게 꼰대가 되어가는 것은 아닌지 반문하...  \n",
       "..                                                 ...  \n",
       "157  [\\n드라이빙 미스 노마내가 고등학교 3학년이 되던 1988년 1월,사랑하는 엄마가...  \n",
       "158                                                 []  \n",
       "159  [\\n(몇 년 전의 독후감을 써 온 것인데, 정말 내가 이렇게 썼던가??) \\n\\n...  \n",
       "160                                                 []  \n",
       "161                                                 []  \n",
       "\n",
       "[209 rows x 6 columns]"
      ]
     },
     "execution_count": 23,
     "metadata": {},
     "output_type": "execute_result"
    }
   ],
   "source": [
    "pd.concat([user1, user2, user3])"
   ]
  },
  {
   "cell_type": "code",
   "execution_count": null,
   "id": "4f545912",
   "metadata": {},
   "outputs": [],
   "source": []
  }
 ],
 "metadata": {
  "kernelspec": {
   "display_name": "Python 3",
   "language": "python",
   "name": "python3"
  },
  "language_info": {
   "codemirror_mode": {
    "name": "ipython",
    "version": 3
   },
   "file_extension": ".py",
   "mimetype": "text/x-python",
   "name": "python",
   "nbconvert_exporter": "python",
   "pygments_lexer": "ipython3",
   "version": "3.8.8"
  }
 },
 "nbformat": 4,
 "nbformat_minor": 5
}
